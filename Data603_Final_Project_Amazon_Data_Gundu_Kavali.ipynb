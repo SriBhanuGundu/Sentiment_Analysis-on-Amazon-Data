{
 "cells": [
  {
   "cell_type": "markdown",
   "id": "33d27de1",
   "metadata": {},
   "source": [
    "# Sentiment Analysis on Amazon data "
   ]
  },
  {
   "cell_type": "markdown",
   "id": "f30e8826",
   "metadata": {},
   "source": [
    "Introduction:\n",
    "    One of the leading online ecommerce websites is Amazon, So, we are working on the datasets of 2016-2018 on electronic products and 2022 products to understand the review analysis of amazon products and understand the amazon data.\n",
    "    "
   ]
  },
  {
   "cell_type": "markdown",
   "id": "a95554b9",
   "metadata": {},
   "source": [
    "## Initializing Spark"
   ]
  },
  {
   "cell_type": "code",
   "execution_count": 1,
   "id": "3cd19f23",
   "metadata": {},
   "outputs": [],
   "source": [
    "import findspark\n",
    "findspark.init() "
   ]
  },
  {
   "cell_type": "code",
   "execution_count": 2,
   "id": "40476db6",
   "metadata": {},
   "outputs": [],
   "source": [
    "import warnings\n",
    "warnings.filterwarnings(\"ignore\", category=FutureWarning)"
   ]
  },
  {
   "cell_type": "code",
   "execution_count": 3,
   "id": "9c3cd63d",
   "metadata": {},
   "outputs": [
    {
     "name": "stdout",
     "output_type": "stream",
     "text": [
      "Requirement already satisfied: missingno in c:\\users\\sribhanuveda\\anaconda3\\lib\\site-packages (0.5.1)\n",
      "Requirement already satisfied: seaborn in c:\\users\\sribhanuveda\\anaconda3\\lib\\site-packages (from missingno) (0.11.1)\n",
      "Requirement already satisfied: scipy in c:\\users\\sribhanuveda\\anaconda3\\lib\\site-packages (from missingno) (1.5.4)\n",
      "Requirement already satisfied: matplotlib in c:\\users\\sribhanuveda\\anaconda3\\lib\\site-packages (from missingno) (3.3.4)\n",
      "Requirement already satisfied: numpy in c:\\users\\sribhanuveda\\anaconda3\\lib\\site-packages (from missingno) (1.19.5)\n",
      "Requirement already satisfied: cycler>=0.10 in c:\\users\\sribhanuveda\\anaconda3\\lib\\site-packages (from matplotlib->missingno) (0.10.0)\n",
      "Requirement already satisfied: pyparsing!=2.0.4,!=2.1.2,!=2.1.6,>=2.0.3 in c:\\users\\sribhanuveda\\anaconda3\\lib\\site-packages (from matplotlib->missingno) (2.4.7)\n",
      "Requirement already satisfied: kiwisolver>=1.0.1 in c:\\users\\sribhanuveda\\anaconda3\\lib\\site-packages (from matplotlib->missingno) (1.3.1)\n",
      "Requirement already satisfied: python-dateutil>=2.1 in c:\\users\\sribhanuveda\\anaconda3\\lib\\site-packages (from matplotlib->missingno) (2.8.1)\n",
      "Requirement already satisfied: pillow>=6.2.0 in c:\\users\\sribhanuveda\\anaconda3\\lib\\site-packages (from matplotlib->missingno) (8.2.0)\n",
      "Requirement already satisfied: six in c:\\users\\sribhanuveda\\anaconda3\\lib\\site-packages (from cycler>=0.10->matplotlib->missingno) (1.15.0)\n",
      "Requirement already satisfied: pandas>=0.23 in c:\\users\\sribhanuveda\\anaconda3\\lib\\site-packages (from seaborn->missingno) (1.2.4)\n",
      "Requirement already satisfied: pytz>=2017.3 in c:\\users\\sribhanuveda\\anaconda3\\lib\\site-packages (from pandas>=0.23->seaborn->missingno) (2021.1)\n"
     ]
    }
   ],
   "source": [
    "!pip install missingno"
   ]
  },
  {
   "cell_type": "code",
   "execution_count": 4,
   "id": "dcb326fd",
   "metadata": {},
   "outputs": [
    {
     "name": "stdout",
     "output_type": "stream",
     "text": [
      "Requirement already satisfied: vaderSentiment in c:\\users\\sribhanuveda\\anaconda3\\lib\\site-packages (3.3.2)\n",
      "Requirement already satisfied: requests in c:\\users\\sribhanuveda\\anaconda3\\lib\\site-packages (from vaderSentiment) (2.27.1)\n",
      "Requirement already satisfied: charset-normalizer~=2.0.0 in c:\\users\\sribhanuveda\\anaconda3\\lib\\site-packages (from requests->vaderSentiment) (2.0.12)\n",
      "Requirement already satisfied: urllib3<1.27,>=1.21.1 in c:\\users\\sribhanuveda\\anaconda3\\lib\\site-packages (from requests->vaderSentiment) (1.26.4)\n",
      "Requirement already satisfied: idna<4,>=2.5 in c:\\users\\sribhanuveda\\anaconda3\\lib\\site-packages (from requests->vaderSentiment) (2.10)\n",
      "Requirement already satisfied: certifi>=2017.4.17 in c:\\users\\sribhanuveda\\anaconda3\\lib\\site-packages (from requests->vaderSentiment) (2021.10.8)\n"
     ]
    }
   ],
   "source": [
    "# Library used for Sentiment Analysis\n",
    "!pip install vaderSentiment"
   ]
  },
  {
   "cell_type": "code",
   "execution_count": 5,
   "id": "bf13cdda",
   "metadata": {},
   "outputs": [],
   "source": [
    "import os\n",
    "import sys\n",
    "#set the path\n",
    "\n",
    "import pyspark\n",
    "import re\n",
    "import string\n",
    "import pandas\n",
    "\n",
    "from sklearn.svm import LinearSVC\n",
    "from wordcloud import WordCloud, STOPWORDS\n",
    "from sklearn.metrics import accuracy_score,classification_report\n",
    "from sklearn.linear_model import SGDClassifier\n",
    "from scipy.sparse import hstack\n",
    "from sklearn.feature_extraction.text import TfidfVectorizer\n",
    "from sklearn.model_selection import train_test_split\n",
    "#import scikitplot as skplt\n",
    "import string\n",
    "import pandas as pd\n",
    "import numpy as np\n",
    "import matplotlib.pyplot as plt\n",
    "import seaborn as sns\n",
    "\n",
    "from pyspark import SparkConf\n",
    "from pyspark import SparkContext\n",
    "from pyspark import HiveContext\n",
    "from pyspark.sql.functions import *\n",
    "from pyspark.sql.types import StringType\n",
    "from pyspark.sql.functions import udf\n",
    "\n",
    "import nltk\n",
    "from nltk.stem.wordnet import WordNetLemmatizer\n",
    "from nltk.corpus import stopwords\n",
    "from nltk import pos_tag\n",
    "\n",
    "%matplotlib inline\n",
    "import pandas as pd\n",
    "import numpy as np\n",
    "import nltk\n",
    "import string\n",
    "import matplotlib.pyplot as plt\n",
    "import numpy as np\n",
    "import string\n",
    "\n",
    "from sklearn.feature_extraction.text import TfidfTransformer\n",
    "from sklearn.feature_extraction.text import CountVectorizer\n",
    "from sklearn.model_selection import train_test_split\n",
    "from sklearn.metrics import confusion_matrix\n",
    "from sklearn import metrics\n",
    "from sklearn.metrics import roc_curve, auc\n",
    "from nltk.stem.porter import PorterStemmer\n",
    "from nltk.corpus import stopwords\n",
    "from nltk import word_tokenize   \n",
    "\n",
    "from pyspark import SparkContext\n",
    "from pyspark import SparkConf\n",
    "from pyspark import SQLContext\n",
    "\n",
    "from pyspark import HiveContext\n",
    "\n",
    "from pyspark.sql.functions import udf\n",
    "from pyspark.sql.types import *\n",
    "from pyspark.sql.types import DoubleType\n",
    "from pyspark.ml.feature import Tokenizer\n",
    "from pyspark.ml.feature import StopWordsRemover\n",
    "from pyspark.ml.feature import HashingTF, IDF\n",
    "from pyspark.ml.classification import LogisticRegression, NaiveBayes, GBTClassifier\n",
    "from pyspark.mllib.classification import LogisticRegressionWithLBFGS, LogisticRegressionModel,LogisticRegressionWithSGD\n",
    "from pyspark.mllib.regression import LabeledPoint\n",
    "from pyspark.ml import Pipeline\n",
    "from pyspark.ml.tuning import CrossValidator, ParamGridBuilder\n",
    "from pyspark.ml.evaluation import MulticlassClassificationEvaluator\n",
    "from pyspark.ml.evaluation import BinaryClassificationEvaluator\n",
    "from pyspark.ml.classification import DecisionTreeClassifier\n",
    "from pyspark.ml.feature import StringIndexer, VectorIndexer\n",
    "from vaderSentiment import vaderSentiment\n",
    "from pyspark.ml.feature import NGram\n",
    "import matplotlib\n",
    "matplotlib.style.use('ggplot')\n",
    "import plotly.express as px"
   ]
  },
  {
   "cell_type": "markdown",
   "id": "16d73108",
   "metadata": {},
   "source": [
    "### Spark Congiguration to access data from 2022 products of Amazon from Mongo db\n",
    "Initially the file had 28 MB of data is uploaded into the Mongodb and the bson format data is loaded."
   ]
  },
  {
   "cell_type": "code",
   "execution_count": 6,
   "id": "c1cf404a",
   "metadata": {},
   "outputs": [],
   "source": [
    "from pyspark import SparkConf\n",
    "from pyspark.sql import SparkSession\n",
    "from pyspark.sql.functions import *\n",
    "from pyspark.sql.types import *\n",
    "\n",
    "working_directory = 'jars/*'\n",
    "\n",
    "my_spark = SparkSession \\\n",
    "    .builder \\\n",
    "    .appName(\"myApp\") \\\n",
    "    .config(\"spark.mongodb.input.uri=mongodb://127.0.0.1/AmazonReviews.Products\") \\\n",
    "    .config(\"spark.mongodb.output.uri=mongodb://127.0.0.1/AmazonReviews.Products\") \\\n",
    "    .config('spark.driver.extraClassPath', working_directory) \\\n",
    "    .getOrCreate()"
   ]
  },
  {
   "cell_type": "markdown",
   "id": "9b009aea",
   "metadata": {},
   "source": [
    "Reading data from MongoDB:\n",
    "\n",
    "Database: AmazonReviews\n",
    "\n",
    "Collection: Products"
   ]
  },
  {
   "cell_type": "code",
   "execution_count": 7,
   "id": "863cec43",
   "metadata": {},
   "outputs": [],
   "source": [
    "# Reading data from database - MongoDB\n",
    "df = my_spark.read.format(\"com.mongodb.spark.sql.DefaultSource\").option(\"Database\", \"AmazonReviews\").option(\"Collection\", \"Products\").load()"
   ]
  },
  {
   "cell_type": "code",
   "execution_count": 8,
   "id": "b872cf77",
   "metadata": {},
   "outputs": [
    {
     "name": "stdout",
     "output_type": "stream",
     "text": [
      "+--------------------+--------------------------------+---------------------+------------------------------+--------------------+-------------------------------------------+------------+-------------------------+----------------------------+-----------------+-------+--------------------+--------------------+--------------------+--------------------+\n",
      "|                 _id|amazon_category_and_sub_category|average_review_rating|customer_questions_and_answers|         description|items_customers_buy_after_viewing_this_item|manufacturer|number_available_in_stock|number_of_answered_questions|number_of_reviews|  price| product_description| product_information|        product_name|             uniq_id|\n",
      "+--------------------+--------------------------------+---------------------+------------------------------+--------------------+-------------------------------------------+------------+-------------------------+----------------------------+-----------------+-------+--------------------+--------------------+--------------------+--------------------+\n",
      "|[627d424b66d833ad...|            Hobbies > Model T...|   4.9 out of 5 stars|          Does this catalog...|Product Descripti...|                       http://www.amazon...|      Hornby|                    5 new|                           1|               15|  £3.42|Product Descripti...|Technical Details...|Hornby 2014 Catal...|eac7efa5dbd3d667f...|\n",
      "|[627d424b66d833ad...|            Hobbies > Model T...|   4.5 out of 5 stars|          can you turn off ...|Size Name:Large F...|                       http://www.amazon...|   FunkyBuys|                     null|                           1|                2| £16.99|Size Name:Large F...|Technical Details...|FunkyBuys® Large ...|b17540ef7e86e461d...|\n",
      "|[627d424b66d833ad...|            Hobbies > Model T...|   3.9 out of 5 stars|          What is the gauge...|BIG CLASSIC TOY T...|                       http://www.amazon...|         ccf|                    2 new|                           2|               17|  £9.99|BIG CLASSIC TOY T...|Technical Details...|CLASSIC TOY TRAIN...|348f344247b0c1a93...|\n",
      "|[627d424b66d833ad...|            Hobbies > Model T...|   5.0 out of 5 stars|                          null|Hornby 00 Gauge B...|                                       null|      Hornby|                     null|                           2|                1| £39.99|Hornby 00 Gauge B...|Technical Details...|HORNBY Coach R441...|e12b92dbb8eaee78b...|\n",
      "|[627d424b66d833ad...|            Hobbies > Model T...|   4.7 out of 5 stars|                          null|Product Descripti...|                       http://www.amazon...|      Hornby|                     null|                           2|                3| £32.19|Product Descripti...|Technical Details...|Hornby 00 Gauge 0...|e33a9adeed5f36840...|\n",
      "|[627d424b66d833ad...|            Hobbies > Model T...|   5.0 out of 5 stars|          is it possible to...|These delicate mo...|                       http://www.amazon...|     Generic|                     null|                           1|                2|  £6.99|These delicate mo...|Technical Details...|20pcs Model Garde...|cb34f0a84102c1ebc...|\n",
      "|[627d424b66d833ad...|            Hobbies > Model T...|   4.5 out of 5 stars|                          null|Product Descripti...|                                       null|      Hornby|                     null|                           1|                2| £24.99|Product Descripti...|Technical Details...|Hornby 00 Gauge 2...|f74b562470571dfb6...|\n",
      "|[627d424b66d833ad...|            Hobbies > Model T...|   4.3 out of 5 stars|          Can this train go...|Product Descripti...|                       http://www.amazon...|      Hornby|                    3 new|                           7|               36| £69.93|Product Descripti...|Technical Details...|Hornby Santa's Ex...|87bbb472ef9d90dce...|\n",
      "|[627d424b66d833ad...|            Hobbies > Model T...|   5.0 out of 5 stars|          The description i...|Western Express D...|                       http://www.amazon...|      Hornby|                    4 new|                           1|                1|£235.58|Western Express D...|Technical Details...|Hornby Gauge West...|7e2aa2b4596a39ba8...|\n",
      "|[627d424b66d833ad...|            Hobbies > Model T...|   4.8 out of 5 stars|                          null|Product Descripti...|                       http://www.amazon...| Chuggington|                    1 new|                           1|                8|   null|Product Descripti...|Technical Details...|Learning Curve Ch...|5afbaf65680c9f378...|\n",
      "|[627d424b66d833ad...|            Hobbies > Model T...|   5.0 out of 5 stars|                          null|Product Descripti...|                       http://www.amazon...|      Hornby|                    6 new|                           1|                1| £27.49|Product Descripti...|Technical Details...|Hornby Gauge Rail...|5c76389a8c302c6d7...|\n",
      "|[627d424b66d833ad...|            Hobbies > Model T...|   5.0 out of 5 stars|                          null|Suitable for the ...|                                       null|  Kato (USA)|                     null|                           1|                1|£273.60|Suitable for the ...|Technical Details...|Kato (USA) 176-13...|878048c41f3c249ba...|\n",
      "|[627d424b66d833ad...|            Hobbies > Model T...|   5.0 out of 5 stars|                          null|Suitable for the ...|                                       null|    Bachmann|                    2 new|                           1|                1|  £9.60|Suitable for the ...|Technical Details...|Bachmann 37-662 1...|f910c6542ededa5ab...|\n",
      "|[627d424b66d833ad...|            Hobbies > Model T...|   5.0 out of 5 stars|                          null|Product Descripti...|                                       null|      Hornby|                    2 new|                           1|                3|£119.50|Product Descripti...|Technical Details...|Hornby 00 Gauge 2...|03a35de3f7af98149...|\n",
      "|[627d424b66d833ad...|            Hobbies > Model T...|   5.0 out of 5 stars|                          null|Suitable for the ...|                                       null|        Kato|                   18 new|                           1|                1|   null|Suitable for the ...|Technical Details...|Kato 3060-2 EF65 ...|c68c3ae3b0ea3146b...|\n",
      "|[627d424b66d833ad...|            Hobbies > Model T...|   5.0 out of 5 stars|                          null|From 8-year-old: ...|                       http://www.amazon...|        Kato|                   12 new|                           1|                1|   null|From 8-year-old: ...|Technical Details...|Glacier Express o...|d27964f50577db8e4...|\n",
      "|[627d424b66d833ad...|            Hobbies > Model T...|   4.5 out of 5 stars|                          null|Product Descripti...|                       http://www.amazon...|Power Trains|                    2 new|                           1|                2|   null|Product Descripti...|Technical Details...|Power Trains Frei...|c3b2f6ec9cf6250c9...|\n",
      "|[627d424b66d833ad...|            Hobbies > Model T...|   4.0 out of 5 stars|                          null|Product Descripti...|                       http://www.amazon...| Chuggington|                   1 used|                           1|                2|   null|Product Descripti...|Technical Details...|Chuggington Inter...|e9ef14a0253f07434...|\n",
      "|[627d424b66d833ad...|            Hobbies > Model T...|   4.0 out of 5 stars|                          null|       Japanese toys|                                       null|        Kato|                   26 new|                           1|                1| £17.08|       Japanese toys|Technical Details...|Kumoyuni 74-0 Sho...|0ca63377ca8015e58...|\n",
      "|[627d424b66d833ad...|            Hobbies > Model T...|   5.0 out of 5 stars|                          null|Suitable for the ...|                                       null|    Bachmann|                    2 new|                           1|                1| £96.05|Suitable for the ...|Technical Details...|Bachmann 31-588 F...|42d20aa25e5902eff...|\n",
      "+--------------------+--------------------------------+---------------------+------------------------------+--------------------+-------------------------------------------+------------+-------------------------+----------------------------+-----------------+-------+--------------------+--------------------+--------------------+--------------------+\n",
      "only showing top 20 rows\n",
      "\n"
     ]
    }
   ],
   "source": [
    "#dataframe 20 rows using show()\n",
    "df.show()"
   ]
  },
  {
   "cell_type": "code",
   "execution_count": 9,
   "id": "05ff0571",
   "metadata": {},
   "outputs": [
    {
     "data": {
      "text/plain": [
       "['_id',\n",
       " 'amazon_category_and_sub_category',\n",
       " 'average_review_rating',\n",
       " 'customer_questions_and_answers',\n",
       " 'description',\n",
       " 'items_customers_buy_after_viewing_this_item',\n",
       " 'manufacturer',\n",
       " 'number_available_in_stock',\n",
       " 'number_of_answered_questions',\n",
       " 'number_of_reviews',\n",
       " 'price',\n",
       " 'product_description',\n",
       " 'product_information',\n",
       " 'product_name',\n",
       " 'uniq_id']"
      ]
     },
     "execution_count": 9,
     "metadata": {},
     "output_type": "execute_result"
    }
   ],
   "source": [
    "# columns of the dataframe\n",
    "df.columns"
   ]
  },
  {
   "cell_type": "markdown",
   "id": "78a73005",
   "metadata": {},
   "source": [
    "## Data Cleaning"
   ]
  },
  {
   "cell_type": "code",
   "execution_count": 10,
   "id": "7d213ea4",
   "metadata": {},
   "outputs": [
    {
     "data": {
      "text/plain": [
       "Row(customer_questions_and_answers=9089, description=652, items_customers_buy_after_viewing_this_item=3068, manufacturer=8, number_available_in_stock=2502, number_of_answered_questions=767, number_of_reviews=20, price=1437, product_description=653, product_information=61, product_name=2, uniq_id=2)"
      ]
     },
     "execution_count": 10,
     "metadata": {},
     "output_type": "execute_result"
    }
   ],
   "source": [
    "# Finding missing values in the dataframe\n",
    "from pyspark.sql.functions import isnan, when, count, col\n",
    "missing = df.select([count(when(isnan(c) | col(c).isNull(), c)).alias(c) for c in df.columns[3:]])\n",
    "missing.head()"
   ]
  },
  {
   "cell_type": "code",
   "execution_count": 11,
   "id": "f41dff34",
   "metadata": {},
   "outputs": [
    {
     "name": "stdout",
     "output_type": "stream",
     "text": [
      "+------------------------------+-----------+-------------------------------------------+------------+-------------------------+----------------------------+-----------------+-----+-------------------+-------------------+------------+-------+\n",
      "|customer_questions_and_answers|description|items_customers_buy_after_viewing_this_item|manufacturer|number_available_in_stock|number_of_answered_questions|number_of_reviews|price|product_description|product_information|product_name|uniq_id|\n",
      "+------------------------------+-----------+-------------------------------------------+------------+-------------------------+----------------------------+-----------------+-----+-------------------+-------------------+------------+-------+\n",
      "|                          9089|        652|                                       3068|           8|                     2502|                         767|               20| 1437|                653|                 61|           2|      2|\n",
      "+------------------------------+-----------+-------------------------------------------+------------+-------------------------+----------------------------+-----------------+-----+-------------------+-------------------+------------+-------+\n",
      "\n"
     ]
    }
   ],
   "source": [
    "missing.show()"
   ]
  },
  {
   "cell_type": "code",
   "execution_count": 12,
   "id": "dae593db",
   "metadata": {},
   "outputs": [
    {
     "data": {
      "text/plain": [
       "<AxesSubplot:>"
      ]
     },
     "execution_count": 12,
     "metadata": {},
     "output_type": "execute_result"
    },
    {
     "data": {
      "image/png": "[encoded data removed]",
      "text/plain": [
       "<Figure size 1800x720 with 3 Axes>"
      ]
     },
     "metadata": {},
     "output_type": "display_data"
    }
   ],
   "source": [
    "# Represntation of missing values\n",
    "import missingno as msno\n",
    "msno.bar(df.toPandas())"
   ]
  },
  {
   "cell_type": "code",
   "execution_count": 13,
   "id": "37ac4526",
   "metadata": {},
   "outputs": [
    {
     "data": {
      "text/plain": [
       "<AxesSubplot:>"
      ]
     },
     "execution_count": 13,
     "metadata": {},
     "output_type": "execute_result"
    },
    {
     "data": {
      "image/png": "[encoded data removed]",
      "text/plain": [
       "<Figure size 1440x864 with 2 Axes>"
      ]
     },
     "metadata": {},
     "output_type": "display_data"
    }
   ],
   "source": [
    "# Heatmap for missing values\n",
    "msno.heatmap(df.toPandas())"
   ]
  },
  {
   "cell_type": "markdown",
   "id": "c3b2ff72",
   "metadata": {},
   "source": [
    "Visualizing the data to understand insights from the data through Pandas library"
   ]
  },
  {
   "cell_type": "code",
   "execution_count": 14,
   "id": "30515521",
   "metadata": {},
   "outputs": [],
   "source": [
    "df1 = df.toPandas()"
   ]
  },
  {
   "cell_type": "code",
   "execution_count": 15,
   "id": "ac79c070",
   "metadata": {
    "scrolled": true
   },
   "outputs": [
    {
     "data": {
      "text/html": [
       "<div>\n",
       "<style scoped>\n",
       "    .dataframe tbody tr th:only-of-type {\n",
       "        vertical-align: middle;\n",
       "    }\n",
       "\n",
       "    .dataframe tbody tr th {\n",
       "        vertical-align: top;\n",
       "    }\n",
       "\n",
       "    .dataframe thead th {\n",
       "        text-align: right;\n",
       "    }\n",
       "</style>\n",
       "<table border=\"1\" class=\"dataframe\">\n",
       "  <thead>\n",
       "    <tr style=\"text-align: right;\">\n",
       "      <th></th>\n",
       "      <th>_id</th>\n",
       "      <th>amazon_category_and_sub_category</th>\n",
       "      <th>average_review_rating</th>\n",
       "      <th>customer_questions_and_answers</th>\n",
       "      <th>description</th>\n",
       "      <th>items_customers_buy_after_viewing_this_item</th>\n",
       "      <th>manufacturer</th>\n",
       "      <th>number_available_in_stock</th>\n",
       "      <th>number_of_answered_questions</th>\n",
       "      <th>number_of_reviews</th>\n",
       "      <th>price</th>\n",
       "      <th>product_description</th>\n",
       "      <th>product_information</th>\n",
       "      <th>product_name</th>\n",
       "      <th>uniq_id</th>\n",
       "    </tr>\n",
       "  </thead>\n",
       "  <tbody>\n",
       "    <tr>\n",
       "      <th>0</th>\n",
       "      <td>(627d424b66d833ad31566bfe,)</td>\n",
       "      <td>Hobbies &gt; Model Trains &amp; Railway Sets &gt; Rail V...</td>\n",
       "      <td>4.9 out of 5 stars</td>\n",
       "      <td>Does this catalogue detail all the previous Ho...</td>\n",
       "      <td>Product Description Hornby 2014 Catalogue Box ...</td>\n",
       "      <td>http://www.amazon.co.uk/Hornby-R8150-Catalogue...</td>\n",
       "      <td>Hornby</td>\n",
       "      <td>5 new</td>\n",
       "      <td>1</td>\n",
       "      <td>15</td>\n",
       "      <td>£3.42</td>\n",
       "      <td>Product Description Hornby 2014 Catalogue Box ...</td>\n",
       "      <td>Technical Details Item Weight640 g Product Dim...</td>\n",
       "      <td>Hornby 2014 Catalogue</td>\n",
       "      <td>eac7efa5dbd3d667f26eb3d3ab504464</td>\n",
       "    </tr>\n",
       "    <tr>\n",
       "      <th>1</th>\n",
       "      <td>(627d424b66d833ad31566bff,)</td>\n",
       "      <td>Hobbies &gt; Model Trains &amp; Railway Sets &gt; Rail V...</td>\n",
       "      <td>4.5 out of 5 stars</td>\n",
       "      <td>can you turn off sounds // hi no you cant turn...</td>\n",
       "      <td>Size Name:Large FunkyBuys® Large Christmas Hol...</td>\n",
       "      <td>http://www.amazon.co.uk/Christmas-Holiday-Expr...</td>\n",
       "      <td>FunkyBuys</td>\n",
       "      <td>None</td>\n",
       "      <td>1</td>\n",
       "      <td>2</td>\n",
       "      <td>£16.99</td>\n",
       "      <td>Size Name:Large FunkyBuys® Large Christmas Hol...</td>\n",
       "      <td>Technical Details Manufacturer recommended age...</td>\n",
       "      <td>FunkyBuys® Large Christmas Holiday Express Fes...</td>\n",
       "      <td>b17540ef7e86e461d37f3ae58b7b72ac</td>\n",
       "    </tr>\n",
       "    <tr>\n",
       "      <th>2</th>\n",
       "      <td>(627d424b66d833ad31566c00,)</td>\n",
       "      <td>Hobbies &gt; Model Trains &amp; Railway Sets &gt; Rail V...</td>\n",
       "      <td>3.9 out of 5 stars</td>\n",
       "      <td>What is the gauge of the track // Hi Paul.Trut...</td>\n",
       "      <td>BIG CLASSIC TOY TRAIN SET TRACK CARRIAGE LIGHT...</td>\n",
       "      <td>http://www.amazon.co.uk/Train-With-Tracks-Batt...</td>\n",
       "      <td>ccf</td>\n",
       "      <td>2 new</td>\n",
       "      <td>2</td>\n",
       "      <td>17</td>\n",
       "      <td>£9.99</td>\n",
       "      <td>BIG CLASSIC TOY TRAIN SET TRACK CARRIAGE LIGHT...</td>\n",
       "      <td>Technical Details Manufacturer recommended age...</td>\n",
       "      <td>CLASSIC TOY TRAIN SET TRACK CARRIAGES LIGHT EN...</td>\n",
       "      <td>348f344247b0c1a935b1223072ef9d8a</td>\n",
       "    </tr>\n",
       "    <tr>\n",
       "      <th>3</th>\n",
       "      <td>(627d424b66d833ad31566c01,)</td>\n",
       "      <td>Hobbies &gt; Model Trains &amp; Railway Sets &gt; Rail V...</td>\n",
       "      <td>5.0 out of 5 stars</td>\n",
       "      <td>None</td>\n",
       "      <td>Hornby 00 Gauge BR Hawksworth 3rd Class W 2107...</td>\n",
       "      <td>None</td>\n",
       "      <td>Hornby</td>\n",
       "      <td>None</td>\n",
       "      <td>2</td>\n",
       "      <td>1</td>\n",
       "      <td>£39.99</td>\n",
       "      <td>Hornby 00 Gauge BR Hawksworth 3rd Class W 2107...</td>\n",
       "      <td>Technical Details Item Weight259 g Product Dim...</td>\n",
       "      <td>HORNBY Coach R4410A BR Hawksworth Corridor 3rd</td>\n",
       "      <td>e12b92dbb8eaee78b22965d2a9bbbd9f</td>\n",
       "    </tr>\n",
       "    <tr>\n",
       "      <th>4</th>\n",
       "      <td>(627d424b66d833ad31566c02,)</td>\n",
       "      <td>Hobbies &gt; Model Trains &amp; Railway Sets &gt; Rail V...</td>\n",
       "      <td>4.7 out of 5 stars</td>\n",
       "      <td>None</td>\n",
       "      <td>Product Description Hornby RailRoad 0-4-0 Gild...</td>\n",
       "      <td>http://www.amazon.co.uk/Hornby-R2672-RailRoad-...</td>\n",
       "      <td>Hornby</td>\n",
       "      <td>None</td>\n",
       "      <td>2</td>\n",
       "      <td>3</td>\n",
       "      <td>£32.19</td>\n",
       "      <td>Product Description Hornby RailRoad 0-4-0 Gild...</td>\n",
       "      <td>Technical Details Item Weight159 g Product Dim...</td>\n",
       "      <td>Hornby 00 Gauge 0-4-0 Gildenlow Salt Co. Steam...</td>\n",
       "      <td>e33a9adeed5f36840ccc227db4682a36</td>\n",
       "    </tr>\n",
       "  </tbody>\n",
       "</table>\n",
       "</div>"
      ],
      "text/plain": [
       "                           _id  \\\n",
       "0  (627d424b66d833ad31566bfe,)   \n",
       "1  (627d424b66d833ad31566bff,)   \n",
       "2  (627d424b66d833ad31566c00,)   \n",
       "3  (627d424b66d833ad31566c01,)   \n",
       "4  (627d424b66d833ad31566c02,)   \n",
       "\n",
       "                    amazon_category_and_sub_category average_review_rating  \\\n",
       "0  Hobbies > Model Trains & Railway Sets > Rail V...    4.9 out of 5 stars   \n",
       "1  Hobbies > Model Trains & Railway Sets > Rail V...    4.5 out of 5 stars   \n",
       "2  Hobbies > Model Trains & Railway Sets > Rail V...    3.9 out of 5 stars   \n",
       "3  Hobbies > Model Trains & Railway Sets > Rail V...    5.0 out of 5 stars   \n",
       "4  Hobbies > Model Trains & Railway Sets > Rail V...    4.7 out of 5 stars   \n",
       "\n",
       "                      customer_questions_and_answers  \\\n",
       "0  Does this catalogue detail all the previous Ho...   \n",
       "1  can you turn off sounds // hi no you cant turn...   \n",
       "2  What is the gauge of the track // Hi Paul.Trut...   \n",
       "3                                               None   \n",
       "4                                               None   \n",
       "\n",
       "                                         description  \\\n",
       "0  Product Description Hornby 2014 Catalogue Box ...   \n",
       "1  Size Name:Large FunkyBuys® Large Christmas Hol...   \n",
       "2  BIG CLASSIC TOY TRAIN SET TRACK CARRIAGE LIGHT...   \n",
       "3  Hornby 00 Gauge BR Hawksworth 3rd Class W 2107...   \n",
       "4  Product Description Hornby RailRoad 0-4-0 Gild...   \n",
       "\n",
       "         items_customers_buy_after_viewing_this_item manufacturer  \\\n",
       "0  http://www.amazon.co.uk/Hornby-R8150-Catalogue...       Hornby   \n",
       "1  http://www.amazon.co.uk/Christmas-Holiday-Expr...    FunkyBuys   \n",
       "2  http://www.amazon.co.uk/Train-With-Tracks-Batt...          ccf   \n",
       "3                                               None       Hornby   \n",
       "4  http://www.amazon.co.uk/Hornby-R2672-RailRoad-...       Hornby   \n",
       "\n",
       "  number_available_in_stock number_of_answered_questions number_of_reviews  \\\n",
       "0                     5 new                            1                15   \n",
       "1                      None                            1                 2   \n",
       "2                     2 new                            2                17   \n",
       "3                      None                            2                 1   \n",
       "4                      None                            2                 3   \n",
       "\n",
       "    price                                product_description  \\\n",
       "0   £3.42  Product Description Hornby 2014 Catalogue Box ...   \n",
       "1  £16.99  Size Name:Large FunkyBuys® Large Christmas Hol...   \n",
       "2   £9.99  BIG CLASSIC TOY TRAIN SET TRACK CARRIAGE LIGHT...   \n",
       "3  £39.99  Hornby 00 Gauge BR Hawksworth 3rd Class W 2107...   \n",
       "4  £32.19  Product Description Hornby RailRoad 0-4-0 Gild...   \n",
       "\n",
       "                                 product_information  \\\n",
       "0  Technical Details Item Weight640 g Product Dim...   \n",
       "1  Technical Details Manufacturer recommended age...   \n",
       "2  Technical Details Manufacturer recommended age...   \n",
       "3  Technical Details Item Weight259 g Product Dim...   \n",
       "4  Technical Details Item Weight159 g Product Dim...   \n",
       "\n",
       "                                        product_name  \\\n",
       "0                              Hornby 2014 Catalogue   \n",
       "1  FunkyBuys® Large Christmas Holiday Express Fes...   \n",
       "2  CLASSIC TOY TRAIN SET TRACK CARRIAGES LIGHT EN...   \n",
       "3     HORNBY Coach R4410A BR Hawksworth Corridor 3rd   \n",
       "4  Hornby 00 Gauge 0-4-0 Gildenlow Salt Co. Steam...   \n",
       "\n",
       "                            uniq_id  \n",
       "0  eac7efa5dbd3d667f26eb3d3ab504464  \n",
       "1  b17540ef7e86e461d37f3ae58b7b72ac  \n",
       "2  348f344247b0c1a935b1223072ef9d8a  \n",
       "3  e12b92dbb8eaee78b22965d2a9bbbd9f  \n",
       "4  e33a9adeed5f36840ccc227db4682a36  "
      ]
     },
     "execution_count": 15,
     "metadata": {},
     "output_type": "execute_result"
    }
   ],
   "source": [
    "df1.head()"
   ]
  },
  {
   "cell_type": "code",
   "execution_count": 16,
   "id": "43c39a44",
   "metadata": {},
   "outputs": [
    {
     "data": {
      "text/plain": [
       "10004"
      ]
     },
     "execution_count": 16,
     "metadata": {},
     "output_type": "execute_result"
    }
   ],
   "source": [
    "df1.shape[0]"
   ]
  },
  {
   "cell_type": "code",
   "execution_count": 17,
   "id": "4979f117",
   "metadata": {},
   "outputs": [
    {
     "data": {
      "text/plain": [
       "array(['15', '2', '17', '1', '3', '36', '8', '21', '4', '5', '19', '53',\n",
       "       '6', '38', '10', '7', '0', '9', '13', '18', '97', '28', '12', '67',\n",
       "       '81', '23', '41', '11', '16', '45', '42', '32', '27', '40', '31',\n",
       "       '35', '29', '120', '33', '26', '24', '85', '25', '43', '138', '82',\n",
       "       '46', '14', '72', '22', '106', '76', '420', '160', '39', '30',\n",
       "       '199', '129', '56', '291', '87', '86', '20', '34', '142', '92',\n",
       "       '55', '64', '77', '243', '130', '68', '253', '101', '102', '122',\n",
       "       '73', '118', '145', '381', '802', '299', '59', '518', '158', '44',\n",
       "       '98', '58', '47', '600', '57', '50', '78', '94', '51', '37', '210',\n",
       "       '165', '103', '185', '116', '149', '168', '71', '649', '265',\n",
       "       '355', '79', '100', '83', '61', '48', '70', '65', '49', '54', '66',\n",
       "       '60', '238', '133', '88', '110', '117', '109', '127', '63', '111',\n",
       "       '141', '99', '204', '124', '95', '220', '137', '90', '172', '134',\n",
       "       '115', '80', '91', '125', '119', '131', '146', '517', '512', '151',\n",
       "       '62', '113', '104', '108', '126', '75', '107', '183', '313', '139',\n",
       "       '230', '93', '181', '114', '52', '74', '96', '561', '144', '147',\n",
       "       '128', '136', '105', '585', '156', '155', '516', '112', '200',\n",
       "       '379', '177', '132', '69', '140', '1,040', '337', '164', '193',\n",
       "       '1,399', '690', '123', '263', '249', '287', '202', '304', '262',\n",
       "       '241'], dtype=object)"
      ]
     },
     "execution_count": 17,
     "metadata": {},
     "output_type": "execute_result"
    }
   ],
   "source": [
    "# Filling the values of number_of_reviews column as 0\n",
    "import pandas as pd\n",
    "df2 = pd.concat([df1[:2003],df1[2010:]])\n",
    "df2['number_of_reviews'] = df2['number_of_reviews'].fillna('0')\n",
    "df2['number_of_reviews'].unique()"
   ]
  },
  {
   "cell_type": "code",
   "execution_count": 18,
   "id": "8bd4ff0a",
   "metadata": {},
   "outputs": [],
   "source": [
    "# Considering the threshold value as 70% and dropping the columns\n",
    "missing_perc = 70.0 \n",
    "min_count =  int(((100 - missing_perc)/100) * df1.shape[1] + 1)\n",
    "df_new = df2.dropna(axis = 1, thresh = min_count)"
   ]
  },
  {
   "cell_type": "markdown",
   "id": "2decae3a",
   "metadata": {},
   "source": [
    "Maping amazon categories and subcategories."
   ]
  },
  {
   "cell_type": "code",
   "execution_count": 19,
   "id": "ece6586b",
   "metadata": {},
   "outputs": [
    {
     "data": {
      "text/plain": [
       "3    3986\n",
       "2    3923\n",
       "4    1312\n",
       "0     691\n",
       "5      85\n",
       "Name: amazon_category_and_sub_category, dtype: int64"
      ]
     },
     "execution_count": 19,
     "metadata": {},
     "output_type": "execute_result"
    }
   ],
   "source": [
    "import numpy as np\n",
    "import pandas as pd\n",
    "def mapcategories(srs):\n",
    "    if pd.isnull(srs):\n",
    "        return []\n",
    "    else:\n",
    "        return [cat.strip() for cat in srs.split(\">\")]\n",
    "    \n",
    "category_lists = df2['amazon_category_and_sub_category'].apply(mapcategories)\n",
    "category_lists.map(lambda lst: len(lst)).value_counts()"
   ]
  },
  {
   "cell_type": "markdown",
   "id": "da9a5904",
   "metadata": {},
   "source": [
    "## Exploratory Data Analysis"
   ]
  },
  {
   "cell_type": "markdown",
   "id": "22ce32ef",
   "metadata": {},
   "source": [
    "From average review rating, visualizing the reviews average for the questions asked"
   ]
  },
  {
   "cell_type": "code",
   "execution_count": 20,
   "id": "72d38c61",
   "metadata": {},
   "outputs": [
    {
     "name": "stdout",
     "output_type": "stream",
     "text": [
      "+---------------------+-----------------------------------+\n",
      "|average_review_rating|avg(customer_questions_and_answers)|\n",
      "+---------------------+-----------------------------------+\n",
      "|   3.5 out of 5 stars|                              156.5|\n",
      "| {\"\"text\"\":\"\"Amazo...|                               27.0|\n",
      "|                 null|                              121.0|\n",
      "|   4.2 out of 5 stars|                  490.8333333333333|\n",
      "|   3.7 out of 5 stars|                               null|\n",
      "|   4.1 out of 5 stars|                  482.3333333333333|\n",
      "|   3.9 out of 5 stars|                              400.0|\n",
      "|   4.9 out of 5 stars|                  317.7413793103448|\n",
      "|   2.3 out of 5 stars|                               null|\n",
      "|   3.8 out of 5 stars|                               null|\n",
      "|   3.3 out of 5 stars|                              413.0|\n",
      "|   4.0 out of 5 stars|                  301.3970588235294|\n",
      "|   3.6 out of 5 stars|                               null|\n",
      "|   4.5 out of 5 stars|                  337.9431818181818|\n",
      "|   4.7 out of 5 stars|                 449.79787234042556|\n",
      "|   4.6 out of 5 stars|                   407.027397260274|\n",
      "|   4.3 out of 5 stars|                  418.2089552238806|\n",
      "|   4.4 out of 5 stars|                 476.04615384615386|\n",
      "|   4.8 out of 5 stars|                  436.1041666666667|\n",
      "|   5.0 out of 5 stars|                 216.41517857142858|\n",
      "+---------------------+-----------------------------------+\n",
      "only showing top 20 rows\n",
      "\n"
     ]
    }
   ],
   "source": [
    "# Grouping data to know the number of questions posed on the rating\n",
    "from pyspark.sql.functions import length\n",
    "df.withColumn('customer_questions_and_answers', length('customer_questions_and_answers')).groupBy('average_review_rating').avg('customer_questions_and_answers').show()"
   ]
  },
  {
   "cell_type": "markdown",
   "id": "51091615",
   "metadata": {},
   "source": [
    "Directed graphs are used to inderstand the categorical data and assigning nodes to it."
   ]
  },
  {
   "cell_type": "code",
   "execution_count": 21,
   "id": "eda4c3e0",
   "metadata": {},
   "outputs": [
    {
     "name": "stdout",
     "output_type": "stream",
     "text": [
      "The number of categorical links possible is 324.\n"
     ]
    }
   ],
   "source": [
    "# Finding number of links possible with first edge using the direct graph\n",
    "import networkx as nx\n",
    "DG = nx.DiGraph()\n",
    "\n",
    "category_lists.map(lambda cats: DG.add_nodes_from(cats))\n",
    "category_lists.map(lambda cats: [DG.add_edge(cats[i], cats[i + 1]) for i in range(len(cats) - 1)])\n",
    "\n",
    "print(\"The number of categorical links possible is {0}.\".format(len(DG.edges())))"
   ]
  },
  {
   "cell_type": "code",
   "execution_count": 22,
   "id": "b8fd886c",
   "metadata": {},
   "outputs": [
    {
     "name": "stdout",
     "output_type": "stream",
     "text": [
      "There are 43 top root categories.\n",
      "There are 235 bottom leaf categories.\n"
     ]
    }
   ],
   "source": [
    "# Finding the leaf nodes and root nodes of the categories\n",
    "t_cat = category_lists[category_lists.map(lambda c: len(c) > 0)].map(lambda l: l[0])\n",
    "b_cat = category_lists[category_lists.map(lambda c: len(c) > 0)].map(lambda l: l[-1])\n",
    "\n",
    "print(\"There are {0} top root categories.\".format(len(set(t_cat))))\n",
    "print(\"There are {0} bottom leaf categories.\".format(len(set(b_cat))))\n",
    "\n",
    "products = df2.assign(root_category=t_cat.astype('category'), \n",
    "                           l_category=b_cat.astype('category'))"
   ]
  },
  {
   "cell_type": "markdown",
   "id": "d133fa70",
   "metadata": {},
   "source": [
    "converting the numeric values of 'number_of_reviews' which is in string"
   ]
  },
  {
   "cell_type": "code",
   "execution_count": 23,
   "id": "b62e0106",
   "metadata": {},
   "outputs": [],
   "source": [
    "\n",
    "products['number_of_reviews'] = products['number_of_reviews'].str.replace(\",\", \"\")\n",
    "products['number_of_reviews'] = pd.to_numeric(products['number_of_reviews'])\n",
    "def curr_value(v):\n",
    "    if pd.isnull(v):\n",
    "        return 0\n",
    "    try:\n",
    "        return float(v[1:])\n",
    "    except ValueError:\n",
    "        return 0\n",
    "    \n",
    "products['price'] = products['price'].map(curr_value)"
   ]
  },
  {
   "cell_type": "code",
   "execution_count": 24,
   "id": "52746766",
   "metadata": {},
   "outputs": [
    {
     "data": {
      "image/png": "[encoded data removed]",
      "text/plain": [
       "<Figure size 936x792 with 4 Axes>"
      ]
     },
     "metadata": {},
     "output_type": "display_data"
    }
   ],
   "source": [
    "import matplotlib.pyplot as plt\n",
    "import seaborn as sns\n",
    "sns.set_style(\"white\")\n",
    "\n",
    "fig, arrax = plt.subplots(2, 2)\n",
    "fig.subplots_adjust(hspace=1)\n",
    "plt.suptitle('Top most Categories', fontsize= 20)\n",
    "\n",
    "bar_kwargs = {'figsize': (13, 11), 'fontsize': 14, 'color': 'green'}\n",
    "\n",
    "products['l_category'].value_counts().head(10).plot.bar(\n",
    "    title='Number of Products', ax=arrax[0][0], **bar_kwargs\n",
    ")\n",
    "(products.groupby('l_category')\n",
    "     ['number_of_reviews']\n",
    "     .sum()\n",
    "     .sort_values(ascending=False)\n",
    "     .rename_axis(None)\n",
    "     .head(10)\n",
    "     .plot.bar(\n",
    "        title='Number of Reviews', ax=arrax[0][1], **bar_kwargs\n",
    "     ))\n",
    "(products.groupby('l_category')\n",
    "     ['price']\n",
    "     .sum()\n",
    "     .sort_values(ascending=False)\n",
    "     .rename_axis(None)\n",
    "     .head(10)\n",
    "     .plot.bar(\n",
    "        title='Gross Product Value (£)', ax=arrax[1][0], **bar_kwargs\n",
    "     ))\n",
    "(products\n",
    "     .assign(\n",
    "         pval=products.apply(lambda p: p['price'] * p['number_of_reviews'], axis='columns')\n",
    "     )\n",
    "     .groupby('l_category')\n",
    "     .sum()\n",
    "     .pipe(lambda df: df.assign(pval=df['pval'] / df['pval'].max()))\n",
    "     .pval\n",
    "     .sort_values(ascending=False)\n",
    "     .rename_axis(None)\n",
    "     .head(10)\n",
    "     .plot.bar(\n",
    "         title='...Product Value Sold (Index, Estimated)', \n",
    "         ax=arrax[1][1], **bar_kwargs\n",
    "     )\n",
    ")\n",
    "sns.despine()\n",
    "\n",
    "for (a, b) in [(0, 0), (0, 1), (1,0), (1,1)]:\n",
    "    arrax[a][b].title.set_fontsize(16)\n",
    "    arrax[a][b].set_xticklabels(arrax[a][b].get_xticklabels(), \n",
    "                                rotation=45, ha='right', fontsize=14)"
   ]
  },
  {
   "cell_type": "markdown",
   "id": "15a216f7",
   "metadata": {},
   "source": [
    "## Comments:\n",
    "Among the data, Vehicles products are sold more, in which Toys had more reviews, the gross product value is found to be high for the vehicles. "
   ]
  },
  {
   "cell_type": "markdown",
   "id": "43853a55",
   "metadata": {},
   "source": [
    "Plotting for the top manufacturers."
   ]
  },
  {
   "cell_type": "code",
   "execution_count": 25,
   "id": "ae39a8d3",
   "metadata": {
    "scrolled": true
   },
   "outputs": [
    {
     "data": {
      "text/html": [
       "<div>\n",
       "<style scoped>\n",
       "    .dataframe tbody tr th:only-of-type {\n",
       "        vertical-align: middle;\n",
       "    }\n",
       "\n",
       "    .dataframe tbody tr th {\n",
       "        vertical-align: top;\n",
       "    }\n",
       "\n",
       "    .dataframe thead th {\n",
       "        text-align: right;\n",
       "    }\n",
       "</style>\n",
       "<table border=\"1\" class=\"dataframe\">\n",
       "  <thead>\n",
       "    <tr style=\"text-align: right;\">\n",
       "      <th></th>\n",
       "      <th>_id</th>\n",
       "      <th>amazon_category_and_sub_category</th>\n",
       "      <th>average_review_rating</th>\n",
       "      <th>customer_questions_and_answers</th>\n",
       "      <th>description</th>\n",
       "      <th>items_customers_buy_after_viewing_this_item</th>\n",
       "      <th>manufacturer</th>\n",
       "      <th>number_available_in_stock</th>\n",
       "      <th>number_of_answered_questions</th>\n",
       "      <th>number_of_reviews</th>\n",
       "      <th>price</th>\n",
       "      <th>product_description</th>\n",
       "      <th>product_information</th>\n",
       "      <th>product_name</th>\n",
       "      <th>uniq_id</th>\n",
       "      <th>item_type</th>\n",
       "    </tr>\n",
       "  </thead>\n",
       "  <tbody>\n",
       "    <tr>\n",
       "      <th>0</th>\n",
       "      <td>(627d424b66d833ad31566bfe,)</td>\n",
       "      <td>Hobbies &gt; Model Trains &amp; Railway Sets &gt; Rail V...</td>\n",
       "      <td>4.9 out of 5 stars</td>\n",
       "      <td>Does this catalogue detail all the previous Ho...</td>\n",
       "      <td>Product Description Hornby 2014 Catalogue Box ...</td>\n",
       "      <td>http://www.amazon.co.uk/Hornby-R8150-Catalogue...</td>\n",
       "      <td>Hornby</td>\n",
       "      <td>5 new</td>\n",
       "      <td>1</td>\n",
       "      <td>15</td>\n",
       "      <td>£3.42</td>\n",
       "      <td>Product Description Hornby 2014 Catalogue Box ...</td>\n",
       "      <td>Technical Details Item Weight640 g Product Dim...</td>\n",
       "      <td>Hornby 2014 Catalogue</td>\n",
       "      <td>eac7efa5dbd3d667f26eb3d3ab504464</td>\n",
       "      <td>new</td>\n",
       "    </tr>\n",
       "    <tr>\n",
       "      <th>1</th>\n",
       "      <td>(627d424b66d833ad31566bff,)</td>\n",
       "      <td>Hobbies &gt; Model Trains &amp; Railway Sets &gt; Rail V...</td>\n",
       "      <td>4.5 out of 5 stars</td>\n",
       "      <td>can you turn off sounds // hi no you cant turn...</td>\n",
       "      <td>Size Name:Large FunkyBuys® Large Christmas Hol...</td>\n",
       "      <td>http://www.amazon.co.uk/Christmas-Holiday-Expr...</td>\n",
       "      <td>FunkyBuys</td>\n",
       "      <td>None</td>\n",
       "      <td>1</td>\n",
       "      <td>2</td>\n",
       "      <td>£16.99</td>\n",
       "      <td>Size Name:Large FunkyBuys® Large Christmas Hol...</td>\n",
       "      <td>Technical Details Manufacturer recommended age...</td>\n",
       "      <td>FunkyBuys® Large Christmas Holiday Express Fes...</td>\n",
       "      <td>b17540ef7e86e461d37f3ae58b7b72ac</td>\n",
       "      <td>NaN</td>\n",
       "    </tr>\n",
       "    <tr>\n",
       "      <th>2</th>\n",
       "      <td>(627d424b66d833ad31566c00,)</td>\n",
       "      <td>Hobbies &gt; Model Trains &amp; Railway Sets &gt; Rail V...</td>\n",
       "      <td>3.9 out of 5 stars</td>\n",
       "      <td>What is the gauge of the track // Hi Paul.Trut...</td>\n",
       "      <td>BIG CLASSIC TOY TRAIN SET TRACK CARRIAGE LIGHT...</td>\n",
       "      <td>http://www.amazon.co.uk/Train-With-Tracks-Batt...</td>\n",
       "      <td>ccf</td>\n",
       "      <td>2 new</td>\n",
       "      <td>2</td>\n",
       "      <td>17</td>\n",
       "      <td>£9.99</td>\n",
       "      <td>BIG CLASSIC TOY TRAIN SET TRACK CARRIAGE LIGHT...</td>\n",
       "      <td>Technical Details Manufacturer recommended age...</td>\n",
       "      <td>CLASSIC TOY TRAIN SET TRACK CARRIAGES LIGHT EN...</td>\n",
       "      <td>348f344247b0c1a935b1223072ef9d8a</td>\n",
       "      <td>new</td>\n",
       "    </tr>\n",
       "    <tr>\n",
       "      <th>3</th>\n",
       "      <td>(627d424b66d833ad31566c01,)</td>\n",
       "      <td>Hobbies &gt; Model Trains &amp; Railway Sets &gt; Rail V...</td>\n",
       "      <td>5.0 out of 5 stars</td>\n",
       "      <td>None</td>\n",
       "      <td>Hornby 00 Gauge BR Hawksworth 3rd Class W 2107...</td>\n",
       "      <td>None</td>\n",
       "      <td>Hornby</td>\n",
       "      <td>None</td>\n",
       "      <td>2</td>\n",
       "      <td>1</td>\n",
       "      <td>£39.99</td>\n",
       "      <td>Hornby 00 Gauge BR Hawksworth 3rd Class W 2107...</td>\n",
       "      <td>Technical Details Item Weight259 g Product Dim...</td>\n",
       "      <td>HORNBY Coach R4410A BR Hawksworth Corridor 3rd</td>\n",
       "      <td>e12b92dbb8eaee78b22965d2a9bbbd9f</td>\n",
       "      <td>NaN</td>\n",
       "    </tr>\n",
       "    <tr>\n",
       "      <th>4</th>\n",
       "      <td>(627d424b66d833ad31566c02,)</td>\n",
       "      <td>Hobbies &gt; Model Trains &amp; Railway Sets &gt; Rail V...</td>\n",
       "      <td>4.7 out of 5 stars</td>\n",
       "      <td>None</td>\n",
       "      <td>Product Description Hornby RailRoad 0-4-0 Gild...</td>\n",
       "      <td>http://www.amazon.co.uk/Hornby-R2672-RailRoad-...</td>\n",
       "      <td>Hornby</td>\n",
       "      <td>None</td>\n",
       "      <td>2</td>\n",
       "      <td>3</td>\n",
       "      <td>£32.19</td>\n",
       "      <td>Product Description Hornby RailRoad 0-4-0 Gild...</td>\n",
       "      <td>Technical Details Item Weight159 g Product Dim...</td>\n",
       "      <td>Hornby 00 Gauge 0-4-0 Gildenlow Salt Co. Steam...</td>\n",
       "      <td>e33a9adeed5f36840ccc227db4682a36</td>\n",
       "      <td>NaN</td>\n",
       "    </tr>\n",
       "    <tr>\n",
       "      <th>...</th>\n",
       "      <td>...</td>\n",
       "      <td>...</td>\n",
       "      <td>...</td>\n",
       "      <td>...</td>\n",
       "      <td>...</td>\n",
       "      <td>...</td>\n",
       "      <td>...</td>\n",
       "      <td>...</td>\n",
       "      <td>...</td>\n",
       "      <td>...</td>\n",
       "      <td>...</td>\n",
       "      <td>...</td>\n",
       "      <td>...</td>\n",
       "      <td>...</td>\n",
       "      <td>...</td>\n",
       "      <td>...</td>\n",
       "    </tr>\n",
       "    <tr>\n",
       "      <th>9999</th>\n",
       "      <td>(627d424d66d833ad3156930d,)</td>\n",
       "      <td>Hobbies &gt; Collectible Figures &amp; Memorabilia &gt; ...</td>\n",
       "      <td>5.0 out of 5 stars</td>\n",
       "      <td>None</td>\n",
       "      <td>DC 66 Batman Classic TV Series 6 Inch Riddler ...</td>\n",
       "      <td>None</td>\n",
       "      <td>Mattel</td>\n",
       "      <td>5 new</td>\n",
       "      <td>3</td>\n",
       "      <td>3</td>\n",
       "      <td>£22.95</td>\n",
       "      <td>DC 66 Batman Classic TV Series 6 Inch Riddler ...</td>\n",
       "      <td>Technical Details Item Weight136 g Product Dim...</td>\n",
       "      <td>Batman 1966 TV Series Action Figures - The Rid...</td>\n",
       "      <td>44d6967f083825a5de36ad4865a65bcd</td>\n",
       "      <td>new</td>\n",
       "    </tr>\n",
       "    <tr>\n",
       "      <th>10000</th>\n",
       "      <td>(627d424d66d833ad3156930e,)</td>\n",
       "      <td>Characters &amp; Brands &gt; Star Wars &gt; Toys</td>\n",
       "      <td>4.0 out of 5 stars</td>\n",
       "      <td>None</td>\n",
       "      <td>None</td>\n",
       "      <td>http://www.amazon.co.uk/Storm-Trooper-Costume-...</td>\n",
       "      <td>Star Wars</td>\n",
       "      <td>None</td>\n",
       "      <td>3</td>\n",
       "      <td>1</td>\n",
       "      <td>£39.99</td>\n",
       "      <td>None</td>\n",
       "      <td>Technical Details    Additional Information AS...</td>\n",
       "      <td>Star Wars Costume, Kids Stormtrooper Costume S...</td>\n",
       "      <td>08f0747b6fc6687215ffb994c3a6fb32</td>\n",
       "      <td>NaN</td>\n",
       "    </tr>\n",
       "    <tr>\n",
       "      <th>10001</th>\n",
       "      <td>(627d424d66d833ad3156930f,)</td>\n",
       "      <td>Novelty &amp; Special Use &gt; Novelty &gt; Accessories ...</td>\n",
       "      <td>5.0 out of 5 stars</td>\n",
       "      <td>None</td>\n",
       "      <td>*Includes 1x Badge with holder and chain *High...</td>\n",
       "      <td>http://www.amazon.co.uk/Olde-Scotland-Yard-Ltd...</td>\n",
       "      <td>Olde Scotland Yard Ltd.</td>\n",
       "      <td>3 new</td>\n",
       "      <td>3</td>\n",
       "      <td>1</td>\n",
       "      <td>£43.99</td>\n",
       "      <td>*Includes 1x Badge with holder and chain *High...</td>\n",
       "      <td>Technical Details Item Weight159 g Product Dim...</td>\n",
       "      <td>Defiance Lawkeeper Metal Badge Prop Replica</td>\n",
       "      <td>bf6cc073f8f24e6e338190fa16f6ee9d</td>\n",
       "      <td>new</td>\n",
       "    </tr>\n",
       "    <tr>\n",
       "      <th>10002</th>\n",
       "      <td>(627d424d66d833ad31569310,)</td>\n",
       "      <td>Hobbies &gt; Collectible Figures &amp; Memorabilia &gt; ...</td>\n",
       "      <td>5.0 out of 5 stars</td>\n",
       "      <td>None</td>\n",
       "      <td>Designed by Ed BenesIt's here - the third seri...</td>\n",
       "      <td>None</td>\n",
       "      <td>DC Comics</td>\n",
       "      <td>3 new</td>\n",
       "      <td>3</td>\n",
       "      <td>1</td>\n",
       "      <td>£49.81</td>\n",
       "      <td>Designed by Ed BenesIt's here - the third seri...</td>\n",
       "      <td>Technical Details Item Weight181 g Product Dim...</td>\n",
       "      <td>Justice League of America Series 3 Green Lante...</td>\n",
       "      <td>cd783d0b8b44e631b9788b203eaaefae</td>\n",
       "      <td>new</td>\n",
       "    </tr>\n",
       "    <tr>\n",
       "      <th>10003</th>\n",
       "      <td>(627d424d66d833ad31569311,)</td>\n",
       "      <td>Characters &amp; Brands &gt; Star Wars &gt; Toys</td>\n",
       "      <td>4.5 out of 5 stars</td>\n",
       "      <td>None</td>\n",
       "      <td>None</td>\n",
       "      <td>None</td>\n",
       "      <td>Bandai</td>\n",
       "      <td>31 new</td>\n",
       "      <td>3</td>\n",
       "      <td>11</td>\n",
       "      <td>£21.20</td>\n",
       "      <td>None</td>\n",
       "      <td>Technical Details Item Weight299 g Product Dim...</td>\n",
       "      <td>Star Wars 1/72 Y-Wing Starfighter</td>\n",
       "      <td>94d18e86e504bee1e392df7e5738b18a</td>\n",
       "      <td>new</td>\n",
       "    </tr>\n",
       "  </tbody>\n",
       "</table>\n",
       "<p>9997 rows × 16 columns</p>\n",
       "</div>"
      ],
      "text/plain": [
       "                               _id  \\\n",
       "0      (627d424b66d833ad31566bfe,)   \n",
       "1      (627d424b66d833ad31566bff,)   \n",
       "2      (627d424b66d833ad31566c00,)   \n",
       "3      (627d424b66d833ad31566c01,)   \n",
       "4      (627d424b66d833ad31566c02,)   \n",
       "...                            ...   \n",
       "9999   (627d424d66d833ad3156930d,)   \n",
       "10000  (627d424d66d833ad3156930e,)   \n",
       "10001  (627d424d66d833ad3156930f,)   \n",
       "10002  (627d424d66d833ad31569310,)   \n",
       "10003  (627d424d66d833ad31569311,)   \n",
       "\n",
       "                        amazon_category_and_sub_category  \\\n",
       "0      Hobbies > Model Trains & Railway Sets > Rail V...   \n",
       "1      Hobbies > Model Trains & Railway Sets > Rail V...   \n",
       "2      Hobbies > Model Trains & Railway Sets > Rail V...   \n",
       "3      Hobbies > Model Trains & Railway Sets > Rail V...   \n",
       "4      Hobbies > Model Trains & Railway Sets > Rail V...   \n",
       "...                                                  ...   \n",
       "9999   Hobbies > Collectible Figures & Memorabilia > ...   \n",
       "10000             Characters & Brands > Star Wars > Toys   \n",
       "10001  Novelty & Special Use > Novelty > Accessories ...   \n",
       "10002  Hobbies > Collectible Figures & Memorabilia > ...   \n",
       "10003             Characters & Brands > Star Wars > Toys   \n",
       "\n",
       "      average_review_rating  \\\n",
       "0        4.9 out of 5 stars   \n",
       "1        4.5 out of 5 stars   \n",
       "2        3.9 out of 5 stars   \n",
       "3        5.0 out of 5 stars   \n",
       "4        4.7 out of 5 stars   \n",
       "...                     ...   \n",
       "9999     5.0 out of 5 stars   \n",
       "10000    4.0 out of 5 stars   \n",
       "10001    5.0 out of 5 stars   \n",
       "10002    5.0 out of 5 stars   \n",
       "10003    4.5 out of 5 stars   \n",
       "\n",
       "                          customer_questions_and_answers  \\\n",
       "0      Does this catalogue detail all the previous Ho...   \n",
       "1      can you turn off sounds // hi no you cant turn...   \n",
       "2      What is the gauge of the track // Hi Paul.Trut...   \n",
       "3                                                   None   \n",
       "4                                                   None   \n",
       "...                                                  ...   \n",
       "9999                                                None   \n",
       "10000                                               None   \n",
       "10001                                               None   \n",
       "10002                                               None   \n",
       "10003                                               None   \n",
       "\n",
       "                                             description  \\\n",
       "0      Product Description Hornby 2014 Catalogue Box ...   \n",
       "1      Size Name:Large FunkyBuys® Large Christmas Hol...   \n",
       "2      BIG CLASSIC TOY TRAIN SET TRACK CARRIAGE LIGHT...   \n",
       "3      Hornby 00 Gauge BR Hawksworth 3rd Class W 2107...   \n",
       "4      Product Description Hornby RailRoad 0-4-0 Gild...   \n",
       "...                                                  ...   \n",
       "9999   DC 66 Batman Classic TV Series 6 Inch Riddler ...   \n",
       "10000                                               None   \n",
       "10001  *Includes 1x Badge with holder and chain *High...   \n",
       "10002  Designed by Ed BenesIt's here - the third seri...   \n",
       "10003                                               None   \n",
       "\n",
       "             items_customers_buy_after_viewing_this_item  \\\n",
       "0      http://www.amazon.co.uk/Hornby-R8150-Catalogue...   \n",
       "1      http://www.amazon.co.uk/Christmas-Holiday-Expr...   \n",
       "2      http://www.amazon.co.uk/Train-With-Tracks-Batt...   \n",
       "3                                                   None   \n",
       "4      http://www.amazon.co.uk/Hornby-R2672-RailRoad-...   \n",
       "...                                                  ...   \n",
       "9999                                                None   \n",
       "10000  http://www.amazon.co.uk/Storm-Trooper-Costume-...   \n",
       "10001  http://www.amazon.co.uk/Olde-Scotland-Yard-Ltd...   \n",
       "10002                                               None   \n",
       "10003                                               None   \n",
       "\n",
       "                  manufacturer number_available_in_stock  \\\n",
       "0                       Hornby                     5 new   \n",
       "1                    FunkyBuys                      None   \n",
       "2                          ccf                     2 new   \n",
       "3                       Hornby                      None   \n",
       "4                       Hornby                      None   \n",
       "...                        ...                       ...   \n",
       "9999                    Mattel                     5 new   \n",
       "10000                Star Wars                      None   \n",
       "10001  Olde Scotland Yard Ltd.                     3 new   \n",
       "10002                DC Comics                     3 new   \n",
       "10003                   Bandai                    31 new   \n",
       "\n",
       "      number_of_answered_questions number_of_reviews   price  \\\n",
       "0                                1                15   £3.42   \n",
       "1                                1                 2  £16.99   \n",
       "2                                2                17   £9.99   \n",
       "3                                2                 1  £39.99   \n",
       "4                                2                 3  £32.19   \n",
       "...                            ...               ...     ...   \n",
       "9999                             3                 3  £22.95   \n",
       "10000                            3                 1  £39.99   \n",
       "10001                            3                 1  £43.99   \n",
       "10002                            3                 1  £49.81   \n",
       "10003                            3                11  £21.20   \n",
       "\n",
       "                                     product_description  \\\n",
       "0      Product Description Hornby 2014 Catalogue Box ...   \n",
       "1      Size Name:Large FunkyBuys® Large Christmas Hol...   \n",
       "2      BIG CLASSIC TOY TRAIN SET TRACK CARRIAGE LIGHT...   \n",
       "3      Hornby 00 Gauge BR Hawksworth 3rd Class W 2107...   \n",
       "4      Product Description Hornby RailRoad 0-4-0 Gild...   \n",
       "...                                                  ...   \n",
       "9999   DC 66 Batman Classic TV Series 6 Inch Riddler ...   \n",
       "10000                                               None   \n",
       "10001  *Includes 1x Badge with holder and chain *High...   \n",
       "10002  Designed by Ed BenesIt's here - the third seri...   \n",
       "10003                                               None   \n",
       "\n",
       "                                     product_information  \\\n",
       "0      Technical Details Item Weight640 g Product Dim...   \n",
       "1      Technical Details Manufacturer recommended age...   \n",
       "2      Technical Details Manufacturer recommended age...   \n",
       "3      Technical Details Item Weight259 g Product Dim...   \n",
       "4      Technical Details Item Weight159 g Product Dim...   \n",
       "...                                                  ...   \n",
       "9999   Technical Details Item Weight136 g Product Dim...   \n",
       "10000  Technical Details    Additional Information AS...   \n",
       "10001  Technical Details Item Weight159 g Product Dim...   \n",
       "10002  Technical Details Item Weight181 g Product Dim...   \n",
       "10003  Technical Details Item Weight299 g Product Dim...   \n",
       "\n",
       "                                            product_name  \\\n",
       "0                                  Hornby 2014 Catalogue   \n",
       "1      FunkyBuys® Large Christmas Holiday Express Fes...   \n",
       "2      CLASSIC TOY TRAIN SET TRACK CARRIAGES LIGHT EN...   \n",
       "3         HORNBY Coach R4410A BR Hawksworth Corridor 3rd   \n",
       "4      Hornby 00 Gauge 0-4-0 Gildenlow Salt Co. Steam...   \n",
       "...                                                  ...   \n",
       "9999   Batman 1966 TV Series Action Figures - The Rid...   \n",
       "10000  Star Wars Costume, Kids Stormtrooper Costume S...   \n",
       "10001        Defiance Lawkeeper Metal Badge Prop Replica   \n",
       "10002  Justice League of America Series 3 Green Lante...   \n",
       "10003                  Star Wars 1/72 Y-Wing Starfighter   \n",
       "\n",
       "                                uniq_id item_type  \n",
       "0      eac7efa5dbd3d667f26eb3d3ab504464       new  \n",
       "1      b17540ef7e86e461d37f3ae58b7b72ac       NaN  \n",
       "2      348f344247b0c1a935b1223072ef9d8a       new  \n",
       "3      e12b92dbb8eaee78b22965d2a9bbbd9f       NaN  \n",
       "4      e33a9adeed5f36840ccc227db4682a36       NaN  \n",
       "...                                 ...       ...  \n",
       "9999   44d6967f083825a5de36ad4865a65bcd       new  \n",
       "10000  08f0747b6fc6687215ffb994c3a6fb32       NaN  \n",
       "10001  bf6cc073f8f24e6e338190fa16f6ee9d       new  \n",
       "10002  cd783d0b8b44e631b9788b203eaaefae       new  \n",
       "10003  94d18e86e504bee1e392df7e5738b18a       new  \n",
       "\n",
       "[9997 rows x 16 columns]"
      ]
     },
     "execution_count": 25,
     "metadata": {},
     "output_type": "execute_result"
    }
   ],
   "source": [
    "# Categorizing new and used items in the data frame\n",
    "item = [\"new\", \"used\"]\n",
    "df_new[\"item_type\"] = df2['number_available_in_stock'].str.extract(f'({\"|\".join(item)})')\n",
    "df_new"
   ]
  },
  {
   "cell_type": "markdown",
   "id": "7dd890b5",
   "metadata": {},
   "source": [
    "Removing currency symbol"
   ]
  },
  {
   "cell_type": "code",
   "execution_count": 26,
   "id": "a5fe83a2",
   "metadata": {},
   "outputs": [],
   "source": [
    "# removing currency label from price column\n",
    "df_new[\"price_new\"] = df_new[\"price\"].str.split(\" \", expand = True).get(0).str.split(\"£\", expand = True).get(1)"
   ]
  },
  {
   "cell_type": "code",
   "execution_count": 27,
   "id": "d4afb799",
   "metadata": {},
   "outputs": [],
   "source": [
    "df_new[df_new.price_new.str.contains(',', na=False)]\n",
    "# remove the comma sign\n",
    "df_new[\"price_new\"] = df_new[\"price_new\"].str.replace(\",\", \"\")"
   ]
  },
  {
   "cell_type": "code",
   "execution_count": 28,
   "id": "ed70b0fb",
   "metadata": {},
   "outputs": [],
   "source": [
    "df_new[\"number_available_in_stock\"] = df_new[\"number_available_in_stock\"].str.extract(\"(\\d+)\").astype(np.float)\n",
    "\n",
    "# keep only number in the column\n",
    "df_new[\"average_review_rating(out of 5)\"] = df_new[\"average_review_rating\"].str.split(\" out of \", expand = True).get(0)"
   ]
  },
  {
   "cell_type": "code",
   "execution_count": 29,
   "id": "54f53ebf",
   "metadata": {},
   "outputs": [],
   "source": [
    "# Splittig the dataframe based on category\n",
    "split_df = df_new[\"amazon_category_and_sub_category\"].str.split(\">\", expand = True)\n",
    "df_new[\"root_category\"] = split_df.get(0)\n",
    "df_new[\"leaf_category_1\"] = split_df.get(1)\n",
    "df_new[\"leaf_category_2\"] = split_df.get(2)\n",
    "df_new[\"leaf_category_3\"] = split_df.get(3)"
   ]
  },
  {
   "cell_type": "code",
   "execution_count": 30,
   "id": "205ed2af",
   "metadata": {},
   "outputs": [
    {
     "data": {
      "text/plain": [
       "array(['new', nan, 'used'], dtype=object)"
      ]
     },
     "execution_count": 30,
     "metadata": {},
     "output_type": "execute_result"
    }
   ],
   "source": [
    "#Unique item_type in the df_new dataframe\n",
    "df_new[\"item_type\"].unique()"
   ]
  },
  {
   "cell_type": "code",
   "execution_count": 31,
   "id": "879ab0d1",
   "metadata": {},
   "outputs": [
    {
     "data": {
      "text/plain": [
       "array(['4.9 out of 5 stars', '4.5 out of 5 stars', '3.9 out of 5 stars',\n",
       "       '5.0 out of 5 stars', '4.7 out of 5 stars', '4.3 out of 5 stars',\n",
       "       '4.8 out of 5 stars', '4.0 out of 5 stars', '4.2 out of 5 stars',\n",
       "       '4.6 out of 5 stars', '4.1 out of 5 stars', None,\n",
       "       '4.4 out of 5 stars', '3.5 out of 5 stars', '3.0 out of 5 stars',\n",
       "       '3.3 out of 5 stars', '3.7 out of 5 stars', '3.8 out of 5 stars',\n",
       "       '3.6 out of 5 stars', '2.3 out of 5 stars'], dtype=object)"
      ]
     },
     "execution_count": 31,
     "metadata": {},
     "output_type": "execute_result"
    }
   ],
   "source": [
    "#Unique ratings \n",
    "products.average_review_rating.unique()"
   ]
  },
  {
   "cell_type": "code",
   "execution_count": 32,
   "id": "8e7790c6",
   "metadata": {},
   "outputs": [
    {
     "data": {
      "text/html": [
       "<div>\n",
       "<style scoped>\n",
       "    .dataframe tbody tr th:only-of-type {\n",
       "        vertical-align: middle;\n",
       "    }\n",
       "\n",
       "    .dataframe tbody tr th {\n",
       "        vertical-align: top;\n",
       "    }\n",
       "\n",
       "    .dataframe thead th {\n",
       "        text-align: right;\n",
       "    }\n",
       "</style>\n",
       "<table border=\"1\" class=\"dataframe\">\n",
       "  <thead>\n",
       "    <tr style=\"text-align: right;\">\n",
       "      <th></th>\n",
       "      <th>_id</th>\n",
       "      <th>amazon_category_and_sub_category</th>\n",
       "      <th>average_review_rating</th>\n",
       "      <th>customer_questions_and_answers</th>\n",
       "      <th>description</th>\n",
       "      <th>items_customers_buy_after_viewing_this_item</th>\n",
       "      <th>manufacturer</th>\n",
       "      <th>number_available_in_stock</th>\n",
       "      <th>number_of_answered_questions</th>\n",
       "      <th>number_of_reviews</th>\n",
       "      <th>...</th>\n",
       "      <th>product_information</th>\n",
       "      <th>product_name</th>\n",
       "      <th>uniq_id</th>\n",
       "      <th>item_type</th>\n",
       "      <th>price_new</th>\n",
       "      <th>average_review_rating(out of 5)</th>\n",
       "      <th>root_category</th>\n",
       "      <th>leaf_category_1</th>\n",
       "      <th>leaf_category_2</th>\n",
       "      <th>leaf_category_3</th>\n",
       "    </tr>\n",
       "  </thead>\n",
       "  <tbody>\n",
       "    <tr>\n",
       "      <th>7098</th>\n",
       "      <td>(627d424c66d833ad315687b8,)</td>\n",
       "      <td>Hobbies &gt; Model Trains &amp; Railway Sets &gt; Access...</td>\n",
       "      <td>4.0 out of 5 stars</td>\n",
       "      <td>None</td>\n",
       "      <td>Sideshow Collectibles is proud to present the ...</td>\n",
       "      <td>None</td>\n",
       "      <td>Bowen Designs</td>\n",
       "      <td>2.0</td>\n",
       "      <td>1</td>\n",
       "      <td>1</td>\n",
       "      <td>...</td>\n",
       "      <td>Technical Details Item Weight6 Kg Product Dime...</td>\n",
       "      <td>Bowen Designs - Marvel Statue Thor Classic Act...</td>\n",
       "      <td>75d96583894e50412ba5c0161375fef5</td>\n",
       "      <td>new</td>\n",
       "      <td>2,439.92</td>\n",
       "      <td>4.0</td>\n",
       "      <td>Hobbies</td>\n",
       "      <td>Model Trains &amp; Railway Sets</td>\n",
       "      <td>Accessories</td>\n",
       "      <td>Figures &amp; Decoration Parts</td>\n",
       "    </tr>\n",
       "  </tbody>\n",
       "</table>\n",
       "<p>1 rows × 22 columns</p>\n",
       "</div>"
      ],
      "text/plain": [
       "                              _id  \\\n",
       "7098  (627d424c66d833ad315687b8,)   \n",
       "\n",
       "                       amazon_category_and_sub_category average_review_rating  \\\n",
       "7098  Hobbies > Model Trains & Railway Sets > Access...    4.0 out of 5 stars   \n",
       "\n",
       "     customer_questions_and_answers  \\\n",
       "7098                           None   \n",
       "\n",
       "                                            description  \\\n",
       "7098  Sideshow Collectibles is proud to present the ...   \n",
       "\n",
       "     items_customers_buy_after_viewing_this_item   manufacturer  \\\n",
       "7098                                        None  Bowen Designs   \n",
       "\n",
       "      number_available_in_stock number_of_answered_questions  \\\n",
       "7098                        2.0                            1   \n",
       "\n",
       "     number_of_reviews  ...  \\\n",
       "7098                 1  ...   \n",
       "\n",
       "                                    product_information  \\\n",
       "7098  Technical Details Item Weight6 Kg Product Dime...   \n",
       "\n",
       "                                           product_name  \\\n",
       "7098  Bowen Designs - Marvel Statue Thor Classic Act...   \n",
       "\n",
       "                               uniq_id item_type price_new  \\\n",
       "7098  75d96583894e50412ba5c0161375fef5       new  2,439.92   \n",
       "\n",
       "     average_review_rating(out of 5) root_category  \\\n",
       "7098                             4.0      Hobbies    \n",
       "\n",
       "                    leaf_category_1 leaf_category_2  \\\n",
       "7098   Model Trains & Railway Sets     Accessories    \n",
       "\n",
       "                   leaf_category_3  \n",
       "7098   Figures & Decoration Parts   \n",
       "\n",
       "[1 rows x 22 columns]"
      ]
     },
     "execution_count": 32,
     "metadata": {},
     "output_type": "execute_result"
    }
   ],
   "source": [
    "df_new[\"price_new\"] = df_new[\"price\"].str.split(\" \", expand = True).get(0).str.split(\"£\", expand = True).get(1)\n",
    "# checking if the va;ue is in the ramge of 1000\n",
    "df_new[df_new.price_new.str.contains(',', na=False)]\n"
   ]
  },
  {
   "cell_type": "code",
   "execution_count": 33,
   "id": "c1cba813",
   "metadata": {},
   "outputs": [],
   "source": [
    "# removing comma sign\n",
    "df_new[\"price_new\"] = df_new[\"price_new\"].str.replace(\",\", \"\")"
   ]
  },
  {
   "cell_type": "code",
   "execution_count": 34,
   "id": "d0f7e8d5",
   "metadata": {},
   "outputs": [],
   "source": [
    "df_new[\"average_review_rating(out of 5)\"] = df_new[\"average_review_rating(out of 5)\"].astype(float)\n",
    "df_new[\"price_new\"] = df_new[\"price_new\"].astype(float)"
   ]
  },
  {
   "cell_type": "code",
   "execution_count": 35,
   "id": "15436e82",
   "metadata": {},
   "outputs": [
    {
     "data": {
      "text/html": [
       "<div>\n",
       "<style scoped>\n",
       "    .dataframe tbody tr th:only-of-type {\n",
       "        vertical-align: middle;\n",
       "    }\n",
       "\n",
       "    .dataframe tbody tr th {\n",
       "        vertical-align: top;\n",
       "    }\n",
       "\n",
       "    .dataframe thead th {\n",
       "        text-align: right;\n",
       "    }\n",
       "</style>\n",
       "<table border=\"1\" class=\"dataframe\">\n",
       "  <thead>\n",
       "    <tr style=\"text-align: right;\">\n",
       "      <th></th>\n",
       "      <th>_id</th>\n",
       "      <th>amazon_category_and_sub_category</th>\n",
       "      <th>average_review_rating</th>\n",
       "      <th>customer_questions_and_answers</th>\n",
       "      <th>description</th>\n",
       "      <th>items_customers_buy_after_viewing_this_item</th>\n",
       "      <th>manufacturer</th>\n",
       "      <th>number_available_in_stock</th>\n",
       "      <th>number_of_answered_questions</th>\n",
       "      <th>number_of_reviews</th>\n",
       "      <th>...</th>\n",
       "      <th>product_information</th>\n",
       "      <th>product_name</th>\n",
       "      <th>uniq_id</th>\n",
       "      <th>item_type</th>\n",
       "      <th>price_new</th>\n",
       "      <th>average_review_rating(out of 5)</th>\n",
       "      <th>root_category</th>\n",
       "      <th>leaf_category_1</th>\n",
       "      <th>leaf_category_2</th>\n",
       "      <th>leaf_category_3</th>\n",
       "    </tr>\n",
       "  </thead>\n",
       "  <tbody>\n",
       "    <tr>\n",
       "      <th>8876</th>\n",
       "      <td>(627d424c66d833ad31568eaa,)</td>\n",
       "      <td>Characters &amp; Brands &gt; Tomy</td>\n",
       "      <td>4.5 out of 5 stars</td>\n",
       "      <td>Is this good for 5 and 6 year old kids? // Hi ...</td>\n",
       "      <td>Style Name:Pop-Up-Pirate/T7028 Product Descrip...</td>\n",
       "      <td>None</td>\n",
       "      <td>Tomy</td>\n",
       "      <td>59.0</td>\n",
       "      <td>11</td>\n",
       "      <td>1,040</td>\n",
       "      <td>...</td>\n",
       "      <td>Technical Details Brand Tomy Model NumberT7028...</td>\n",
       "      <td>TOMY Pop-Up Pirate</td>\n",
       "      <td>c751a76dd7668f78b4222b5547e7249b</td>\n",
       "      <td>new</td>\n",
       "      <td>9.99</td>\n",
       "      <td>4.5</td>\n",
       "      <td>Characters &amp; Brands</td>\n",
       "      <td>Tomy</td>\n",
       "      <td>None</td>\n",
       "      <td>None</td>\n",
       "    </tr>\n",
       "    <tr>\n",
       "      <th>9319</th>\n",
       "      <td>(627d424d66d833ad31569065,)</td>\n",
       "      <td>Games &gt; Educational Games</td>\n",
       "      <td>4.7 out of 5 stars</td>\n",
       "      <td>None</td>\n",
       "      <td>Colour Name:No Manufacturer's Description Bana...</td>\n",
       "      <td>http://www.amazon.co.uk/Eco-Premium-Life%C2%AE...</td>\n",
       "      <td>Winning Moves</td>\n",
       "      <td>42.0</td>\n",
       "      <td>1</td>\n",
       "      <td>1,399</td>\n",
       "      <td>...</td>\n",
       "      <td>Technical Details Item Weight381 g Product Dim...</td>\n",
       "      <td>Bananagrams Game</td>\n",
       "      <td>c30905e0fd0f5af84be16f794180559d</td>\n",
       "      <td>new</td>\n",
       "      <td>9.98</td>\n",
       "      <td>4.7</td>\n",
       "      <td>Games</td>\n",
       "      <td>Educational Games</td>\n",
       "      <td>None</td>\n",
       "      <td>None</td>\n",
       "    </tr>\n",
       "  </tbody>\n",
       "</table>\n",
       "<p>2 rows × 22 columns</p>\n",
       "</div>"
      ],
      "text/plain": [
       "                              _id amazon_category_and_sub_category  \\\n",
       "8876  (627d424c66d833ad31568eaa,)       Characters & Brands > Tomy   \n",
       "9319  (627d424d66d833ad31569065,)        Games > Educational Games   \n",
       "\n",
       "     average_review_rating                     customer_questions_and_answers  \\\n",
       "8876    4.5 out of 5 stars  Is this good for 5 and 6 year old kids? // Hi ...   \n",
       "9319    4.7 out of 5 stars                                               None   \n",
       "\n",
       "                                            description  \\\n",
       "8876  Style Name:Pop-Up-Pirate/T7028 Product Descrip...   \n",
       "9319  Colour Name:No Manufacturer's Description Bana...   \n",
       "\n",
       "            items_customers_buy_after_viewing_this_item   manufacturer  \\\n",
       "8876                                               None           Tomy   \n",
       "9319  http://www.amazon.co.uk/Eco-Premium-Life%C2%AE...  Winning Moves   \n",
       "\n",
       "      number_available_in_stock number_of_answered_questions  \\\n",
       "8876                       59.0                           11   \n",
       "9319                       42.0                            1   \n",
       "\n",
       "     number_of_reviews  ...  \\\n",
       "8876             1,040  ...   \n",
       "9319             1,399  ...   \n",
       "\n",
       "                                    product_information        product_name  \\\n",
       "8876  Technical Details Brand Tomy Model NumberT7028...  TOMY Pop-Up Pirate   \n",
       "9319  Technical Details Item Weight381 g Product Dim...    Bananagrams Game   \n",
       "\n",
       "                               uniq_id item_type price_new  \\\n",
       "8876  c751a76dd7668f78b4222b5547e7249b       new      9.99   \n",
       "9319  c30905e0fd0f5af84be16f794180559d       new      9.98   \n",
       "\n",
       "     average_review_rating(out of 5)         root_category  \\\n",
       "8876                             4.5  Characters & Brands    \n",
       "9319                             4.7                Games    \n",
       "\n",
       "         leaf_category_1 leaf_category_2 leaf_category_3  \n",
       "8876                Tomy            None            None  \n",
       "9319   Educational Games            None            None  \n",
       "\n",
       "[2 rows x 22 columns]"
      ]
     },
     "execution_count": 35,
     "metadata": {},
     "output_type": "execute_result"
    }
   ],
   "source": [
    "pd.to_numeric(df_new[\"number_of_reviews\"], errors='coerce')\n",
    "pd.to_numeric(df_new[\"number_of_reviews\"], errors='coerce').isnull()\n",
    "df_new[pd.to_numeric(df_new[\"number_of_reviews\"], errors='coerce').isnull()]\n"
   ]
  },
  {
   "cell_type": "code",
   "execution_count": 36,
   "id": "485e5dae",
   "metadata": {},
   "outputs": [],
   "source": [
    "# removing comma sign\n",
    "df_new[\"number_of_reviews\"] = df_new[\"number_of_reviews\"].str.replace(\",\", \"\")\n",
    "\n",
    "# changing the type of column\n",
    "df_new[\"number_of_reviews\"] = df_new[\"number_of_reviews\"].astype(float)"
   ]
  },
  {
   "cell_type": "code",
   "execution_count": 37,
   "id": "23d3ca62",
   "metadata": {},
   "outputs": [],
   "source": [
    "#converting the type to float\n",
    "df_new[\"number_of_answered_questions\"] = df_new[\"number_of_answered_questions\"].astype(float)"
   ]
  },
  {
   "cell_type": "code",
   "execution_count": 38,
   "id": "aba3cccc",
   "metadata": {},
   "outputs": [],
   "source": [
    "df_new.drop([\"price\", \"average_review_rating\", \n",
    "             \"amazon_category_and_sub_category\"],  axis=1, inplace = True)"
   ]
  },
  {
   "cell_type": "code",
   "execution_count": 39,
   "id": "0c7f59ef",
   "metadata": {},
   "outputs": [
    {
     "data": {
      "text/html": [
       "<div>\n",
       "<style scoped>\n",
       "    .dataframe tbody tr th:only-of-type {\n",
       "        vertical-align: middle;\n",
       "    }\n",
       "\n",
       "    .dataframe tbody tr th {\n",
       "        vertical-align: top;\n",
       "    }\n",
       "\n",
       "    .dataframe thead th {\n",
       "        text-align: right;\n",
       "    }\n",
       "</style>\n",
       "<table border=\"1\" class=\"dataframe\">\n",
       "  <thead>\n",
       "    <tr style=\"text-align: right;\">\n",
       "      <th></th>\n",
       "      <th>_id</th>\n",
       "      <th>customer_questions_and_answers</th>\n",
       "      <th>description</th>\n",
       "      <th>items_customers_buy_after_viewing_this_item</th>\n",
       "      <th>manufacturer</th>\n",
       "      <th>number_available_in_stock</th>\n",
       "      <th>number_of_answered_questions</th>\n",
       "      <th>number_of_reviews</th>\n",
       "      <th>product_description</th>\n",
       "      <th>product_information</th>\n",
       "      <th>product_name</th>\n",
       "      <th>uniq_id</th>\n",
       "      <th>item_type</th>\n",
       "      <th>price_new</th>\n",
       "      <th>average_review_rating(out of 5)</th>\n",
       "      <th>root_category</th>\n",
       "      <th>leaf_category_1</th>\n",
       "      <th>leaf_category_2</th>\n",
       "      <th>leaf_category_3</th>\n",
       "    </tr>\n",
       "  </thead>\n",
       "  <tbody>\n",
       "    <tr>\n",
       "      <th>0</th>\n",
       "      <td>(627d424b66d833ad31566bfe,)</td>\n",
       "      <td>Does this catalogue detail all the previous Ho...</td>\n",
       "      <td>Product Description Hornby 2014 Catalogue Box ...</td>\n",
       "      <td>http://www.amazon.co.uk/Hornby-R8150-Catalogue...</td>\n",
       "      <td>Hornby</td>\n",
       "      <td>5.0</td>\n",
       "      <td>1.0</td>\n",
       "      <td>15.0</td>\n",
       "      <td>Product Description Hornby 2014 Catalogue Box ...</td>\n",
       "      <td>Technical Details Item Weight640 g Product Dim...</td>\n",
       "      <td>Hornby 2014 Catalogue</td>\n",
       "      <td>eac7efa5dbd3d667f26eb3d3ab504464</td>\n",
       "      <td>new</td>\n",
       "      <td>3.42</td>\n",
       "      <td>4.9</td>\n",
       "      <td>Hobbies</td>\n",
       "      <td>Model Trains &amp; Railway Sets</td>\n",
       "      <td>Rail Vehicles</td>\n",
       "      <td>Trains</td>\n",
       "    </tr>\n",
       "    <tr>\n",
       "      <th>1</th>\n",
       "      <td>(627d424b66d833ad31566bff,)</td>\n",
       "      <td>can you turn off sounds // hi no you cant turn...</td>\n",
       "      <td>Size Name:Large FunkyBuys® Large Christmas Hol...</td>\n",
       "      <td>http://www.amazon.co.uk/Christmas-Holiday-Expr...</td>\n",
       "      <td>FunkyBuys</td>\n",
       "      <td>NaN</td>\n",
       "      <td>1.0</td>\n",
       "      <td>2.0</td>\n",
       "      <td>Size Name:Large FunkyBuys® Large Christmas Hol...</td>\n",
       "      <td>Technical Details Manufacturer recommended age...</td>\n",
       "      <td>FunkyBuys® Large Christmas Holiday Express Fes...</td>\n",
       "      <td>b17540ef7e86e461d37f3ae58b7b72ac</td>\n",
       "      <td>NaN</td>\n",
       "      <td>16.99</td>\n",
       "      <td>4.5</td>\n",
       "      <td>Hobbies</td>\n",
       "      <td>Model Trains &amp; Railway Sets</td>\n",
       "      <td>Rail Vehicles</td>\n",
       "      <td>Trains</td>\n",
       "    </tr>\n",
       "    <tr>\n",
       "      <th>2</th>\n",
       "      <td>(627d424b66d833ad31566c00,)</td>\n",
       "      <td>What is the gauge of the track // Hi Paul.Trut...</td>\n",
       "      <td>BIG CLASSIC TOY TRAIN SET TRACK CARRIAGE LIGHT...</td>\n",
       "      <td>http://www.amazon.co.uk/Train-With-Tracks-Batt...</td>\n",
       "      <td>ccf</td>\n",
       "      <td>2.0</td>\n",
       "      <td>2.0</td>\n",
       "      <td>17.0</td>\n",
       "      <td>BIG CLASSIC TOY TRAIN SET TRACK CARRIAGE LIGHT...</td>\n",
       "      <td>Technical Details Manufacturer recommended age...</td>\n",
       "      <td>CLASSIC TOY TRAIN SET TRACK CARRIAGES LIGHT EN...</td>\n",
       "      <td>348f344247b0c1a935b1223072ef9d8a</td>\n",
       "      <td>new</td>\n",
       "      <td>9.99</td>\n",
       "      <td>3.9</td>\n",
       "      <td>Hobbies</td>\n",
       "      <td>Model Trains &amp; Railway Sets</td>\n",
       "      <td>Rail Vehicles</td>\n",
       "      <td>Trains</td>\n",
       "    </tr>\n",
       "    <tr>\n",
       "      <th>3</th>\n",
       "      <td>(627d424b66d833ad31566c01,)</td>\n",
       "      <td>None</td>\n",
       "      <td>Hornby 00 Gauge BR Hawksworth 3rd Class W 2107...</td>\n",
       "      <td>None</td>\n",
       "      <td>Hornby</td>\n",
       "      <td>NaN</td>\n",
       "      <td>2.0</td>\n",
       "      <td>1.0</td>\n",
       "      <td>Hornby 00 Gauge BR Hawksworth 3rd Class W 2107...</td>\n",
       "      <td>Technical Details Item Weight259 g Product Dim...</td>\n",
       "      <td>HORNBY Coach R4410A BR Hawksworth Corridor 3rd</td>\n",
       "      <td>e12b92dbb8eaee78b22965d2a9bbbd9f</td>\n",
       "      <td>NaN</td>\n",
       "      <td>39.99</td>\n",
       "      <td>5.0</td>\n",
       "      <td>Hobbies</td>\n",
       "      <td>Model Trains &amp; Railway Sets</td>\n",
       "      <td>Rail Vehicles</td>\n",
       "      <td>Trains</td>\n",
       "    </tr>\n",
       "    <tr>\n",
       "      <th>4</th>\n",
       "      <td>(627d424b66d833ad31566c02,)</td>\n",
       "      <td>None</td>\n",
       "      <td>Product Description Hornby RailRoad 0-4-0 Gild...</td>\n",
       "      <td>http://www.amazon.co.uk/Hornby-R2672-RailRoad-...</td>\n",
       "      <td>Hornby</td>\n",
       "      <td>NaN</td>\n",
       "      <td>2.0</td>\n",
       "      <td>3.0</td>\n",
       "      <td>Product Description Hornby RailRoad 0-4-0 Gild...</td>\n",
       "      <td>Technical Details Item Weight159 g Product Dim...</td>\n",
       "      <td>Hornby 00 Gauge 0-4-0 Gildenlow Salt Co. Steam...</td>\n",
       "      <td>e33a9adeed5f36840ccc227db4682a36</td>\n",
       "      <td>NaN</td>\n",
       "      <td>32.19</td>\n",
       "      <td>4.7</td>\n",
       "      <td>Hobbies</td>\n",
       "      <td>Model Trains &amp; Railway Sets</td>\n",
       "      <td>Rail Vehicles</td>\n",
       "      <td>Trains</td>\n",
       "    </tr>\n",
       "  </tbody>\n",
       "</table>\n",
       "</div>"
      ],
      "text/plain": [
       "                           _id  \\\n",
       "0  (627d424b66d833ad31566bfe,)   \n",
       "1  (627d424b66d833ad31566bff,)   \n",
       "2  (627d424b66d833ad31566c00,)   \n",
       "3  (627d424b66d833ad31566c01,)   \n",
       "4  (627d424b66d833ad31566c02,)   \n",
       "\n",
       "                      customer_questions_and_answers  \\\n",
       "0  Does this catalogue detail all the previous Ho...   \n",
       "1  can you turn off sounds // hi no you cant turn...   \n",
       "2  What is the gauge of the track // Hi Paul.Trut...   \n",
       "3                                               None   \n",
       "4                                               None   \n",
       "\n",
       "                                         description  \\\n",
       "0  Product Description Hornby 2014 Catalogue Box ...   \n",
       "1  Size Name:Large FunkyBuys® Large Christmas Hol...   \n",
       "2  BIG CLASSIC TOY TRAIN SET TRACK CARRIAGE LIGHT...   \n",
       "3  Hornby 00 Gauge BR Hawksworth 3rd Class W 2107...   \n",
       "4  Product Description Hornby RailRoad 0-4-0 Gild...   \n",
       "\n",
       "         items_customers_buy_after_viewing_this_item manufacturer  \\\n",
       "0  http://www.amazon.co.uk/Hornby-R8150-Catalogue...       Hornby   \n",
       "1  http://www.amazon.co.uk/Christmas-Holiday-Expr...    FunkyBuys   \n",
       "2  http://www.amazon.co.uk/Train-With-Tracks-Batt...          ccf   \n",
       "3                                               None       Hornby   \n",
       "4  http://www.amazon.co.uk/Hornby-R2672-RailRoad-...       Hornby   \n",
       "\n",
       "   number_available_in_stock  number_of_answered_questions  number_of_reviews  \\\n",
       "0                        5.0                           1.0               15.0   \n",
       "1                        NaN                           1.0                2.0   \n",
       "2                        2.0                           2.0               17.0   \n",
       "3                        NaN                           2.0                1.0   \n",
       "4                        NaN                           2.0                3.0   \n",
       "\n",
       "                                 product_description  \\\n",
       "0  Product Description Hornby 2014 Catalogue Box ...   \n",
       "1  Size Name:Large FunkyBuys® Large Christmas Hol...   \n",
       "2  BIG CLASSIC TOY TRAIN SET TRACK CARRIAGE LIGHT...   \n",
       "3  Hornby 00 Gauge BR Hawksworth 3rd Class W 2107...   \n",
       "4  Product Description Hornby RailRoad 0-4-0 Gild...   \n",
       "\n",
       "                                 product_information  \\\n",
       "0  Technical Details Item Weight640 g Product Dim...   \n",
       "1  Technical Details Manufacturer recommended age...   \n",
       "2  Technical Details Manufacturer recommended age...   \n",
       "3  Technical Details Item Weight259 g Product Dim...   \n",
       "4  Technical Details Item Weight159 g Product Dim...   \n",
       "\n",
       "                                        product_name  \\\n",
       "0                              Hornby 2014 Catalogue   \n",
       "1  FunkyBuys® Large Christmas Holiday Express Fes...   \n",
       "2  CLASSIC TOY TRAIN SET TRACK CARRIAGES LIGHT EN...   \n",
       "3     HORNBY Coach R4410A BR Hawksworth Corridor 3rd   \n",
       "4  Hornby 00 Gauge 0-4-0 Gildenlow Salt Co. Steam...   \n",
       "\n",
       "                            uniq_id item_type  price_new  \\\n",
       "0  eac7efa5dbd3d667f26eb3d3ab504464       new       3.42   \n",
       "1  b17540ef7e86e461d37f3ae58b7b72ac       NaN      16.99   \n",
       "2  348f344247b0c1a935b1223072ef9d8a       new       9.99   \n",
       "3  e12b92dbb8eaee78b22965d2a9bbbd9f       NaN      39.99   \n",
       "4  e33a9adeed5f36840ccc227db4682a36       NaN      32.19   \n",
       "\n",
       "   average_review_rating(out of 5) root_category  \\\n",
       "0                              4.9      Hobbies    \n",
       "1                              4.5      Hobbies    \n",
       "2                              3.9      Hobbies    \n",
       "3                              5.0      Hobbies    \n",
       "4                              4.7      Hobbies    \n",
       "\n",
       "                 leaf_category_1  leaf_category_2 leaf_category_3  \n",
       "0   Model Trains & Railway Sets    Rail Vehicles           Trains  \n",
       "1   Model Trains & Railway Sets    Rail Vehicles           Trains  \n",
       "2   Model Trains & Railway Sets    Rail Vehicles           Trains  \n",
       "3   Model Trains & Railway Sets    Rail Vehicles           Trains  \n",
       "4   Model Trains & Railway Sets    Rail Vehicles           Trains  "
      ]
     },
     "execution_count": 39,
     "metadata": {},
     "output_type": "execute_result"
    }
   ],
   "source": [
    "df_new.head()"
   ]
  },
  {
   "cell_type": "code",
   "execution_count": 40,
   "id": "3d46c1ee",
   "metadata": {},
   "outputs": [
    {
     "data": {
      "text/html": [
       "<div>\n",
       "<style scoped>\n",
       "    .dataframe tbody tr th:only-of-type {\n",
       "        vertical-align: middle;\n",
       "    }\n",
       "\n",
       "    .dataframe tbody tr th {\n",
       "        vertical-align: top;\n",
       "    }\n",
       "\n",
       "    .dataframe thead th {\n",
       "        text-align: right;\n",
       "    }\n",
       "</style>\n",
       "<table border=\"1\" class=\"dataframe\">\n",
       "  <thead>\n",
       "    <tr style=\"text-align: right;\">\n",
       "      <th></th>\n",
       "      <th>_id</th>\n",
       "      <th>customer_questions_and_answers</th>\n",
       "      <th>description</th>\n",
       "      <th>items_customers_buy_after_viewing_this_item</th>\n",
       "      <th>manufacturer</th>\n",
       "      <th>number_available_in_stock</th>\n",
       "      <th>number_of_answered_questions</th>\n",
       "      <th>number_of_reviews</th>\n",
       "      <th>product_description</th>\n",
       "      <th>product_information</th>\n",
       "      <th>product_name</th>\n",
       "      <th>uniq_id</th>\n",
       "      <th>item_type</th>\n",
       "      <th>price_new</th>\n",
       "      <th>average_review_rating(out of 5)</th>\n",
       "      <th>root_category</th>\n",
       "      <th>leaf_category_1</th>\n",
       "      <th>leaf_category_2</th>\n",
       "      <th>leaf_category_3</th>\n",
       "    </tr>\n",
       "  </thead>\n",
       "  <tbody>\n",
       "    <tr>\n",
       "      <th>0</th>\n",
       "      <td>(627d424b66d833ad31566bfe,)</td>\n",
       "      <td>Does this catalogue detail all the previous Ho...</td>\n",
       "      <td>Product Description Hornby 2014 Catalogue Box ...</td>\n",
       "      <td>http://www.amazon.co.uk/Hornby-R8150-Catalogue...</td>\n",
       "      <td>Hornby</td>\n",
       "      <td>5.0</td>\n",
       "      <td>1.0</td>\n",
       "      <td>15.0</td>\n",
       "      <td>Product Description Hornby 2014 Catalogue Box ...</td>\n",
       "      <td>Technical Details Item Weight640 g Product Dim...</td>\n",
       "      <td>Hornby 2014 Catalogue</td>\n",
       "      <td>eac7efa5dbd3d667f26eb3d3ab504464</td>\n",
       "      <td>new</td>\n",
       "      <td>3.42</td>\n",
       "      <td>4.9</td>\n",
       "      <td>Hobbies</td>\n",
       "      <td>Model Trains &amp; Railway Sets</td>\n",
       "      <td>Rail Vehicles</td>\n",
       "      <td>Trains</td>\n",
       "    </tr>\n",
       "    <tr>\n",
       "      <th>1</th>\n",
       "      <td>(627d424b66d833ad31566bff,)</td>\n",
       "      <td>can you turn off sounds // hi no you cant turn...</td>\n",
       "      <td>Size Name:Large FunkyBuys® Large Christmas Hol...</td>\n",
       "      <td>http://www.amazon.co.uk/Christmas-Holiday-Expr...</td>\n",
       "      <td>FunkyBuys</td>\n",
       "      <td>NaN</td>\n",
       "      <td>1.0</td>\n",
       "      <td>2.0</td>\n",
       "      <td>Size Name:Large FunkyBuys® Large Christmas Hol...</td>\n",
       "      <td>Technical Details Manufacturer recommended age...</td>\n",
       "      <td>FunkyBuys® Large Christmas Holiday Express Fes...</td>\n",
       "      <td>b17540ef7e86e461d37f3ae58b7b72ac</td>\n",
       "      <td>NaN</td>\n",
       "      <td>16.99</td>\n",
       "      <td>4.5</td>\n",
       "      <td>Hobbies</td>\n",
       "      <td>Model Trains &amp; Railway Sets</td>\n",
       "      <td>Rail Vehicles</td>\n",
       "      <td>Trains</td>\n",
       "    </tr>\n",
       "    <tr>\n",
       "      <th>2</th>\n",
       "      <td>(627d424b66d833ad31566c00,)</td>\n",
       "      <td>What is the gauge of the track // Hi Paul.Trut...</td>\n",
       "      <td>BIG CLASSIC TOY TRAIN SET TRACK CARRIAGE LIGHT...</td>\n",
       "      <td>http://www.amazon.co.uk/Train-With-Tracks-Batt...</td>\n",
       "      <td>ccf</td>\n",
       "      <td>2.0</td>\n",
       "      <td>2.0</td>\n",
       "      <td>17.0</td>\n",
       "      <td>BIG CLASSIC TOY TRAIN SET TRACK CARRIAGE LIGHT...</td>\n",
       "      <td>Technical Details Manufacturer recommended age...</td>\n",
       "      <td>CLASSIC TOY TRAIN SET TRACK CARRIAGES LIGHT EN...</td>\n",
       "      <td>348f344247b0c1a935b1223072ef9d8a</td>\n",
       "      <td>new</td>\n",
       "      <td>9.99</td>\n",
       "      <td>3.9</td>\n",
       "      <td>Hobbies</td>\n",
       "      <td>Model Trains &amp; Railway Sets</td>\n",
       "      <td>Rail Vehicles</td>\n",
       "      <td>Trains</td>\n",
       "    </tr>\n",
       "    <tr>\n",
       "      <th>3</th>\n",
       "      <td>(627d424b66d833ad31566c01,)</td>\n",
       "      <td>None</td>\n",
       "      <td>Hornby 00 Gauge BR Hawksworth 3rd Class W 2107...</td>\n",
       "      <td>None</td>\n",
       "      <td>Hornby</td>\n",
       "      <td>NaN</td>\n",
       "      <td>2.0</td>\n",
       "      <td>1.0</td>\n",
       "      <td>Hornby 00 Gauge BR Hawksworth 3rd Class W 2107...</td>\n",
       "      <td>Technical Details Item Weight259 g Product Dim...</td>\n",
       "      <td>HORNBY Coach R4410A BR Hawksworth Corridor 3rd</td>\n",
       "      <td>e12b92dbb8eaee78b22965d2a9bbbd9f</td>\n",
       "      <td>NaN</td>\n",
       "      <td>39.99</td>\n",
       "      <td>5.0</td>\n",
       "      <td>Hobbies</td>\n",
       "      <td>Model Trains &amp; Railway Sets</td>\n",
       "      <td>Rail Vehicles</td>\n",
       "      <td>Trains</td>\n",
       "    </tr>\n",
       "    <tr>\n",
       "      <th>4</th>\n",
       "      <td>(627d424b66d833ad31566c02,)</td>\n",
       "      <td>None</td>\n",
       "      <td>Product Description Hornby RailRoad 0-4-0 Gild...</td>\n",
       "      <td>http://www.amazon.co.uk/Hornby-R2672-RailRoad-...</td>\n",
       "      <td>Hornby</td>\n",
       "      <td>NaN</td>\n",
       "      <td>2.0</td>\n",
       "      <td>3.0</td>\n",
       "      <td>Product Description Hornby RailRoad 0-4-0 Gild...</td>\n",
       "      <td>Technical Details Item Weight159 g Product Dim...</td>\n",
       "      <td>Hornby 00 Gauge 0-4-0 Gildenlow Salt Co. Steam...</td>\n",
       "      <td>e33a9adeed5f36840ccc227db4682a36</td>\n",
       "      <td>NaN</td>\n",
       "      <td>32.19</td>\n",
       "      <td>4.7</td>\n",
       "      <td>Hobbies</td>\n",
       "      <td>Model Trains &amp; Railway Sets</td>\n",
       "      <td>Rail Vehicles</td>\n",
       "      <td>Trains</td>\n",
       "    </tr>\n",
       "  </tbody>\n",
       "</table>\n",
       "</div>"
      ],
      "text/plain": [
       "                           _id  \\\n",
       "0  (627d424b66d833ad31566bfe,)   \n",
       "1  (627d424b66d833ad31566bff,)   \n",
       "2  (627d424b66d833ad31566c00,)   \n",
       "3  (627d424b66d833ad31566c01,)   \n",
       "4  (627d424b66d833ad31566c02,)   \n",
       "\n",
       "                      customer_questions_and_answers  \\\n",
       "0  Does this catalogue detail all the previous Ho...   \n",
       "1  can you turn off sounds // hi no you cant turn...   \n",
       "2  What is the gauge of the track // Hi Paul.Trut...   \n",
       "3                                               None   \n",
       "4                                               None   \n",
       "\n",
       "                                         description  \\\n",
       "0  Product Description Hornby 2014 Catalogue Box ...   \n",
       "1  Size Name:Large FunkyBuys® Large Christmas Hol...   \n",
       "2  BIG CLASSIC TOY TRAIN SET TRACK CARRIAGE LIGHT...   \n",
       "3  Hornby 00 Gauge BR Hawksworth 3rd Class W 2107...   \n",
       "4  Product Description Hornby RailRoad 0-4-0 Gild...   \n",
       "\n",
       "         items_customers_buy_after_viewing_this_item manufacturer  \\\n",
       "0  http://www.amazon.co.uk/Hornby-R8150-Catalogue...       Hornby   \n",
       "1  http://www.amazon.co.uk/Christmas-Holiday-Expr...    FunkyBuys   \n",
       "2  http://www.amazon.co.uk/Train-With-Tracks-Batt...          ccf   \n",
       "3                                               None       Hornby   \n",
       "4  http://www.amazon.co.uk/Hornby-R2672-RailRoad-...       Hornby   \n",
       "\n",
       "   number_available_in_stock  number_of_answered_questions  number_of_reviews  \\\n",
       "0                        5.0                           1.0               15.0   \n",
       "1                        NaN                           1.0                2.0   \n",
       "2                        2.0                           2.0               17.0   \n",
       "3                        NaN                           2.0                1.0   \n",
       "4                        NaN                           2.0                3.0   \n",
       "\n",
       "                                 product_description  \\\n",
       "0  Product Description Hornby 2014 Catalogue Box ...   \n",
       "1  Size Name:Large FunkyBuys® Large Christmas Hol...   \n",
       "2  BIG CLASSIC TOY TRAIN SET TRACK CARRIAGE LIGHT...   \n",
       "3  Hornby 00 Gauge BR Hawksworth 3rd Class W 2107...   \n",
       "4  Product Description Hornby RailRoad 0-4-0 Gild...   \n",
       "\n",
       "                                 product_information  \\\n",
       "0  Technical Details Item Weight640 g Product Dim...   \n",
       "1  Technical Details Manufacturer recommended age...   \n",
       "2  Technical Details Manufacturer recommended age...   \n",
       "3  Technical Details Item Weight259 g Product Dim...   \n",
       "4  Technical Details Item Weight159 g Product Dim...   \n",
       "\n",
       "                                        product_name  \\\n",
       "0                              Hornby 2014 Catalogue   \n",
       "1  FunkyBuys® Large Christmas Holiday Express Fes...   \n",
       "2  CLASSIC TOY TRAIN SET TRACK CARRIAGES LIGHT EN...   \n",
       "3     HORNBY Coach R4410A BR Hawksworth Corridor 3rd   \n",
       "4  Hornby 00 Gauge 0-4-0 Gildenlow Salt Co. Steam...   \n",
       "\n",
       "                            uniq_id item_type  price_new  \\\n",
       "0  eac7efa5dbd3d667f26eb3d3ab504464       new       3.42   \n",
       "1  b17540ef7e86e461d37f3ae58b7b72ac       NaN      16.99   \n",
       "2  348f344247b0c1a935b1223072ef9d8a       new       9.99   \n",
       "3  e12b92dbb8eaee78b22965d2a9bbbd9f       NaN      39.99   \n",
       "4  e33a9adeed5f36840ccc227db4682a36       NaN      32.19   \n",
       "\n",
       "   average_review_rating(out of 5) root_category  \\\n",
       "0                              4.9      Hobbies    \n",
       "1                              4.5      Hobbies    \n",
       "2                              3.9      Hobbies    \n",
       "3                              5.0      Hobbies    \n",
       "4                              4.7      Hobbies    \n",
       "\n",
       "                 leaf_category_1  leaf_category_2 leaf_category_3  \n",
       "0   Model Trains & Railway Sets    Rail Vehicles           Trains  \n",
       "1   Model Trains & Railway Sets    Rail Vehicles           Trains  \n",
       "2   Model Trains & Railway Sets    Rail Vehicles           Trains  \n",
       "3   Model Trains & Railway Sets    Rail Vehicles           Trains  \n",
       "4   Model Trains & Railway Sets    Rail Vehicles           Trains  "
      ]
     },
     "execution_count": 40,
     "metadata": {},
     "output_type": "execute_result"
    }
   ],
   "source": [
    "# New dataframe with price as a subset\n",
    "p_df = df_new.dropna(subset=['price_new'])\n",
    "p_df.head()"
   ]
  },
  {
   "cell_type": "code",
   "execution_count": 41,
   "id": "a4d95b85",
   "metadata": {},
   "outputs": [
    {
     "data": {
      "text/html": [
       "<div>\n",
       "<style scoped>\n",
       "    .dataframe tbody tr th:only-of-type {\n",
       "        vertical-align: middle;\n",
       "    }\n",
       "\n",
       "    .dataframe tbody tr th {\n",
       "        vertical-align: top;\n",
       "    }\n",
       "\n",
       "    .dataframe thead th {\n",
       "        text-align: right;\n",
       "    }\n",
       "</style>\n",
       "<table border=\"1\" class=\"dataframe\">\n",
       "  <thead>\n",
       "    <tr style=\"text-align: right;\">\n",
       "      <th></th>\n",
       "      <th>price_new</th>\n",
       "    </tr>\n",
       "    <tr>\n",
       "      <th>manufacturer</th>\n",
       "      <th></th>\n",
       "    </tr>\n",
       "  </thead>\n",
       "  <tbody>\n",
       "    <tr>\n",
       "      <th>Bowen Designs</th>\n",
       "      <td>2439.92</td>\n",
       "    </tr>\n",
       "    <tr>\n",
       "      <th>DJI</th>\n",
       "      <td>995.11</td>\n",
       "    </tr>\n",
       "    <tr>\n",
       "      <th>Sideshow</th>\n",
       "      <td>719.95</td>\n",
       "    </tr>\n",
       "    <tr>\n",
       "      <th>AUTOart</th>\n",
       "      <td>648.95</td>\n",
       "    </tr>\n",
       "    <tr>\n",
       "      <th>Bushiroad</th>\n",
       "      <td>629.95</td>\n",
       "    </tr>\n",
       "    <tr>\n",
       "      <th>...</th>\n",
       "      <td>...</td>\n",
       "    </tr>\n",
       "    <tr>\n",
       "      <th>k2-accessories Acrylic Plastic Beads</th>\n",
       "      <td>0.90</td>\n",
       "    </tr>\n",
       "    <tr>\n",
       "      <th>Card Concept</th>\n",
       "      <td>0.83</td>\n",
       "    </tr>\n",
       "    <tr>\n",
       "      <th>unisex party bag fillers</th>\n",
       "      <td>0.60</td>\n",
       "    </tr>\n",
       "    <tr>\n",
       "      <th>Neopets</th>\n",
       "      <td>0.38</td>\n",
       "    </tr>\n",
       "    <tr>\n",
       "      <th>Just Feathers by Crazy Grans</th>\n",
       "      <td>0.37</td>\n",
       "    </tr>\n",
       "  </tbody>\n",
       "</table>\n",
       "<p>2363 rows × 1 columns</p>\n",
       "</div>"
      ],
      "text/plain": [
       "                                      price_new\n",
       "manufacturer                                   \n",
       "Bowen Designs                           2439.92\n",
       "DJI                                      995.11\n",
       "Sideshow                                 719.95\n",
       "AUTOart                                  648.95\n",
       "Bushiroad                                629.95\n",
       "...                                         ...\n",
       "k2-accessories Acrylic Plastic Beads       0.90\n",
       "Card Concept                               0.83\n",
       "unisex party bag fillers                   0.60\n",
       "Neopets                                    0.38\n",
       "Just Feathers by Crazy Grans               0.37\n",
       "\n",
       "[2363 rows x 1 columns]"
      ]
     },
     "execution_count": 41,
     "metadata": {},
     "output_type": "execute_result"
    }
   ],
   "source": [
    "p_df[[\"price_new\", \"manufacturer\"]].groupby(\"manufacturer\").max().sort_values(by = \"price_new\",ascending = False)"
   ]
  },
  {
   "cell_type": "code",
   "execution_count": 42,
   "id": "8b3b300e",
   "metadata": {},
   "outputs": [],
   "source": [
    "values = p_df[\"manufacturer\"].value_counts().keys().tolist()[:10]\n",
    "counts = p_df[\"manufacturer\"].value_counts().tolist()[:10]"
   ]
  },
  {
   "cell_type": "code",
   "execution_count": 43,
   "id": "519da091",
   "metadata": {},
   "outputs": [
    {
     "data": {
      "text/plain": [
       "['Oxford Diecast',\n",
       " 'LEGO',\n",
       " 'Disney',\n",
       " 'Playmobil',\n",
       " 'The Puppet Company',\n",
       " 'Star Wars',\n",
       " 'MyTinyWorld',\n",
       " 'Mattel',\n",
       " 'Hasbro',\n",
       " 'Corgi']"
      ]
     },
     "execution_count": 43,
     "metadata": {},
     "output_type": "execute_result"
    }
   ],
   "source": [
    "values"
   ]
  },
  {
   "cell_type": "markdown",
   "id": "772c0bac",
   "metadata": {},
   "source": [
    "Top 10 manufacturers, in which 'Oxford Diecast' products are more sold"
   ]
  },
  {
   "cell_type": "code",
   "execution_count": 44,
   "id": "672de706",
   "metadata": {},
   "outputs": [
    {
     "data": {
      "text/html": [
       "<div>\n",
       "<style scoped>\n",
       "    .dataframe tbody tr th:only-of-type {\n",
       "        vertical-align: middle;\n",
       "    }\n",
       "\n",
       "    .dataframe tbody tr th {\n",
       "        vertical-align: top;\n",
       "    }\n",
       "\n",
       "    .dataframe thead th {\n",
       "        text-align: right;\n",
       "    }\n",
       "</style>\n",
       "<table border=\"1\" class=\"dataframe\">\n",
       "  <thead>\n",
       "    <tr style=\"text-align: right;\">\n",
       "      <th></th>\n",
       "      <th>_id</th>\n",
       "      <th>customer_questions_and_answers</th>\n",
       "      <th>description</th>\n",
       "      <th>items_customers_buy_after_viewing_this_item</th>\n",
       "      <th>manufacturer</th>\n",
       "      <th>number_available_in_stock</th>\n",
       "      <th>number_of_answered_questions</th>\n",
       "      <th>number_of_reviews</th>\n",
       "      <th>product_description</th>\n",
       "      <th>product_information</th>\n",
       "      <th>product_name</th>\n",
       "      <th>uniq_id</th>\n",
       "      <th>item_type</th>\n",
       "      <th>price_new</th>\n",
       "      <th>average_review_rating(out of 5)</th>\n",
       "      <th>root_category</th>\n",
       "      <th>leaf_category_1</th>\n",
       "      <th>leaf_category_2</th>\n",
       "      <th>leaf_category_3</th>\n",
       "    </tr>\n",
       "  </thead>\n",
       "  <tbody>\n",
       "    <tr>\n",
       "      <th>804</th>\n",
       "      <td>(627d424b66d833ad31566f22,)</td>\n",
       "      <td>None</td>\n",
       "      <td>The Ford Anglia , appeared in 1959 and when it...</td>\n",
       "      <td>http://www.amazon.co.uk/Cararama-Anglia-Sunbur...</td>\n",
       "      <td>Oxford Diecast</td>\n",
       "      <td>4.0</td>\n",
       "      <td>11.0</td>\n",
       "      <td>4.0</td>\n",
       "      <td>The Ford Anglia , appeared in 1959 and when it...</td>\n",
       "      <td>Technical Details Item Weight18 g Product Dime...</td>\n",
       "      <td>Oxford Diecast Anglia Police Panda 76105003</td>\n",
       "      <td>d994e8cb4d0b15683da91652901d9895</td>\n",
       "      <td>new</td>\n",
       "      <td>4.75</td>\n",
       "      <td>4.8</td>\n",
       "      <td>Die-Cast &amp; Toy Vehicles</td>\n",
       "      <td>Toy Vehicles &amp; Accessories</td>\n",
       "      <td>Scaled Models</td>\n",
       "      <td>Vehicles</td>\n",
       "    </tr>\n",
       "    <tr>\n",
       "      <th>830</th>\n",
       "      <td>(627d424b66d833ad31566f3c,)</td>\n",
       "      <td>None</td>\n",
       "      <td>Product Description In the early 1960s the mos...</td>\n",
       "      <td>http://www.amazon.co.uk/Omnibus-RM075-OMNIBUS-...</td>\n",
       "      <td>Oxford Diecast</td>\n",
       "      <td>5.0</td>\n",
       "      <td>1.0</td>\n",
       "      <td>1.0</td>\n",
       "      <td>Product Description In the early 1960s the mos...</td>\n",
       "      <td>Technical Details Item Weight82 g Product Dime...</td>\n",
       "      <td>Oxford Diecast Evening News Metal Model</td>\n",
       "      <td>8f4a9ace7bb4ae6e6d8dda96d94bd332</td>\n",
       "      <td>new</td>\n",
       "      <td>10.95</td>\n",
       "      <td>5.0</td>\n",
       "      <td>Die-Cast &amp; Toy Vehicles</td>\n",
       "      <td>Toy Vehicles &amp; Accessories</td>\n",
       "      <td>Scaled Models</td>\n",
       "      <td>Vehicles</td>\n",
       "    </tr>\n",
       "    <tr>\n",
       "      <th>835</th>\n",
       "      <td>(627d424b66d833ad31566f41,)</td>\n",
       "      <td>None</td>\n",
       "      <td>Oxford has released a 1:43 diecast model of th...</td>\n",
       "      <td>None</td>\n",
       "      <td>Oxford Diecast</td>\n",
       "      <td>NaN</td>\n",
       "      <td>1.0</td>\n",
       "      <td>1.0</td>\n",
       "      <td>Oxford has released a 1:43 diecast model of th...</td>\n",
       "      <td>Technical Details Item Weight100 g Product Dim...</td>\n",
       "      <td>Jaguar SS 2.5 Saloon - Cream</td>\n",
       "      <td>af9511db607fe37119d4487c12f4d91d</td>\n",
       "      <td>NaN</td>\n",
       "      <td>24.99</td>\n",
       "      <td>5.0</td>\n",
       "      <td>Die-Cast &amp; Toy Vehicles</td>\n",
       "      <td>Toy Vehicles &amp; Accessories</td>\n",
       "      <td>Scaled Models</td>\n",
       "      <td>Vehicles</td>\n",
       "    </tr>\n",
       "    <tr>\n",
       "      <th>838</th>\n",
       "      <td>(627d424b66d833ad31566f44,)</td>\n",
       "      <td>None</td>\n",
       "      <td>Bertram Mills David Brown tractor, NLP 751 was...</td>\n",
       "      <td>None</td>\n",
       "      <td>Oxford Diecast</td>\n",
       "      <td>6.0</td>\n",
       "      <td>1.0</td>\n",
       "      <td>1.0</td>\n",
       "      <td>Bertram Mills David Brown tractor, NLP 751 was...</td>\n",
       "      <td>Technical Details Item Weight23 g Product Dime...</td>\n",
       "      <td>Oxford Diecast Bertram Mills David Brown Tract...</td>\n",
       "      <td>168f748bc19af21dfabafdefb65522a0</td>\n",
       "      <td>new</td>\n",
       "      <td>7.21</td>\n",
       "      <td>5.0</td>\n",
       "      <td>Die-Cast &amp; Toy Vehicles</td>\n",
       "      <td>Toy Vehicles &amp; Accessories</td>\n",
       "      <td>Scaled Models</td>\n",
       "      <td>Vehicles</td>\n",
       "    </tr>\n",
       "    <tr>\n",
       "      <th>839</th>\n",
       "      <td>(627d424b66d833ad31566f45,)</td>\n",
       "      <td>None</td>\n",
       "      <td>Rover chief engineer Maurice Wilks was inspire...</td>\n",
       "      <td>http://www.amazon.co.uk/Oxford-Diecast-76LAN18...</td>\n",
       "      <td>Oxford Diecast</td>\n",
       "      <td>7.0</td>\n",
       "      <td>1.0</td>\n",
       "      <td>2.0</td>\n",
       "      <td>Rover chief engineer Maurice Wilks was inspire...</td>\n",
       "      <td>Technical Details Item Weight14 g Product Dime...</td>\n",
       "      <td>Oxford Diecast Bronze Green 76LAN188003</td>\n",
       "      <td>231cc7273399cc91df8f5d452eea4283</td>\n",
       "      <td>new</td>\n",
       "      <td>6.75</td>\n",
       "      <td>4.5</td>\n",
       "      <td>Die-Cast &amp; Toy Vehicles</td>\n",
       "      <td>Toy Vehicles &amp; Accessories</td>\n",
       "      <td>Scaled Models</td>\n",
       "      <td>Vehicles</td>\n",
       "    </tr>\n",
       "  </tbody>\n",
       "</table>\n",
       "</div>"
      ],
      "text/plain": [
       "                             _id customer_questions_and_answers  \\\n",
       "804  (627d424b66d833ad31566f22,)                           None   \n",
       "830  (627d424b66d833ad31566f3c,)                           None   \n",
       "835  (627d424b66d833ad31566f41,)                           None   \n",
       "838  (627d424b66d833ad31566f44,)                           None   \n",
       "839  (627d424b66d833ad31566f45,)                           None   \n",
       "\n",
       "                                           description  \\\n",
       "804  The Ford Anglia , appeared in 1959 and when it...   \n",
       "830  Product Description In the early 1960s the mos...   \n",
       "835  Oxford has released a 1:43 diecast model of th...   \n",
       "838  Bertram Mills David Brown tractor, NLP 751 was...   \n",
       "839  Rover chief engineer Maurice Wilks was inspire...   \n",
       "\n",
       "           items_customers_buy_after_viewing_this_item    manufacturer  \\\n",
       "804  http://www.amazon.co.uk/Cararama-Anglia-Sunbur...  Oxford Diecast   \n",
       "830  http://www.amazon.co.uk/Omnibus-RM075-OMNIBUS-...  Oxford Diecast   \n",
       "835                                               None  Oxford Diecast   \n",
       "838                                               None  Oxford Diecast   \n",
       "839  http://www.amazon.co.uk/Oxford-Diecast-76LAN18...  Oxford Diecast   \n",
       "\n",
       "     number_available_in_stock  number_of_answered_questions  \\\n",
       "804                        4.0                          11.0   \n",
       "830                        5.0                           1.0   \n",
       "835                        NaN                           1.0   \n",
       "838                        6.0                           1.0   \n",
       "839                        7.0                           1.0   \n",
       "\n",
       "     number_of_reviews                                product_description  \\\n",
       "804                4.0  The Ford Anglia , appeared in 1959 and when it...   \n",
       "830                1.0  Product Description In the early 1960s the mos...   \n",
       "835                1.0  Oxford has released a 1:43 diecast model of th...   \n",
       "838                1.0  Bertram Mills David Brown tractor, NLP 751 was...   \n",
       "839                2.0  Rover chief engineer Maurice Wilks was inspire...   \n",
       "\n",
       "                                   product_information  \\\n",
       "804  Technical Details Item Weight18 g Product Dime...   \n",
       "830  Technical Details Item Weight82 g Product Dime...   \n",
       "835  Technical Details Item Weight100 g Product Dim...   \n",
       "838  Technical Details Item Weight23 g Product Dime...   \n",
       "839  Technical Details Item Weight14 g Product Dime...   \n",
       "\n",
       "                                          product_name  \\\n",
       "804        Oxford Diecast Anglia Police Panda 76105003   \n",
       "830            Oxford Diecast Evening News Metal Model   \n",
       "835                       Jaguar SS 2.5 Saloon - Cream   \n",
       "838  Oxford Diecast Bertram Mills David Brown Tract...   \n",
       "839            Oxford Diecast Bronze Green 76LAN188003   \n",
       "\n",
       "                              uniq_id item_type  price_new  \\\n",
       "804  d994e8cb4d0b15683da91652901d9895       new       4.75   \n",
       "830  8f4a9ace7bb4ae6e6d8dda96d94bd332       new      10.95   \n",
       "835  af9511db607fe37119d4487c12f4d91d       NaN      24.99   \n",
       "838  168f748bc19af21dfabafdefb65522a0       new       7.21   \n",
       "839  231cc7273399cc91df8f5d452eea4283       new       6.75   \n",
       "\n",
       "     average_review_rating(out of 5)             root_category  \\\n",
       "804                              4.8  Die-Cast & Toy Vehicles    \n",
       "830                              5.0  Die-Cast & Toy Vehicles    \n",
       "835                              5.0  Die-Cast & Toy Vehicles    \n",
       "838                              5.0  Die-Cast & Toy Vehicles    \n",
       "839                              4.5  Die-Cast & Toy Vehicles    \n",
       "\n",
       "                  leaf_category_1  leaf_category_2 leaf_category_3  \n",
       "804   Toy Vehicles & Accessories    Scaled Models         Vehicles  \n",
       "830   Toy Vehicles & Accessories    Scaled Models         Vehicles  \n",
       "835   Toy Vehicles & Accessories    Scaled Models         Vehicles  \n",
       "838   Toy Vehicles & Accessories    Scaled Models         Vehicles  \n",
       "839   Toy Vehicles & Accessories    Scaled Models         Vehicles  "
      ]
     },
     "execution_count": 44,
     "metadata": {},
     "output_type": "execute_result"
    }
   ],
   "source": [
    "# dataframe for 10 top manufacturers\n",
    "df_list = []\n",
    "for i in values:\n",
    "    x = p_df[p_df[\"manufacturer\"] == i]\n",
    "    df_list.append(x)\n",
    "dframe = pd.concat(df_list)\n",
    "dframe.head()"
   ]
  },
  {
   "cell_type": "code",
   "execution_count": 45,
   "id": "cb9baed3",
   "metadata": {},
   "outputs": [
    {
     "data": {
      "text/html": [
       "<div>\n",
       "<style scoped>\n",
       "    .dataframe tbody tr th:only-of-type {\n",
       "        vertical-align: middle;\n",
       "    }\n",
       "\n",
       "    .dataframe tbody tr th {\n",
       "        vertical-align: top;\n",
       "    }\n",
       "\n",
       "    .dataframe thead th {\n",
       "        text-align: right;\n",
       "    }\n",
       "</style>\n",
       "<table border=\"1\" class=\"dataframe\">\n",
       "  <thead>\n",
       "    <tr style=\"text-align: right;\">\n",
       "      <th></th>\n",
       "      <th>average_review_rating(out of 5)</th>\n",
       "    </tr>\n",
       "    <tr>\n",
       "      <th>manufacturer</th>\n",
       "      <th></th>\n",
       "    </tr>\n",
       "  </thead>\n",
       "  <tbody>\n",
       "    <tr>\n",
       "      <th>MyTinyWorld</th>\n",
       "      <td>4.923656</td>\n",
       "    </tr>\n",
       "    <tr>\n",
       "      <th>Oxford Diecast</th>\n",
       "      <td>4.790789</td>\n",
       "    </tr>\n",
       "    <tr>\n",
       "      <th>Corgi</th>\n",
       "      <td>4.783333</td>\n",
       "    </tr>\n",
       "    <tr>\n",
       "      <th>The Puppet Company</th>\n",
       "      <td>4.759804</td>\n",
       "    </tr>\n",
       "    <tr>\n",
       "      <th>Star Wars</th>\n",
       "      <td>4.738710</td>\n",
       "    </tr>\n",
       "    <tr>\n",
       "      <th>LEGO</th>\n",
       "      <td>4.736232</td>\n",
       "    </tr>\n",
       "    <tr>\n",
       "      <th>Playmobil</th>\n",
       "      <td>4.726496</td>\n",
       "    </tr>\n",
       "    <tr>\n",
       "      <th>Disney</th>\n",
       "      <td>4.687500</td>\n",
       "    </tr>\n",
       "    <tr>\n",
       "      <th>Mattel</th>\n",
       "      <td>4.661039</td>\n",
       "    </tr>\n",
       "    <tr>\n",
       "      <th>Hasbro</th>\n",
       "      <td>4.572000</td>\n",
       "    </tr>\n",
       "  </tbody>\n",
       "</table>\n",
       "</div>"
      ],
      "text/plain": [
       "                    average_review_rating(out of 5)\n",
       "manufacturer                                       \n",
       "MyTinyWorld                                4.923656\n",
       "Oxford Diecast                             4.790789\n",
       "Corgi                                      4.783333\n",
       "The Puppet Company                         4.759804\n",
       "Star Wars                                  4.738710\n",
       "LEGO                                       4.736232\n",
       "Playmobil                                  4.726496\n",
       "Disney                                     4.687500\n",
       "Mattel                                     4.661039\n",
       "Hasbro                                     4.572000"
      ]
     },
     "execution_count": 45,
     "metadata": {},
     "output_type": "execute_result"
    }
   ],
   "source": [
    "# categorizing the rating based on manufacturer\n",
    "dframe[[\"manufacturer\", \"average_review_rating(out of 5)\"]].groupby(\"manufacturer\").mean().sort_values(by = \"average_review_rating(out of 5)\",ascending = False)"
   ]
  },
  {
   "cell_type": "code",
   "execution_count": 46,
   "id": "6a889a0a",
   "metadata": {},
   "outputs": [
    {
     "name": "stdout",
     "output_type": "stream",
     "text": [
      "<class 'pandas.core.frame.DataFrame'>\n",
      "Int64Index: 1058 entries, 804 to 8997\n",
      "Data columns (total 19 columns):\n",
      " #   Column                                       Non-Null Count  Dtype  \n",
      "---  ------                                       --------------  -----  \n",
      " 0   _id                                          1058 non-null   object \n",
      " 1   customer_questions_and_answers               105 non-null    object \n",
      " 2   description                                  1022 non-null   object \n",
      " 3   items_customers_buy_after_viewing_this_item  738 non-null    object \n",
      " 4   manufacturer                                 1058 non-null   object \n",
      " 5   number_available_in_stock                    853 non-null    float64\n",
      " 6   number_of_answered_questions                 962 non-null    float64\n",
      " 7   number_of_reviews                            1058 non-null   float64\n",
      " 8   product_description                          1022 non-null   object \n",
      " 9   product_information                          1058 non-null   object \n",
      " 10  product_name                                 1058 non-null   object \n",
      " 11  uniq_id                                      1058 non-null   object \n",
      " 12  item_type                                    850 non-null    object \n",
      " 13  price_new                                    1058 non-null   float64\n",
      " 14  average_review_rating(out of 5)              1055 non-null   float64\n",
      " 15  root_category                                942 non-null    object \n",
      " 16  leaf_category_1                              942 non-null    object \n",
      " 17  leaf_category_2                              647 non-null    object \n",
      " 18  leaf_category_3                              240 non-null    object \n",
      "dtypes: float64(5), object(14)\n",
      "memory usage: 165.3+ KB\n"
     ]
    }
   ],
   "source": [
    "dframe.info()"
   ]
  },
  {
   "cell_type": "code",
   "execution_count": 47,
   "id": "6fe97b6e",
   "metadata": {},
   "outputs": [
    {
     "data": {
      "text/html": [
       "<style  type=\"text/css\" >\n",
       "#T_f5d68_row0_col0,#T_f5d68_row0_col1,#T_f5d68_row0_col2,#T_f5d68_row1_col2,#T_f5d68_row2_col0,#T_f5d68_row2_col1,#T_f5d68_row2_col2,#T_f5d68_row4_col2,#T_f5d68_row5_col0,#T_f5d68_row5_col1,#T_f5d68_row5_col2,#T_f5d68_row6_col1,#T_f5d68_row6_col2,#T_f5d68_row7_col1,#T_f5d68_row7_col2,#T_f5d68_row9_col0,#T_f5d68_row9_col1,#T_f5d68_row9_col2,#T_f5d68_row10_col1,#T_f5d68_row10_col2,#T_f5d68_row11_col2{\n",
       "            background-color:  #f3f0ed;\n",
       "            color:  #000000;\n",
       "        }#T_f5d68_row1_col0,#T_f5d68_row1_col1,#T_f5d68_row3_col2{\n",
       "            background-color:  #daa520;\n",
       "            color:  #000000;\n",
       "        }#T_f5d68_row3_col0{\n",
       "            background-color:  #e0b854;\n",
       "            color:  #000000;\n",
       "        }#T_f5d68_row3_col1{\n",
       "            background-color:  #deb03f;\n",
       "            color:  #000000;\n",
       "        }#T_f5d68_row4_col0{\n",
       "            background-color:  #ebd9ad;\n",
       "            color:  #000000;\n",
       "        }#T_f5d68_row4_col1{\n",
       "            background-color:  #ebd8ab;\n",
       "            color:  #000000;\n",
       "        }#T_f5d68_row6_col0{\n",
       "            background-color:  #e9d29c;\n",
       "            color:  #000000;\n",
       "        }#T_f5d68_row7_col0{\n",
       "            background-color:  #f2efe9;\n",
       "            color:  #000000;\n",
       "        }#T_f5d68_row8_col0{\n",
       "            background-color:  #f2ece3;\n",
       "            color:  #000000;\n",
       "        }#T_f5d68_row8_col1{\n",
       "            background-color:  #f1ece1;\n",
       "            color:  #000000;\n",
       "        }#T_f5d68_row8_col2{\n",
       "            background-color:  #f2ede5;\n",
       "            color:  #000000;\n",
       "        }#T_f5d68_row10_col0{\n",
       "            background-color:  #ebdab0;\n",
       "            color:  #000000;\n",
       "        }#T_f5d68_row11_col0{\n",
       "            background-color:  #f2efea;\n",
       "            color:  #000000;\n",
       "        }#T_f5d68_row11_col1{\n",
       "            background-color:  #f2efeb;\n",
       "            color:  #000000;\n",
       "        }</style><table id=\"T_f5d68_\" ><thead>    <tr>        <th class=\"blank level0\" ></th>        <th class=\"col_heading level0 col0\" >leaf_category_1</th>        <th class=\"col_heading level0 col1\" >leaf_category_2</th>        <th class=\"col_heading level0 col2\" >leaf_category_3</th>    </tr>    <tr>        <th class=\"index_name level0\" >root_category</th>        <th class=\"blank\" ></th>        <th class=\"blank\" ></th>        <th class=\"blank\" ></th>    </tr></thead><tbody>\n",
       "                <tr>\n",
       "                        <th id=\"T_f5d68_level0_row0\" class=\"row_heading level0 row0\" >Arts & Crafts </th>\n",
       "                        <td id=\"T_f5d68_row0_col0\" class=\"data row0 col0\" >2</td>\n",
       "                        <td id=\"T_f5d68_row0_col1\" class=\"data row0 col1\" >1</td>\n",
       "                        <td id=\"T_f5d68_row0_col2\" class=\"data row0 col2\" >0</td>\n",
       "            </tr>\n",
       "            <tr>\n",
       "                        <th id=\"T_f5d68_level0_row1\" class=\"row_heading level0 row1\" >Characters & Brands </th>\n",
       "                        <td id=\"T_f5d68_row1_col0\" class=\"data row1 col0\" >327</td>\n",
       "                        <td id=\"T_f5d68_row1_col1\" class=\"data row1 col1\" >287</td>\n",
       "                        <td id=\"T_f5d68_row1_col2\" class=\"data row1 col2\" >0</td>\n",
       "            </tr>\n",
       "            <tr>\n",
       "                        <th id=\"T_f5d68_level0_row2\" class=\"row_heading level0 row2\" >Cooking & Dining </th>\n",
       "                        <td id=\"T_f5d68_row2_col0\" class=\"data row2 col0\" >1</td>\n",
       "                        <td id=\"T_f5d68_row2_col1\" class=\"data row2 col1\" >1</td>\n",
       "                        <td id=\"T_f5d68_row2_col2\" class=\"data row2 col2\" >1</td>\n",
       "            </tr>\n",
       "            <tr>\n",
       "                        <th id=\"T_f5d68_level0_row3\" class=\"row_heading level0 row3\" >Die-Cast & Toy Vehicles </th>\n",
       "                        <td id=\"T_f5d68_row3_col0\" class=\"data row3 col0\" >245</td>\n",
       "                        <td id=\"T_f5d68_row3_col1\" class=\"data row3 col1\" >244</td>\n",
       "                        <td id=\"T_f5d68_row3_col2\" class=\"data row3 col2\" >230</td>\n",
       "            </tr>\n",
       "            <tr>\n",
       "                        <th id=\"T_f5d68_level0_row4\" class=\"row_heading level0 row4\" >Dolls & Accessories </th>\n",
       "                        <td id=\"T_f5d68_row4_col0\" class=\"data row4 col0\" >103</td>\n",
       "                        <td id=\"T_f5d68_row4_col1\" class=\"data row4 col1\" >93</td>\n",
       "                        <td id=\"T_f5d68_row4_col2\" class=\"data row4 col2\" >0</td>\n",
       "            </tr>\n",
       "            <tr>\n",
       "                        <th id=\"T_f5d68_level0_row5\" class=\"row_heading level0 row5\" >Electronic Toys </th>\n",
       "                        <td id=\"T_f5d68_row5_col0\" class=\"data row5 col0\" >1</td>\n",
       "                        <td id=\"T_f5d68_row5_col1\" class=\"data row5 col1\" >0</td>\n",
       "                        <td id=\"T_f5d68_row5_col2\" class=\"data row5 col2\" >0</td>\n",
       "            </tr>\n",
       "            <tr>\n",
       "                        <th id=\"T_f5d68_level0_row6\" class=\"row_heading level0 row6\" >Figures & Playsets </th>\n",
       "                        <td id=\"T_f5d68_row6_col0\" class=\"data row6 col0\" >130</td>\n",
       "                        <td id=\"T_f5d68_row6_col1\" class=\"data row6 col1\" >0</td>\n",
       "                        <td id=\"T_f5d68_row6_col2\" class=\"data row6 col2\" >0</td>\n",
       "            </tr>\n",
       "            <tr>\n",
       "                        <th id=\"T_f5d68_level0_row7\" class=\"row_heading level0 row7\" >Games </th>\n",
       "                        <td id=\"T_f5d68_row7_col0\" class=\"data row7 col0\" >8</td>\n",
       "                        <td id=\"T_f5d68_row7_col1\" class=\"data row7 col1\" >0</td>\n",
       "                        <td id=\"T_f5d68_row7_col2\" class=\"data row7 col2\" >0</td>\n",
       "            </tr>\n",
       "            <tr>\n",
       "                        <th id=\"T_f5d68_level0_row8\" class=\"row_heading level0 row8\" >Hobbies </th>\n",
       "                        <td id=\"T_f5d68_row8_col0\" class=\"data row8 col0\" >18</td>\n",
       "                        <td id=\"T_f5d68_row8_col1\" class=\"data row8 col1\" >17</td>\n",
       "                        <td id=\"T_f5d68_row8_col2\" class=\"data row8 col2\" >9</td>\n",
       "            </tr>\n",
       "            <tr>\n",
       "                        <th id=\"T_f5d68_level0_row9\" class=\"row_heading level0 row9\" >Party Supplies </th>\n",
       "                        <td id=\"T_f5d68_row9_col0\" class=\"data row9 col0\" >1</td>\n",
       "                        <td id=\"T_f5d68_row9_col1\" class=\"data row9 col1\" >0</td>\n",
       "                        <td id=\"T_f5d68_row9_col2\" class=\"data row9 col2\" >0</td>\n",
       "            </tr>\n",
       "            <tr>\n",
       "                        <th id=\"T_f5d68_level0_row10\" class=\"row_heading level0 row10\" >Puppets & Puppet Theatres </th>\n",
       "                        <td id=\"T_f5d68_row10_col0\" class=\"data row10 col0\" >99</td>\n",
       "                        <td id=\"T_f5d68_row10_col1\" class=\"data row10 col1\" >0</td>\n",
       "                        <td id=\"T_f5d68_row10_col2\" class=\"data row10 col2\" >0</td>\n",
       "            </tr>\n",
       "            <tr>\n",
       "                        <th id=\"T_f5d68_level0_row11\" class=\"row_heading level0 row11\" >Sports Toys & Outdoor </th>\n",
       "                        <td id=\"T_f5d68_row11_col0\" class=\"data row11 col0\" >7</td>\n",
       "                        <td id=\"T_f5d68_row11_col1\" class=\"data row11 col1\" >4</td>\n",
       "                        <td id=\"T_f5d68_row11_col2\" class=\"data row11 col2\" >0</td>\n",
       "            </tr>\n",
       "    </tbody></table>"
      ],
      "text/plain": [
       "<pandas.io.formats.style.Styler at 0x1956a464340>"
      ]
     },
     "execution_count": 47,
     "metadata": {},
     "output_type": "execute_result"
    }
   ],
   "source": [
    "import seaborn as sns\n",
    "cm = sns.light_palette(\"goldenrod\", as_cmap=True)\n",
    "frame_sub = dframe[[\"root_category\", \"leaf_category_1\", \"leaf_category_2\", \"leaf_category_3\"]].groupby(\"root_category\").count()\n",
    "frame_sub.style.background_gradient(cmap=cm)"
   ]
  },
  {
   "cell_type": "code",
   "execution_count": 48,
   "id": "7ba26685",
   "metadata": {},
   "outputs": [
    {
     "data": {
      "image/png": "[encoded data removed]",
      "text/plain": [
       "<Figure size 432x288 with 1 Axes>"
      ]
     },
     "metadata": {},
     "output_type": "display_data"
    }
   ],
   "source": [
    "plt.scatter(dframe[\"number_available_in_stock\"], dframe[\"number_of_reviews\"]\n",
    "                 )\n",
    "\n",
    "#fig.update_layout(title = \"<b>Relationship between the number of reviews and product stock</b>\",\n",
    "#                 plot_bgcolor = \"white\",\n",
    "#                 yaxis_title = \"Number of reviews\",\n",
    "#                 xaxis_title = \"Number available in stock\")\n",
    "plt.title(\"Relationship between the number of reviews and product stock\")\n",
    "plt.xlabel(\"Number available in stock\")\n",
    "plt.ylabel(\"Number available in stock\")\n",
    "plt.show()\n"
   ]
  },
  {
   "cell_type": "markdown",
   "id": "fa7b8392",
   "metadata": {},
   "source": [
    "relationship from the stock and the number of reviews shows that for lesser stock there are more reviews"
   ]
  },
  {
   "cell_type": "code",
   "execution_count": 49,
   "id": "882d012e",
   "metadata": {},
   "outputs": [
    {
     "data": {
      "image/png": "[encoded data removed]",
      "text/plain": [
       "<Figure size 432x288 with 1 Axes>"
      ]
     },
     "metadata": {},
     "output_type": "display_data"
    }
   ],
   "source": [
    "plt.hist(dframe[\"number_available_in_stock\"])\n",
    "#fig.update_layout(\n",
    " #                plot_bgcolor = \"#ECECEC\",\n",
    " #                 xaxis_title = \"Products Available in Stocks\",\n",
    " #                 title = \"<b> Products in Stocks</b>\"\n",
    " #                )\n",
    "plt.title(\"Products in Stocks as per reviews\")\n",
    "plt.xlabel(\"Products Available in Stocks\")\n",
    "plt.ylabel(\"Number of reviews\")\n",
    "plt.show()"
   ]
  },
  {
   "cell_type": "markdown",
   "id": "4b96f1e1",
   "metadata": {},
   "source": [
    "There are 227 products available in 2-3 stocks with highest"
   ]
  },
  {
   "cell_type": "markdown",
   "id": "08b03715",
   "metadata": {},
   "source": [
    "Importing data into csv with encoding 'utf-8"
   ]
  },
  {
   "cell_type": "code",
   "execution_count": 50,
   "id": "72ad7d3f",
   "metadata": {},
   "outputs": [],
   "source": [
    "dframe.to_csv(\"Amazon_2022\", sep='\\t', encoding='utf-8')"
   ]
  },
  {
   "cell_type": "markdown",
   "id": "f6cf6e15",
   "metadata": {},
   "source": [
    "Database: Amazon_2022\n",
    "\n",
    "collection: Review_ml"
   ]
  },
  {
   "cell_type": "code",
   "execution_count": 51,
   "id": "d121c726",
   "metadata": {},
   "outputs": [],
   "source": [
    "my_spark = SparkSession \\\n",
    "    .builder \\\n",
    "    .appName(\"myApp\") \\\n",
    "    .config(\"spark.mongodb.input.uri=mongodb://127.0.0.1/Amazon_2022.Review_ml\") \\\n",
    "    .config(\"spark.mongodb.output.uri=mongodb://127.0.0.1/Amazon_2022.Review_ml\") \\\n",
    "    .config('spark.driver.extraClassPath', working_directory) \\\n",
    "    .getOrCreate()"
   ]
  },
  {
   "cell_type": "code",
   "execution_count": 52,
   "id": "7c2bdd7c",
   "metadata": {},
   "outputs": [],
   "source": [
    "data = my_spark.read.format(\"com.mongodb.spark.sql.DefaultSource\").option(\"Database\", \"Amazon_2022\").option(\"Collection\", \"Review_ml\").load()"
   ]
  },
  {
   "cell_type": "code",
   "execution_count": 53,
   "id": "24ff5a84",
   "metadata": {},
   "outputs": [
    {
     "name": "stdout",
     "output_type": "stream",
     "text": [
      "root\n",
      " |-- _id: string (nullable = true)\n",
      " |-- average_review_rating(out of 5): string (nullable = true)\n",
      " |-- customer_questions_and_answers: string (nullable = true)\n",
      " |-- description: string (nullable = true)\n",
      " |-- item_type: string (nullable = true)\n",
      " |-- items_customers_buy_after_viewing_this_item: string (nullable = true)\n",
      " |-- main_category: string (nullable = true)\n",
      " |-- manufacturer: string (nullable = true)\n",
      " |-- number_available_in_stock: string (nullable = true)\n",
      " |-- number_of_answered_questions: string (nullable = true)\n",
      " |-- number_of_reviews: string (nullable = true)\n",
      " |-- price_new: string (nullable = true)\n",
      " |-- product_description: string (nullable = true)\n",
      " |-- product_information: string (nullable = true)\n",
      " |-- product_name: string (nullable = true)\n",
      " |-- sub_category_1: string (nullable = true)\n",
      " |-- sub_category_2: string (nullable = true)\n",
      " |-- sub_category_3: string (nullable = true)\n",
      " |-- uniq_id: string (nullable = true)\n",
      "\n"
     ]
    }
   ],
   "source": [
    "# Schema\n",
    "data.printSchema()"
   ]
  },
  {
   "cell_type": "code",
   "execution_count": 54,
   "id": "baf70643",
   "metadata": {},
   "outputs": [],
   "source": [
    "# converting the type to float\n",
    "data = data.withColumn(\"average_review_rating(out of 5)\", data[\"average_review_rating(out of 5)\"].cast('float'))"
   ]
  },
  {
   "cell_type": "code",
   "execution_count": 55,
   "id": "76108612",
   "metadata": {},
   "outputs": [],
   "source": [
    "# Column renaming\n",
    "data = data.withColumnRenamed(\"average_review_rating(out of 5)\", \"review_rating\")"
   ]
  },
  {
   "cell_type": "code",
   "execution_count": 56,
   "id": "b456c782",
   "metadata": {},
   "outputs": [
    {
     "name": "stdout",
     "output_type": "stream",
     "text": [
      "root\n",
      " |-- _id: string (nullable = true)\n",
      " |-- review_rating: float (nullable = true)\n",
      " |-- customer_questions_and_answers: string (nullable = true)\n",
      " |-- description: string (nullable = true)\n",
      " |-- item_type: string (nullable = true)\n",
      " |-- items_customers_buy_after_viewing_this_item: string (nullable = true)\n",
      " |-- main_category: string (nullable = true)\n",
      " |-- manufacturer: string (nullable = true)\n",
      " |-- number_available_in_stock: string (nullable = true)\n",
      " |-- number_of_answered_questions: string (nullable = true)\n",
      " |-- number_of_reviews: string (nullable = true)\n",
      " |-- price_new: string (nullable = true)\n",
      " |-- product_description: string (nullable = true)\n",
      " |-- product_information: string (nullable = true)\n",
      " |-- product_name: string (nullable = true)\n",
      " |-- sub_category_1: string (nullable = true)\n",
      " |-- sub_category_2: string (nullable = true)\n",
      " |-- sub_category_3: string (nullable = true)\n",
      " |-- uniq_id: string (nullable = true)\n",
      "\n"
     ]
    }
   ],
   "source": [
    "data.printSchema()"
   ]
  },
  {
   "cell_type": "code",
   "execution_count": 57,
   "id": "980260f1",
   "metadata": {},
   "outputs": [],
   "source": [
    "# Filling the missing data with minimum\n",
    "data = data.fillna({'review_rating':'2.3'})"
   ]
  },
  {
   "cell_type": "code",
   "execution_count": 58,
   "id": "b7fc68a6",
   "metadata": {},
   "outputs": [],
   "source": [
    "data = data.fillna({'customer_questions_and_answers':'unknown'})"
   ]
  },
  {
   "cell_type": "code",
   "execution_count": 59,
   "id": "69c907f5",
   "metadata": {},
   "outputs": [],
   "source": [
    "qframe = data.select('customer_questions_and_answers','review_rating')"
   ]
  },
  {
   "cell_type": "code",
   "execution_count": 60,
   "id": "7b5f9c48",
   "metadata": {},
   "outputs": [
    {
     "name": "stdout",
     "output_type": "stream",
     "text": [
      "+------------------------------+-------------+\n",
      "|customer_questions_and_answers|review_rating|\n",
      "+------------------------------+-------------+\n",
      "|                       unknown|          4.8|\n",
      "|                       unknown|          5.0|\n",
      "|                       unknown|          5.0|\n",
      "|                       unknown|          5.0|\n",
      "|                       unknown|          4.5|\n",
      "|                       unknown|          4.0|\n",
      "|                       unknown|          5.0|\n",
      "|                       unknown|          5.0|\n",
      "|                       unknown|          4.0|\n",
      "|                       unknown|          4.8|\n",
      "|                       unknown|          4.4|\n",
      "|                       unknown|          5.0|\n",
      "|                       unknown|          5.0|\n",
      "|                       unknown|          4.7|\n",
      "|                       unknown|          5.0|\n",
      "|                       unknown|          4.5|\n",
      "|                       unknown|          5.0|\n",
      "|                       unknown|          5.0|\n",
      "|                       unknown|          5.0|\n",
      "|                       unknown|          5.0|\n",
      "+------------------------------+-------------+\n",
      "only showing top 20 rows\n",
      "\n"
     ]
    }
   ],
   "source": [
    "qframe.show()"
   ]
  },
  {
   "cell_type": "code",
   "execution_count": 61,
   "id": "4131ab9b",
   "metadata": {},
   "outputs": [
    {
     "data": {
      "text/plain": [
       "array(['unknown',\n",
       "       \"Is the item boxed on arrival // The model is mounted on a hard plastic plinth and the plinth is covered by a hard plastic case, around this is a 'window' cardboard sleeve | Is the item bowled on arrval // Yes\",\n",
       "       \"Does this tram have motor // No.  It's a small, static model.\",\n",
       "       'can you confirm that i will receive the calendar in the picture (2013) edition? // This is the one I received but I did get mine quite a while ago lol',\n",
       "       \"what other figures can I buy to go with this set? // You could buy clone troopers, chewbacca, any jedi's, really anything you would like. Many thanks shawn | do this this come in the original box in separate packs? // If I understand the question correctly, there were two bags inside the box, one containing the very small pieces.\",\n",
       "       \"Product description doesn't match images - Can you confirm that this order is for the product shown in the images with the interiors lego? // It is what I ordered advent calendar it may differ in small parts but is a village christmas scene my granddaughter has had one for the last five years and is never disapointed\",\n",
       "       \"does it fit on lego track // Hi,I don't think its the same scale, sorry.Thanks for your interestâ€¦\\n    \\n      see more\\n    \\n  \\n  \\n    Hi,I don't think its the same scale, sorry.Thanks for your interestBen\\n    \\n      see less\",\n",
       "       'what colour is it please? // Black and red, as shown on picture.',\n",
       "       \"We need delivery by 3rd July. The estimated delivery date is 27th June - 17th July ? Can't you guarantee delivery by 3rd July ? // Hi Garry, I can't give a guarantee, but usually it shouldn't be a problem to deliver the item in time (when ordering from us).\",\n",
       "       \"Would this be suitable for a 6 year old? // Not to put together themselves no.  It's a bit complicated and fiddly though I suspect he would be thrilled with the end result if somebody put it together for him. | Can you fit a motor in this one // no | How big is the box as it has to fit in my hand luggage // The box is 14 x 7.5 x 3 inches. | Hi do you do combined shipping please? Thanks.]# // You can buy different kind of articles and Amazon will automaticlly combined the shipping. Just in case that you buy separatly we canÂ´t combined the shipping. Kind regards Your ArteDhio-Team | what power pack fits on the hot rod car? // Hello, thankyou for your email.As far as we can see this unit does not take a power pack. It is also not battery powered. Thank you Cuthberts\",\n",
       "       'would this be too difficult for a 4/5 year old // My son has just turnt 5 and built this no problem. I just sat and supervised. This set is split into 2 bags so that you can build one vehicle at a time',\n",
       "       'Can you pull it backwards // Yes, you pull it backwards and then it moves forwards | Can the Lego Power functions Motor set be used with this product? // it will not be useful to have',\n",
       "       \"Is Lego junior compatible with normal sized Lego or is it larger? // It's just normal LEGO, not really sure what makes it Junior... Here's my video build and review https://www.youtube.com/watch?v=t9Aylozyz2s\",\n",
       "       \"Want to buy this for my 11 year old (intelligent!) nephew.  Would he find it too easy to build - is it too young for him? // Chrissie - It is quite a fiddly job to assemble.  We had to make minor adjustments as we neared completion to give more clearance to the wheels.  So it might be OK. | How many pieces is this item? // I'm sorry it was for a present and can't recall how many pieces it was, but my nephew was very happy with it aged 7. | What does the 'package quantity' mean please? // hi, this means it contains components for one whole item.  So in the box it contains one Off Road Racer, which needs to be built/put together. If the box contained components for two vehicles that needed to be built/put together then it would advise Package Quantity = 2 | will this be alright for a adault // All big kids love lego my 38 year old other half has just built a lego motor cross bike and hoover craft, this off road racer would suit a adult have had to hide it,as brought for nephew. | cant get the pullback motor to work and in the last picture we are left with 2 cogs but dont know where they go // My 8 year old built this and said he had no cogs in his model.  Sometimes lego models include a couple of spare bits.  He says have you built it properly and checked the instructions carefully!  Maybe pull back and go motor is faulty.  Sorry can't be of more help. | Can you add a lego motor to this model or do you only have to use the pull back motor? // Sorry I buy them for my grandson so know nothing about it.\",\n",
       "       \"how do you know which pack to open 1st 2nd 3rd etc. because the packs don't have numbers on // Get a small tray or pot for each pack. A tray is better as you can spread the bits out. Open all packs. | In the instruction book, doesit tell you where to put the moters? // Yes, right at the end | would this be suitable for a 7 year old? // Most definitely. a little supervision required but they will love it hope this helps, and happy building. | With this set and the motor set can I make it remote controlled? // No. A standard motor set does not contain a control. It simply makes the lift for the skip move up and down. | Do I need to buy the motor for 42024? // hi yes the motor doesn't come with the truck its sold separately | with the meuserments whats the lenth hight and width i know it says the meuserments but it dont state whats what // I have no longer got this model so sorry | how do you know which pack to open 1st 2nd 3rd etc. because the packs don't have numbers on // hi, I just tip them out onto a table ect, but don't mix them up, as they seem to be grouped by type!\",\n",
       "       \"How many pieces do you get? // 221 pieces! Highly recommend. My 4 yr old loves it! | Is this lego compatible with lego juniors (ie, is it the same size?) // Good question, and to be honest I had to Google this myself. The short answer is yes. | Are there any Lego people in this set? // No just bricks | It is normal size lego not duplo is this correct ? // I know its not duplo Lego . I have bought it for a Christmas gift so haven't seen the size of the bricks | Is the box cardboard or plastic? I.E:  Can it be used for storing the lego after opening. // Its plastic, its a xmas gift for my partner but you can store the lego in after :) | Does it come with instruction sheet // Yes it comes with a small booklet with a few things to make inside | has it got a base plate to come along? // No Base plate, sorry, it's just a box of bricks. Still a good purchase though | Does this set have flat pieces like a 3x1 piece? // it has about 40 various flat bits,from 2x1,4x1,4x2 etc.no 3x1 flat bits though. | how many are there // 221 parts,not a bad add on set if you get it for around Â£10-Â£12. | Are they actual instructions or just ideas? // There is a book inside with instructions for the majority of the figures. You can find the rest online\",\n",
       "       \"How long do they last and are they metal or plastic? // They don't light up and are made of plastic. Our lad loved them !! | Is this R/C helicopter durable? // This is not a helicopter, these are light sabers for Lego Starwars.\",\n",
       "       'Does it suitable for 1.5 years old? // Hi,These are suitable for ages 3 - 6 years.',\n",
       "       'How long would this take an adult to construct?  Thanks! // Not built for a while but from memory, maybe 30-45 minutes at a leisurely pace!',\n",
       "       'Product  quantity decribed as 12 but when reading product info underneath box only contains 6. Which is correct? // Its 12 hanging swirls with 6 hearts with elsa n anna would recommend them they r lovely when all up x',\n",
       "       'what is this made out of? // Hard plastic',\n",
       "       \"do the wheels on this car spin and is it a genuine Mattel? ii's just on the close up it looks  a bit odd as though the wheels can't spin ... // At In Demand Toys we only stock genuine Mattel Cars.\",\n",
       "       \"Are these cars compatible with the Pixar Cars racetrack? // We have neon racers and it's compatible. They are extactly same size as normal cars size(sorry can't remember the ratio). Disney Pixar Cars Neon Trackset https://www.amazon.co.uk/dp/B00FBWD6QM/ref=cm_sw_r_awd_ZOEAwb194QTJD\",\n",
       "       \"Is this really 43cm?? // Yes Becky it is :-) x | Is this an original Disney item? Because buyers complain about stitch quality... // Yes. It's exactly the same as the one you can buy in disney stores. | Lots of recent reviews saying its a fake and being delivered without Andy written on the hooves. Can the seller confirm we will get the genuine bullse // Hello, I can only speak for my purchase but the one we had was the genuine item. | Is it in original toy story box? // No a packet | Does it come in box? // Yes i think it did x | Does it stand // No, it's a teddy. | Is this bigger than the medium one // hi i'm not sure because i've not seen the other sizes but i got this for my grandson and he loved it he even put his jessie on it i would recomend it no sharp bits and it's soft with disney label so i assume it is genuine hope that helps thanks | is this the one that talks? // No it doesn't talk. Just a stuffed toy\",\n",
       "       'how long till they are available please? // Hi - these are available from us right now! They are with Amazon for immediate dispatch - click on the \\'new from\\' link and select us in the next page.Enjoy | what are the sayings she says? // She says \"I want you to take me up the north mountain\", \"but lucky you, it\\'s only me\", \"oops sorry, I\\'m sorry\" and I think a couple of other things. My daughter who is 6 has her and absolutely adores her. She is as same size as the small dolls Disney Store used to make and personally I think she is a really nice doll. â€¦\\n    \\n      see more\\n    \\n  \\n  \\n    She says \"I want you to take me up the north mountain\", \"but lucky you, it\\'s only me\", \"oops sorry, I\\'m sorry\" and I think a couple of other things. My daughter who is 6 has her and absolutely adores her. She is as same size as the small dolls Disney Store used to make and personally I think she is a really nice doll. There are cheaper places to get her though...\\n    \\n      see less',\n",
       "       'my great uncle bert is 79 would this be suitable for him? only it says suitable for ages 3/77? I dont want the old git sueing me when he chokes opiece // Del Boy',\n",
       "       'How long is this?  (or how many triangles roughly?) // Really long its an amazing lengh just right :) hope this helps',\n",
       "       'How many cards are in the tin? // Just looked on website and it says 24 cards',\n",
       "       \"How many phrases does this talking Jessie have? // hello sorry for delay in replying.  The Jessie doll has 6 phrases. Phrase 1 Whooaaahhh! Phrase 2 Yee Ha  Phrase 3:  Yodel le eh aw  Phrase 4: Hold down the mail man  Phrase 5:  Well howdy glad to meet ya ! Phrase 6: We hit the Jackpot bullseye.  Hop this helps. | How many phrases does the talking Jessie have? // Sorry Adam I cannot answer that, bought Jessie  for our granddaughter  it's one of her favourite toys and it goes everywhere with her,\",\n",
       "       'I want to know the solution to Destiny \"7 // I Bought the Wasjig for my husband and he enjoys doing them he did this one some time ago and has not done it since.    You picture what the people are seeing and that is what you get when the wasjig is finished.  So it is not like a conventional jigsaw where the picture is on the front of the box and you can refer to â€¦\\n    \\n      see more\\n    \\n  \\n  \\n    I Bought the Wasjig for my husband and he enjoys doing them he did this one some time ago and has not done it since.    You picture what the people are seeing and that is what you get when the wasjig is finished.  So it is not like a conventional jigsaw where the picture is on the front of the box and you can refer to it.  I hope that helps.\\n    \\n      see less',\n",
       "       'Does the doll sing the entire song? // No only about half the song | Do these dolls sing/ talk? Thanks // Yes it sings when you press the button.',\n",
       "       'What does woody say? // All the usual quotes from the film such as \"howdy partner\" \"there\\'s a snake in my boot\" plus more that iv never heard before. I bought this for my 3year old who us a massive fan. She really loves it!! X | Does he look like a proper woody from the film? // Yes he is totally amazing. I was so pleased when he arrived and was very excited to give him to my little girl for Xmas. You will not be disappointed | does his hat come off? // Yes | Does he say the phrase \\'there\\'s a snake in my boot\\'? // Yes he does :-)',\n",
       "       'When sending out , is it packaged /wrapped up ? // It comes folded in 3 flat. The outer packaging is flat cardboard like a big envelope. Probably about 2x3 feet | The image for the product is for something completely different. Could you please comment? Thanks // It is exactly what it says it is . My wife was made up with it .',\n",
       "       'Is this just a box or does it contain the boards and beads to make the Cars ? Thanx. // No it contains everything you need to make all the cars on the front of the box. You just need an iron.',\n",
       "       \"Would this be ok for a 2 year old? // HalloI think no because this is only  4-10 years. The parts are too small Regressionâ€¦\\n    \\n      see more\\n    \\n  \\n  \\n    HalloI think no because this is only  4-10 years. The parts are too small RegressionT.Bias\\n    \\n      see less | Can you re use it year after year? // You could if you were REALLY careful when opening each of the doors.  You would also need to make sure none of the items when missing before re packing ready for next year.  Realistically they are a single year use. Ours stay in the Christmas decoration box and get set up by the smalls each year and still very much enjoyed. | I can see the set only contains the four figures plus accessories, does in include the reindeer and sleigh? Thank you // Yes it does | Does anyone know what's the meaning of style A? // Hello Carey, no meaning, there is not differents styles, it must be a description generic or that came from other product. Best regards from Playmyplanet | What age is this product suitable for? // My daughter was 14 when she asked for this and she loved it | what size is the display // 46x24cm\",\n",
       "       \"Is this in english as I noticed on the box it is not written in english // I bought this last Christmas and my box was in English.  From what I remember, it shouldn't be a problem as the advent box numbers will be the same and I can't remember any instructions that were written, I think it was just pictures.  I've just bought two different ones for this year as our grandchildren loved them anâ€¦\\n    \\n      see more\\n    \\n  \\n  \\n    I bought this last Christmas and my box was in English.  From what I remember, it shouldn't be a problem as the advent box numbers will be the same and I can't remember any instructions that were written, I think it was just pictures.  I've just bought two different ones for this year as our grandchildren loved them and I think one of my choices is foreign.\\n    \\n      see less\",\n",
       "       \"how big are the figurines? eg. what size is the smallest part? // Hi....can't remember which was smallest.  Rabbit etc I think. Bought for my grandson who was 2 then. He loved opening it & setting things in a scene x | What is the age recommendation on this toy?  My son is 22 months, the writing states that it's suitable for toddlers but the pieces look small on pic // It is part of the 123 range suitable from one and up | Is this suitable for a 4 year old? // This product is more aimed at 18months-3 year old. There are other Playmobil advents available for ages 4+. | I know my animals, but what is a Fuchs? // It's a fox in German\",\n",
       "       'are there 3D plastic action figures or are they made of cardboard? // Its all proper playmobil bits so its plastic. The only cardboard bit is the \"background\"',\n",
       "       \"How big is the case? Can you fit more Playmobil pieces in the case, or is it only big enough to carry what it comes with? // You could probably fit a few bits in it not much more Than a what comes with it but it's a lovely girl and lots of fun for the kids\",\n",
       "       \"What size is it when built? // 1 metre by 75 cm ( about 3 ft by 1ft 8 inches.  It can be split in two. | how many pieces? // Good evening Mrs J G Mitchell. it has 592 pieces. Best regard from Playmyplanet shop. | My daughters already have a small playmobil vacation home, plus the fairy Elixia set, which they love. Opinions on if this castle would be OTT? // The castle is amazing. I bought it last Christmas for my 4 year old. I have to say it's themost played with you in the house by my 2 daughters now aged almost 3 and 5 years old. Would definitely recommend. There is quite a bit of work constructing it but that added to the excitement. Hope this is some help.\",\n",
       "       \"would this be ok for a 3.5 year old boy? // Warning: Not suitable for children under 36 months    Warning: To be used under the direct supervision of an adultIt is okay, not under three years | Does the hose squirt water // Yes, but you need to buy the pump separately. | what are the dimensions // The engine's dimensions are 39 x 13 x 17 cm (LWH) or approx. 16 x 5 x7 inches, then the ladder makes it a further 10 cm (4 inches) higher. Hope this is ok for you.\",\n",
       "       'Hi, interested in the playmobil 5139 soldiers fort, do you ship to Sweden, if so, what is the cost? Best regards, Jiro // Hi JiroYes we do, it cost around Â£20.Regardsâ€¦\\n    \\n      see more\\n    \\n  \\n  \\n    Hi JiroYes we do, it cost around Â£20.RegardsPenny\\n    \\n      see less',\n",
       "       \"What's the size of the castle when mounted ? // We have put it on a wooden board size 80cm by 80cm and it fits comfortably. I I will warn you it comes apart quite easily and is a pain to put back together. Hope that helps.\",\n",
       "       \"Does it come apart for easy storage (i.e. under the bed) or does it have to stay together once built? Thanks // No, it's definitely a castle you need to keep in one piece, it isn't easy to take apart but plus side is that it all stays together in one piece | Hello. could you please advise which castle model we need to buy to extend  the wolf knight's castle (model 6002)? thank you! // Hello Yelena. There is not another castle than could be exactly combine with this castle, the 3 castles are different. May be it could be better to buy 2 or 3 units of the same castle and get a bigger one. The model 6000 is The Lion knightÂ´s castle, model 6001 is the falcon knightÂ´s castle and model 6002 wolf knightÂ´s â€¦\\n    \\n      see more\\n    \\n  \\n  \\n    Hello Yelena. There is not another castle than could be exactly combine with this castle, the 3 castles are different. May be it could be better to buy 2 or 3 units of the same castle and get a bigger one. The model 6000 is The Lion knightÂ´s castle, model 6001 is the falcon knightÂ´s castle and model 6002 wolf knightÂ´s castle. Best regards from Playmyplanet\\n    \\n      see less | Please can you tell me the actual size of the castle when assembled? // Hi Samyantha, it's about 40cm deep and 36cm wide. At it's highest point (the tower), it's 33cm high, so not too big. It's easy to dismantle and put together again if you don't want it out all the time. Our 4 year old son loves it!\",\n",
       "       \"Does it come apart for easy storage or once built does it have to stay built? // It comes apart but would be quite a faff keep putting it back together and the child and you would get fed up persistently taking it apart and putting it together!! Also in doing so bits could easily get lost . | Does it come with any treasure chests? // No it don't but playmobil do a pirate range which will do | what size is this built please? // It is about 60/60 the hight about 15 cm with the tower about 40 cm. Hope this is more or less correct . And helpful.\",\n",
       "       'What is the shipping for Athens Greece and how many days does it take to be delivered?? Thanks // Dear Katerina,Thank you for your enquiry. Unfortunately we do not ship outside UK. Kind RegardsR B Discount',\n",
       "       \"Please help someone! I'm unable to get the red volcano tip (the pop-up bit) to fit into place in the volcano - do you have to force it in? // It took me a long time but it just suddenly popped in place\",\n",
       "       'are the figues in this carry set full size playmobil figures // Yes they are | Is it suitable for a 6 year old? // My 6 year old grandson loves it',\n",
       "       'what is the length of this boat please? // Measurements are 32 x 22 x 27 cm (LxWxH).',\n",
       "       \"Can anyone tell me - is this a carrying case you buy to keep all your loose playmobile in or does it only store those few items shown in the picture // I bought this for a present so haven't opened it, my granddaughter has a pink one and that holds a few things in it. | Is this suitable for 6 year old or is it too babyish // They will love it ! It has a cannon that shoots stuff about the room. What's not to love !?\",\n",
       "       \"Why are these advertised as Prime yet delivery is not next day but 5 days from now? // because it's the easter weekend...\",\n",
       "       \"Can the Pirates walk the plank // Well my kid has made pirates walk the plank,after being imprisioned first. | does it have wheels underneath? // Yes. | hi can anyone tell me,how many weapons,small extras come with this? apart from the pirates? // You get 3 pirates and a cabin boy,  two canons that fire  (4 ammo), 2 swords,  3 pistols,  a musket, map,  telescope,  bucket,  lantern,  barrel, spade, pike, axe, sack and treasure chest.  Also get a large coin that works with another island set but we don't have that. Oh and a parrot.  ;) | Hi my names Matthew, I'm 18 and have ASD but despite my age I'm a huge Playmobil fan!! Does anyone know if this ship can be sunk in the bath? Thanks // Hi Mathew there is an option to purchase motor so it can be sailed on water it still works without it tho as it's got polystyrene inside boat .hope this helps Amanda | The secret place to hide treasure mentioned in the description - is it a separate tiny island with trapdoor? theres a pic in Tesco ad but not Amazon // No there is a cargo hold in the middle of the ship, and a cabin at the back of the boat under the floor with the wheel, but I did not find or see a secret area and the island is sold separate. Hope that help. | I read that this ship has paper sails; are they durable in play? // I was concerned too but it's a weird kind of thick bonded waterproof paper and quite tough | What are the large pirate ship's dimentions? // We haven't opened the box up yet but I found this online :) Dimensions 68 x 22.5 x 56 cm (LxWxH). | Can anyone tell me if the Pirate Ship can be dismantled for transportation and re-built? // yes if you are careful and work slowly, have plenty of small clear bags for the parts and if you have lost the initial instructions take plenty of photographs as you dismantle | What is the shipping cost to France? // We do not send to France at the moment. | Can you buy a remote control and an underwater motor for this? // Hello.Yes you can buy the underwater motor for this Playmobil pirate ship. It says this in the product description. I know you asked this question quite a while ago but I thought I'd answer it just in case you still needed help.Hope this helps you out :)â€¦\\n    \\n      see more\\n    \\n  \\n  \\n    Hello.Yes you can buy the underwater motor for this Playmobil pirate ship. It says this in the product description. I know you asked this question quite a while ago but I thought I'd answer it just in case you still needed help.Hope this helps you out :)Kind regards,Matthew (MiffoShort)\\n    \\n      see less\",\n",
       "       'Is it compatible with Playmobil underwater motor? // I havent got the underwater motor but I think it is compatible. They usually say on the descriptions. I have got the motorised playmobil submarine but it doesnt work very well, so I am not sure how good it would be.',\n",
       "       'Can you upgrade this pirate ship with the motor ? // No',\n",
       "       'why is it Â£4 more expensive than on the playmobil website? // Hello,Playmobil are the manufacturer of their products, we are a retailer.  So they are able to offer a better price.  We have to buy their products.',\n",
       "       'hello do the sausages come off or are they sewing on plz // They come off :)',\n",
       "       \"Is there any reason this isn't suitable for children under 36 months? Are there small parts? // There are no small parts - I would think it suitable for under 3's.\",\n",
       "       \"Hello,  Does the puppet's mouth open and close?    Thank you // Yes indeed!\",\n",
       "       'does it quack // The quality of the puppets are really wonderful but the duck does not quack',\n",
       "       'does it have a Poseable mouth? thanks // You are able to open and close the mouth using fingers and thumb.The material is very flexible and the mouth tends to flap about so it is difficult to grip anything using the jaws.Hope that helpsâ€¦\\n    \\n      see more\\n    \\n  \\n  \\n    You are able to open and close the mouth using fingers and thumb.The material is very flexible and the mouth tends to flap about so it is difficult to grip anything using the jaws.Hope that helpsRoger\\n    \\n      see less',\n",
       "       \"is it good a a toy for playing with kittens who will bite it etc? // I bought mine for just that purpose, but it is too big and clumsy and frightened him.  I am keeping it to see if, when he becomes bigger, he might be interested and less frightened.  But it still won't be the best, because the inner lining is slippery and it doesn't make it comfortable or easy to move on your hand.\",\n",
       "       \"Is the squeaker removable? // Yes it's in a little cloth bag in the mouth/head part so you can push it further up to get hands in better if you don't want to squeak it, or take it out completely!\",\n",
       "       \"You've said that the bear comes completely out of the honey pot can you confirm that this is correct and that the bear has feet please. // The bear can't be removed from the pot, it is like a glove puppet and is stitched all the way around the base to the honeypot.\",\n",
       "       \"What is the biggest size hand that can fit in this puppet? // mine, women's average size 7 to 7 and a half. But its not too big for my small granddaughter.\",\n",
       "       'does this glove fit an adults hand? // Heya, yes it does! 5 Little Space Man song lyrics come with it as well. So the glove can be used while singing the song to your little one :D',\n",
       "       \"the sqawrk has gone on our puppet...can you buy just the sqwark? // Really sorry I don't know the answer to this.  Try contacting The Puppet Company directly.  They should be able to help.\",\n",
       "       'how tall is it? // about 2 feet tall',\n",
       "       'is it pink or red // Pink',\n",
       "       'Can this be machine washed? // I washed it quite successfully, placed in washing net, at 30 degrees \"delicates\" program, with washing up liquid for delicates. Dried it up with towel, then left near heater to dry. Gave the rabbit  a bit of brushing up later.',\n",
       "       'Do the European Wildlife collection hand puppets have moving mouths? // The head can be moved but not the mouth.',\n",
       "       \"Is the mouth fully mobile? That is, can you 'scrunch' it up? // yes the mouth can be scrunched.. your thumb is in the bottom jaw and the fingers are working the top jaw\",\n",
       "       \"Is this designed for adult or child size hands? // I would say small adult because the 'arms' are quite far apart! To be honest we use it to play with our miniature daschound- it's her favourite toy!!\",\n",
       "       \"does it have a Poseable mouth? thanks // No it doesn't. As far as I can remember your hand only fits into the eye level, or thereabouts.  It's very lovely though!\",\n",
       "       'does it have movable arms please // No, only the mouth moves',\n",
       "       'Can an adult operate this puppet? // Yes! Perfect size',\n",
       "       \"Would i be able to operate this puppet? I'm a man with ordinary sized man's hands. // yes. | Is the banana a permanent feature or can it be removed? // The banana can be removed. There is a bit of Velcro on the chimp's right hand which will stick to the banana. It does not stick really firmly though.\",\n",
       "       \"does it come with rods or do i have to use my own? // No it's the sort that you put your hand into to make the mouth move and squeak.\",\n",
       "       'Does he says actual phrases or is only the breathing sounds? // Says \"The force is strong with this one!\", \"I find your lack of faith disturbing!\" and \"I am your father\" as far as I can recall... plus the breathing sound',\n",
       "       \"is this the 2014 version? // No I believe it is last years | I'm buying this as a keep sake, it doesn't show the box, I assume it comes all boxed up?  That might be a silly question. // Yes it's a boxed play-scene\",\n",
       "       'Is this the 2014 Lego star wars advent calendar? // Hello, yes it is, got mine a few weeks ago. | How big are the little packets of construction bits roughly (I want to use them in an existing advent calendar with pockets) // To be quite honest I never open mine, I keep them boxed. However I know that they will go in thestocking type advent calendars with pockets as I have seen that done by someone else. | Are the minifigures the \"normal\" size? It looks like the vehicles are micro sized so are the figures to fit these - or the traditional Lego kits? // The figures are regular Lego size although the vehicles are smaller so the figures do not fit inside. | could someone tell me what the figurines are in the 2014 calender. As I dont want to double up!. Thanks. // Sorry, no idea apart from the picture on the box, as they won\\'t be all opened until Christmas day. | do the 2014 & 2015 calenders look the same // Hi generally each year is different so would assume 2015 has new stuff in it. | We had the Lego Star Wars advent calendar last year.  Is it worth getting this 2014 version or will a lot of the figures be the same as last year? // I got last years and there are definately different figures this year. | roughly how big are the ships?? // Around 2 inches or so... no bigger than the actual Lego figures themselves.',\n",
       "       'I am starting to collect these black series 6 inch figures. Do you think the black series will be valuable in the future? // Maybe some of the rarer ones. Some have already gone up in price a bit.',\n",
       "       \"For my young nephew i need to know is this item to do with the force awakens? // No, it doesn't have anything to do with the latest Star Wars movie The Force Awakens.\",\n",
       "       \"What size is this banner please? // It's about a metre and a half to two metres....it went across two of our sliding doors.\",\n",
       "       'does the head move // No the whole body moves on the legs',\n",
       "       \"how long is th eship out of the box? // It's 32cm, not 22cm as the below poster said!\",\n",
       "       'Is he a popular character? // Price is always a good guide He was cut from the movie but likely to appear in Special Editions.',\n",
       "       'What model would I need when the child\\'s States the big one Batcave // This fits the same figures as the standard batcave, this is just a taller version of the batcave, the figures stand at around 2\"s tall | How tall is the batcave // Sorry I cant give the dimensions as it was for my grandson.  This batcave was a massive hit.  We bought the newer one to have in the house but it isn\\'t a patch on the older version.  It is quite tall but would recommend.',\n",
       "       'Does this plane work with Disney sky tack? // Yes it does',\n",
       "       \"Which Imaginext castle does this work with? Is it the lion castle? Thanks. // Don't think so it's just the imaginext castle with cannons | Does this dragon make sounds without the castle? // Yes it does.\",\n",
       "       'does he moves arms or legs? // HiSorry I cannot help, I bought this for my grandson and to be fair he loved it, but I cannot remember if ithe arms moved - old age does not come itself!!',\n",
       "       \"does this plane fit on the action shifters // It's bigger... amazingly detailled but bigger\",\n",
       "       \"Why is this magiclip doll Â£30?!!!! That's very expensive. // This pretty doll is great popularity,everyone wants. And that is valuable and an early version.\",\n",
       "       'Is this version definitely the uk version? past questions to the community have brought both \"yes\" and \"no\" answers. IÂ´m confused!! // Mine was definitely UK version | is your apples to apples board game definitly the british version? // No I couldn\\'t find a British version. There is supposed to be one, but I don\\'t know who stocks it | Can you play with more than 8 players // I think so.  We had a riotous game a few years ago, at Christmas and I\\'m pretty sure there were more than eight of us.  It\\'s not a game to take seriously! | Is this definitely the British version? Answers provided seem to conflict! // This is an american set as it is an america game, so there are a lot of american people / tv shows as red apples in the game. Hope this helps! | Is this the UK or US version? // uk version',\n",
       "       'What region is the DVD specific to? // Region 2 Europe',\n",
       "       \"Can I buy an up to date set of cards and DVD for the fifa scene it game // Hi Nina, I'm not aware of any current add ons for cards and dvds. I will see if can locate some for you and get back to you asap with a result. Regards, Tim. Finleys\",\n",
       "       'do you get stock in every week // No unfortunately this model is difficult to get. We allways restock as soon as we have the opportunety. It\\'s hard to tell when well have it back. General answer \"As soon as possible.\"',\n",
       "       'Can I get any spear 12 dart clip for this gun, for my daughter? // Yes got mine here on amazon',\n",
       "       \"what size is the pony? // A rough guss would be about 4inches or so in height. | how big is the pony and the helicopter? 17x6x17 cm looks quite small... // It's not that big, I got it as grand daughter was crazing for one\",\n",
       "       'Does It come with a stand and is it packaged? // Yes, yes it does. | Is this Stickerless? // Unfortunately, no, those are stickers.',\n",
       "       \"Is this a separate game to the board game itself. Or a booster // This is a completely separate game from the board game. Some of the categories are the same but it is played differently, by taking turns to play certain cards from your hand and the aim is to use  all the cards in your hand first. No team play, just individually. It's great fun and easy to learn how to play, and is reâ€¦\\n    \\n      see more\\n    \\n  \\n  \\n    This is a completely separate game from the board game. Some of the categories are the same but it is played differently, by taking turns to play certain cards from your hand and the aim is to use  all the cards in your hand first. No team play, just individually. It's great fun and easy to learn how to play, and is refreshingly different from other card games.\\n    \\n      see less | How many cards does this include? // Hiya, just had quick look at estimate it's about 50 plus.\",\n",
       "       '1. Are the droids fastened onto their stands or, can they be removed/unclipped?\\n2. Are the droids \"poseable\" (can the legs be moved)? // droids can be removed from their stands and the legs can be moved.',\n",
       "       'Is it as pictured or does it come on a plinth? // No there is no plynth. Its more of a toy. Thanks',\n",
       "       \"Does it come with landing gear so it can be displayed off the stand? // No I'm afraid not! My Grandson plays with his off stand but if you are a collector then needs to be kept on stand. | Does this model come with landing gear as well as a, I presume, a stand? // Comes with a black plastic stand but undercarriage is fixed up; no landing gear.\",\n",
       "       'What size is this model (1:12, 1:24, 1:43 etc). Many thanks // Hi, The model I bought is 1:43 scale. Hope this is the info you needed? David.',\n",
       "       \"Do the doors open? // No they dont | What's the size please? // Not sure of proper measure but it is much bigger than a matchbox toy. It is a lovely item , well made and my grandson loves it. Sorry i cant measure for u as he took it home | hi can you supply corgi olympic taxi destination london 2012 full set of 40 // Yes we can.\"],\n",
       "      dtype=object)"
      ]
     },
     "execution_count": 61,
     "metadata": {},
     "output_type": "execute_result"
    }
   ],
   "source": [
    "pdf = qframe.toPandas()\n",
    "pdf.customer_questions_and_answers.unique()"
   ]
  },
  {
   "cell_type": "markdown",
   "id": "655036ae",
   "metadata": {},
   "source": [
    "## Modeling:"
   ]
  },
  {
   "cell_type": "code",
   "execution_count": 62,
   "id": "18fef32a",
   "metadata": {},
   "outputs": [
    {
     "name": "stdout",
     "output_type": "stream",
     "text": [
      "+------------------------------+------+\n",
      "|customer_questions_and_answers|Target|\n",
      "+------------------------------+------+\n",
      "|                       unknown|     1|\n",
      "|                       unknown|     1|\n",
      "+------------------------------+------+\n",
      "only showing top 2 rows\n",
      "\n"
     ]
    },
    {
     "data": {
      "text/plain": [
       "[0.6757334026486945,\n",
       " 0.6739191104694869,\n",
       " 0.6806803128167345,\n",
       " 0.6716627832610883,\n",
       " 0.6716627832610883,\n",
       " 0.6716627832610883]"
      ]
     },
     "execution_count": 62,
     "metadata": {},
     "output_type": "execute_result"
    }
   ],
   "source": [
    "\n",
    "qamsg = qframe.filter(qframe.review_rating != \"3\").select('review_rating','customer_questions_and_answers')\n",
    "qamsg = qamsg.withColumn(\"review_rating\", qamsg[\"review_rating\"].cast(DoubleType()))\n",
    "\n",
    "#Converting score to a binary positive - 1 and negative - 0 feature\n",
    "def toBinary(score):\n",
    "    if score >= 3: return 1\n",
    "    else: return 0\n",
    "udfScoretoBinary=udf(toBinary, StringType())\n",
    "\n",
    "qamsg = qamsg.withColumn(\"Target\", udfScoretoBinary(\"review_rating\")).select('customer_questions_and_answers','Target')\n",
    "qamsg.show(2)\n",
    "def lowcase_text(line):\n",
    "    return line.lower()\n",
    "udflowcase_text=udf(lowcase_text, StringType())\n",
    "text_lowercase = qamsg.withColumn(\"lowcase_text\", udflowcase_text(\"customer_questions_and_answers\")).select('lowcase_text','Target')\n",
    "# Tokenizing\n",
    "tokenizer = Tokenizer(inputCol=\"lowcase_text\", outputCol=\"words\")\n",
    "words_df = tokenizer.transform(text_lowercase)\n",
    "#words_df.show()\n",
    "# Removing stop words\n",
    "remover = StopWordsRemover(inputCol=\"words\", outputCol=\"filteredwords\")\n",
    "words_df1 = remover.transform(words_df).select(\"Target\",\"filteredwords\")\n",
    "#words_df1.show()\n",
    "def stem_tokens(tokens):\n",
    "    return [PorterStemmer().stem(item) for item in tokens]\n",
    "def stem_text(tokens):\n",
    "    stems = stem_tokens(tokens)\n",
    "    return ' '.join(stems)\n",
    "\n",
    "udfstem_text=udf(stem_text, StringType())\n",
    "words_df2 = words_df1.withColumn(\"final_text\", udfstem_text(\"filteredwords\")).select('final_text','Target')\n",
    "#words_df2.show()\n",
    "words_df2.cache()\n",
    "#Renaming features for logreg_modeling\n",
    "az_train = words_df2.selectExpr(\"final_text as text\", \"Target as label\")\n",
    "az_train = az_train.withColumn(\"label\", az_train[\"label\"].cast(DoubleType()))\n",
    "tokenizer = Tokenizer(inputCol=\"text\", outputCol=\"words\")\n",
    "hashingTF = HashingTF(inputCol=tokenizer.getOutputCol(), outputCol=\"hashing\")\n",
    "idf = IDF(inputCol=hashingTF.getOutputCol(), outputCol=\"features\")\n",
    "lr = LogisticRegression(maxIter=10, regParam=0.01)\n",
    "pipeline = Pipeline(stages=[tokenizer, hashingTF, idf, lr])\n",
    "# az_train the logreg_model\n",
    "lgreg = pipeline.fit(az_train)\n",
    "prediction = lgreg.transform(az_train)\n",
    "tokenizer = Tokenizer(inputCol=\"text\", outputCol=\"words\")\n",
    "hashingTF = HashingTF(inputCol=tokenizer.getOutputCol(), outputCol=\"hashing\")\n",
    "idf = IDF(inputCol=hashingTF.getOutputCol(), outputCol=\"features\")\n",
    "lr = LogisticRegression(maxIter=10, regParam=0.01)\n",
    "pipeline = Pipeline(stages=[tokenizer, hashingTF, idf, lr])\n",
    "# az_train the logreg_model\n",
    "paramGrid = ParamGridBuilder()\\\n",
    "    .addGrid(lr.regParam, [0.1, 0.01,.001,1,100,200]) \\\n",
    "    .build()\n",
    "crossval = CrossValidator(estimator=pipeline,\n",
    "                          estimatorParamMaps=paramGrid,\n",
    "                          evaluator=BinaryClassificationEvaluator()  ,\n",
    "                          numFolds=5)\n",
    "lgreg = crossval.fit(az_train)\n",
    "lgreg.avgMetrics"
   ]
  },
  {
   "cell_type": "markdown",
   "id": "692e1820",
   "metadata": {},
   "source": [
    "Overall, maximum of 68% accuracy is obtained with logistic regression model"
   ]
  },
  {
   "cell_type": "code",
   "execution_count": 63,
   "id": "04da8da2",
   "metadata": {
    "scrolled": true
   },
   "outputs": [],
   "source": [
    "adf = data.toPandas()"
   ]
  },
  {
   "cell_type": "code",
   "execution_count": 64,
   "id": "485ac820",
   "metadata": {},
   "outputs": [
    {
     "data": {
      "text/html": [
       "<div>\n",
       "<style scoped>\n",
       "    .dataframe tbody tr th:only-of-type {\n",
       "        vertical-align: middle;\n",
       "    }\n",
       "\n",
       "    .dataframe tbody tr th {\n",
       "        vertical-align: top;\n",
       "    }\n",
       "\n",
       "    .dataframe thead th {\n",
       "        text-align: right;\n",
       "    }\n",
       "</style>\n",
       "<table border=\"1\" class=\"dataframe\">\n",
       "  <thead>\n",
       "    <tr style=\"text-align: right;\">\n",
       "      <th></th>\n",
       "      <th>review_rating</th>\n",
       "    </tr>\n",
       "  </thead>\n",
       "  <tbody>\n",
       "    <tr>\n",
       "      <th>count</th>\n",
       "      <td>1058.000000</td>\n",
       "    </tr>\n",
       "    <tr>\n",
       "      <th>mean</th>\n",
       "      <td>4.734878</td>\n",
       "    </tr>\n",
       "    <tr>\n",
       "      <th>std</th>\n",
       "      <td>0.372015</td>\n",
       "    </tr>\n",
       "    <tr>\n",
       "      <th>min</th>\n",
       "      <td>2.300000</td>\n",
       "    </tr>\n",
       "    <tr>\n",
       "      <th>25%</th>\n",
       "      <td>4.500000</td>\n",
       "    </tr>\n",
       "    <tr>\n",
       "      <th>50%</th>\n",
       "      <td>5.000000</td>\n",
       "    </tr>\n",
       "    <tr>\n",
       "      <th>75%</th>\n",
       "      <td>5.000000</td>\n",
       "    </tr>\n",
       "    <tr>\n",
       "      <th>max</th>\n",
       "      <td>5.000000</td>\n",
       "    </tr>\n",
       "  </tbody>\n",
       "</table>\n",
       "</div>"
      ],
      "text/plain": [
       "       review_rating\n",
       "count    1058.000000\n",
       "mean        4.734878\n",
       "std         0.372015\n",
       "min         2.300000\n",
       "25%         4.500000\n",
       "50%         5.000000\n",
       "75%         5.000000\n",
       "max         5.000000"
      ]
     },
     "execution_count": 64,
     "metadata": {},
     "output_type": "execute_result"
    }
   ],
   "source": [
    "adf.describe()"
   ]
  },
  {
   "cell_type": "code",
   "execution_count": 65,
   "id": "fbb1a01a",
   "metadata": {},
   "outputs": [
    {
     "data": {
      "text/plain": [
       "Text(0, 0.5, ' Rating ')"
      ]
     },
     "execution_count": 65,
     "metadata": {},
     "output_type": "execute_result"
    },
    {
     "data": {
      "image/png": "[encoded data removed]",
      "text/plain": [
       "<Figure size 432x288 with 1 Axes>"
      ]
     },
     "metadata": {},
     "output_type": "display_data"
    }
   ],
   "source": [
    "pltrate = adf['review_rating'].value_counts()\n",
    "sns.barplot(y=pltrate.index,x=pltrate.values)\n",
    "plt.title(\" Ratings in the data\")\n",
    "plt.xlabel(\" Count \")\n",
    "plt.ylabel(\" Rating \")"
   ]
  },
  {
   "cell_type": "code",
   "execution_count": null,
   "id": "725a7038",
   "metadata": {},
   "outputs": [],
   "source": []
  },
  {
   "cell_type": "markdown",
   "id": "cc4aaeb3",
   "metadata": {},
   "source": [
    "# "
   ]
  },
  {
   "cell_type": "markdown",
   "id": "648166ca",
   "metadata": {},
   "source": [
    "## Electronics Products dataset"
   ]
  },
  {
   "cell_type": "markdown",
   "id": "c7249c6f",
   "metadata": {},
   "source": [
    "Importing dataset of 2018 to analyse the reviews of electronics products."
   ]
  },
  {
   "cell_type": "code",
   "execution_count": 66,
   "id": "ff4c93ec",
   "metadata": {
    "scrolled": true
   },
   "outputs": [
    {
     "data": {
      "text/html": [
       "<div>\n",
       "<style scoped>\n",
       "    .dataframe tbody tr th:only-of-type {\n",
       "        vertical-align: middle;\n",
       "    }\n",
       "\n",
       "    .dataframe tbody tr th {\n",
       "        vertical-align: top;\n",
       "    }\n",
       "\n",
       "    .dataframe thead th {\n",
       "        text-align: right;\n",
       "    }\n",
       "</style>\n",
       "<table border=\"1\" class=\"dataframe\">\n",
       "  <thead>\n",
       "    <tr style=\"text-align: right;\">\n",
       "      <th></th>\n",
       "      <th>id</th>\n",
       "      <th>asins</th>\n",
       "      <th>brand</th>\n",
       "      <th>categories</th>\n",
       "      <th>colors</th>\n",
       "      <th>dateAdded</th>\n",
       "      <th>dateUpdated</th>\n",
       "      <th>dimension</th>\n",
       "      <th>ean</th>\n",
       "      <th>imageURLs</th>\n",
       "      <th>...</th>\n",
       "      <th>reviews.doRecommend</th>\n",
       "      <th>reviews.numHelpful</th>\n",
       "      <th>reviews.rating</th>\n",
       "      <th>reviews.sourceURLs</th>\n",
       "      <th>reviews.text</th>\n",
       "      <th>reviews.title</th>\n",
       "      <th>reviews.username</th>\n",
       "      <th>sourceURLs</th>\n",
       "      <th>upc</th>\n",
       "      <th>weight</th>\n",
       "    </tr>\n",
       "  </thead>\n",
       "  <tbody>\n",
       "    <tr>\n",
       "      <th>0</th>\n",
       "      <td>AVpf3txeLJeJML43FN82</td>\n",
       "      <td>B0168YIWSI</td>\n",
       "      <td>Microsoft</td>\n",
       "      <td>Electronics,Computers,Computer Accessories,Key...</td>\n",
       "      <td>Black</td>\n",
       "      <td>2015-11-13T12:28:09Z</td>\n",
       "      <td>2018-01-29T02:15:13Z</td>\n",
       "      <td>11.6 in x 8.5 in x 0.19 in</td>\n",
       "      <td>8.900000e+11</td>\n",
       "      <td>https://i5.walmartimages.com/asr/2a41f6f0-844e...</td>\n",
       "      <td>...</td>\n",
       "      <td>True</td>\n",
       "      <td>0.0</td>\n",
       "      <td>5.0</td>\n",
       "      <td>http://reviews.bestbuy.com/3545/4562009/review...</td>\n",
       "      <td>This keyboard is very easy to type on, but the...</td>\n",
       "      <td>Love the fingerprint reader</td>\n",
       "      <td>JNH1</td>\n",
       "      <td>https://www.walmart.com/ip/Microsoft-Surface-P...</td>\n",
       "      <td>8.900000e+11</td>\n",
       "      <td>1.1 pounds</td>\n",
       "    </tr>\n",
       "    <tr>\n",
       "      <th>1</th>\n",
       "      <td>AVpf3txeLJeJML43FN82</td>\n",
       "      <td>B0168YIWSI</td>\n",
       "      <td>Microsoft</td>\n",
       "      <td>Electronics,Computers,Computer Accessories,Key...</td>\n",
       "      <td>Black</td>\n",
       "      <td>2015-11-13T12:28:09Z</td>\n",
       "      <td>2018-01-29T02:15:13Z</td>\n",
       "      <td>11.6 in x 8.5 in x 0.19 in</td>\n",
       "      <td>8.900000e+11</td>\n",
       "      <td>https://i5.walmartimages.com/asr/2a41f6f0-844e...</td>\n",
       "      <td>...</td>\n",
       "      <td>True</td>\n",
       "      <td>0.0</td>\n",
       "      <td>4.0</td>\n",
       "      <td>http://reviews.bestbuy.com/3545/4562009/review...</td>\n",
       "      <td>It's thin and light. I can type pretty easily ...</td>\n",
       "      <td>Nice</td>\n",
       "      <td>Appa</td>\n",
       "      <td>https://www.walmart.com/ip/Microsoft-Surface-P...</td>\n",
       "      <td>8.900000e+11</td>\n",
       "      <td>1.1 pounds</td>\n",
       "    </tr>\n",
       "    <tr>\n",
       "      <th>2</th>\n",
       "      <td>AVpf3txeLJeJML43FN82</td>\n",
       "      <td>B0168YIWSI</td>\n",
       "      <td>Microsoft</td>\n",
       "      <td>Electronics,Computers,Computer Accessories,Key...</td>\n",
       "      <td>Black</td>\n",
       "      <td>2015-11-13T12:28:09Z</td>\n",
       "      <td>2018-01-29T02:15:13Z</td>\n",
       "      <td>11.6 in x 8.5 in x 0.19 in</td>\n",
       "      <td>8.900000e+11</td>\n",
       "      <td>https://i5.walmartimages.com/asr/2a41f6f0-844e...</td>\n",
       "      <td>...</td>\n",
       "      <td>True</td>\n",
       "      <td>0.0</td>\n",
       "      <td>4.0</td>\n",
       "      <td>http://reviews.bestbuy.com/3545/4562009/review...</td>\n",
       "      <td>I love the new design the keys are spaced well...</td>\n",
       "      <td>New</td>\n",
       "      <td>Kman</td>\n",
       "      <td>https://www.walmart.com/ip/Microsoft-Surface-P...</td>\n",
       "      <td>8.900000e+11</td>\n",
       "      <td>1.1 pounds</td>\n",
       "    </tr>\n",
       "    <tr>\n",
       "      <th>3</th>\n",
       "      <td>AVpf3txeLJeJML43FN82</td>\n",
       "      <td>B0168YIWSI</td>\n",
       "      <td>Microsoft</td>\n",
       "      <td>Electronics,Computers,Computer Accessories,Key...</td>\n",
       "      <td>Black</td>\n",
       "      <td>2015-11-13T12:28:09Z</td>\n",
       "      <td>2018-01-29T02:15:13Z</td>\n",
       "      <td>11.6 in x 8.5 in x 0.19 in</td>\n",
       "      <td>8.900000e+11</td>\n",
       "      <td>https://i5.walmartimages.com/asr/2a41f6f0-844e...</td>\n",
       "      <td>...</td>\n",
       "      <td>True</td>\n",
       "      <td>0.0</td>\n",
       "      <td>5.0</td>\n",
       "      <td>http://reviews.bestbuy.com/3545/4562009/review...</td>\n",
       "      <td>Attached easily and firmly. Has a nice feel. A...</td>\n",
       "      <td>Nice keyboard</td>\n",
       "      <td>UpstateNY</td>\n",
       "      <td>https://www.walmart.com/ip/Microsoft-Surface-P...</td>\n",
       "      <td>8.900000e+11</td>\n",
       "      <td>1.1 pounds</td>\n",
       "    </tr>\n",
       "    <tr>\n",
       "      <th>4</th>\n",
       "      <td>AVpf3txeLJeJML43FN82</td>\n",
       "      <td>B0168YIWSI</td>\n",
       "      <td>Microsoft</td>\n",
       "      <td>Electronics,Computers,Computer Accessories,Key...</td>\n",
       "      <td>Black</td>\n",
       "      <td>2015-11-13T12:28:09Z</td>\n",
       "      <td>2018-01-29T02:15:13Z</td>\n",
       "      <td>11.6 in x 8.5 in x 0.19 in</td>\n",
       "      <td>8.900000e+11</td>\n",
       "      <td>https://i5.walmartimages.com/asr/2a41f6f0-844e...</td>\n",
       "      <td>...</td>\n",
       "      <td>True</td>\n",
       "      <td>0.0</td>\n",
       "      <td>5.0</td>\n",
       "      <td>http://reviews.bestbuy.com/3545/4562009/review...</td>\n",
       "      <td>Our original keyboard was okay, but did not ha...</td>\n",
       "      <td>Nice improvement</td>\n",
       "      <td>Glickster</td>\n",
       "      <td>https://www.walmart.com/ip/Microsoft-Surface-P...</td>\n",
       "      <td>8.900000e+11</td>\n",
       "      <td>1.1 pounds</td>\n",
       "    </tr>\n",
       "  </tbody>\n",
       "</table>\n",
       "<p>5 rows × 27 columns</p>\n",
       "</div>"
      ],
      "text/plain": [
       "                     id       asins      brand  \\\n",
       "0  AVpf3txeLJeJML43FN82  B0168YIWSI  Microsoft   \n",
       "1  AVpf3txeLJeJML43FN82  B0168YIWSI  Microsoft   \n",
       "2  AVpf3txeLJeJML43FN82  B0168YIWSI  Microsoft   \n",
       "3  AVpf3txeLJeJML43FN82  B0168YIWSI  Microsoft   \n",
       "4  AVpf3txeLJeJML43FN82  B0168YIWSI  Microsoft   \n",
       "\n",
       "                                          categories colors  \\\n",
       "0  Electronics,Computers,Computer Accessories,Key...  Black   \n",
       "1  Electronics,Computers,Computer Accessories,Key...  Black   \n",
       "2  Electronics,Computers,Computer Accessories,Key...  Black   \n",
       "3  Electronics,Computers,Computer Accessories,Key...  Black   \n",
       "4  Electronics,Computers,Computer Accessories,Key...  Black   \n",
       "\n",
       "              dateAdded           dateUpdated                   dimension  \\\n",
       "0  2015-11-13T12:28:09Z  2018-01-29T02:15:13Z  11.6 in x 8.5 in x 0.19 in   \n",
       "1  2015-11-13T12:28:09Z  2018-01-29T02:15:13Z  11.6 in x 8.5 in x 0.19 in   \n",
       "2  2015-11-13T12:28:09Z  2018-01-29T02:15:13Z  11.6 in x 8.5 in x 0.19 in   \n",
       "3  2015-11-13T12:28:09Z  2018-01-29T02:15:13Z  11.6 in x 8.5 in x 0.19 in   \n",
       "4  2015-11-13T12:28:09Z  2018-01-29T02:15:13Z  11.6 in x 8.5 in x 0.19 in   \n",
       "\n",
       "            ean                                          imageURLs  ...  \\\n",
       "0  8.900000e+11  https://i5.walmartimages.com/asr/2a41f6f0-844e...  ...   \n",
       "1  8.900000e+11  https://i5.walmartimages.com/asr/2a41f6f0-844e...  ...   \n",
       "2  8.900000e+11  https://i5.walmartimages.com/asr/2a41f6f0-844e...  ...   \n",
       "3  8.900000e+11  https://i5.walmartimages.com/asr/2a41f6f0-844e...  ...   \n",
       "4  8.900000e+11  https://i5.walmartimages.com/asr/2a41f6f0-844e...  ...   \n",
       "\n",
       "  reviews.doRecommend reviews.numHelpful reviews.rating  \\\n",
       "0                True                0.0            5.0   \n",
       "1                True                0.0            4.0   \n",
       "2                True                0.0            4.0   \n",
       "3                True                0.0            5.0   \n",
       "4                True                0.0            5.0   \n",
       "\n",
       "                                  reviews.sourceURLs  \\\n",
       "0  http://reviews.bestbuy.com/3545/4562009/review...   \n",
       "1  http://reviews.bestbuy.com/3545/4562009/review...   \n",
       "2  http://reviews.bestbuy.com/3545/4562009/review...   \n",
       "3  http://reviews.bestbuy.com/3545/4562009/review...   \n",
       "4  http://reviews.bestbuy.com/3545/4562009/review...   \n",
       "\n",
       "                                        reviews.text  \\\n",
       "0  This keyboard is very easy to type on, but the...   \n",
       "1  It's thin and light. I can type pretty easily ...   \n",
       "2  I love the new design the keys are spaced well...   \n",
       "3  Attached easily and firmly. Has a nice feel. A...   \n",
       "4  Our original keyboard was okay, but did not ha...   \n",
       "\n",
       "                 reviews.title reviews.username  \\\n",
       "0  Love the fingerprint reader             JNH1   \n",
       "1                         Nice             Appa   \n",
       "2                          New             Kman   \n",
       "3                Nice keyboard        UpstateNY   \n",
       "4             Nice improvement        Glickster   \n",
       "\n",
       "                                          sourceURLs           upc      weight  \n",
       "0  https://www.walmart.com/ip/Microsoft-Surface-P...  8.900000e+11  1.1 pounds  \n",
       "1  https://www.walmart.com/ip/Microsoft-Surface-P...  8.900000e+11  1.1 pounds  \n",
       "2  https://www.walmart.com/ip/Microsoft-Surface-P...  8.900000e+11  1.1 pounds  \n",
       "3  https://www.walmart.com/ip/Microsoft-Surface-P...  8.900000e+11  1.1 pounds  \n",
       "4  https://www.walmart.com/ip/Microsoft-Surface-P...  8.900000e+11  1.1 pounds  \n",
       "\n",
       "[5 rows x 27 columns]"
      ]
     },
     "execution_count": 66,
     "metadata": {},
     "output_type": "execute_result"
    }
   ],
   "source": [
    "review_df = pd.read_csv('DatafinitiElectronicsProductData.csv')\n",
    "review_df.head()"
   ]
  },
  {
   "cell_type": "code",
   "execution_count": 67,
   "id": "1363d4ff",
   "metadata": {},
   "outputs": [
    {
     "data": {
      "text/plain": [
       "(7299, 27)"
      ]
     },
     "execution_count": 67,
     "metadata": {},
     "output_type": "execute_result"
    }
   ],
   "source": [
    "# shape\n",
    "review_df.shape"
   ]
  },
  {
   "cell_type": "markdown",
   "id": "76c6d416",
   "metadata": {},
   "source": [
    "Correlation of reviews"
   ]
  },
  {
   "cell_type": "code",
   "execution_count": 68,
   "id": "2d8c1721",
   "metadata": {},
   "outputs": [
    {
     "data": {
      "text/html": [
       "<div>\n",
       "<style scoped>\n",
       "    .dataframe tbody tr th:only-of-type {\n",
       "        vertical-align: middle;\n",
       "    }\n",
       "\n",
       "    .dataframe tbody tr th {\n",
       "        vertical-align: top;\n",
       "    }\n",
       "\n",
       "    .dataframe thead th {\n",
       "        text-align: right;\n",
       "    }\n",
       "</style>\n",
       "<table border=\"1\" class=\"dataframe\">\n",
       "  <thead>\n",
       "    <tr style=\"text-align: right;\">\n",
       "      <th></th>\n",
       "      <th>ean</th>\n",
       "      <th>reviews.numHelpful</th>\n",
       "      <th>reviews.rating</th>\n",
       "      <th>upc</th>\n",
       "    </tr>\n",
       "  </thead>\n",
       "  <tbody>\n",
       "    <tr>\n",
       "      <th>ean</th>\n",
       "      <td>1.000000</td>\n",
       "      <td>-0.040685</td>\n",
       "      <td>0.154502</td>\n",
       "      <td>1.000000</td>\n",
       "    </tr>\n",
       "    <tr>\n",
       "      <th>reviews.numHelpful</th>\n",
       "      <td>-0.040685</td>\n",
       "      <td>1.000000</td>\n",
       "      <td>-0.030244</td>\n",
       "      <td>0.020176</td>\n",
       "    </tr>\n",
       "    <tr>\n",
       "      <th>reviews.rating</th>\n",
       "      <td>0.154502</td>\n",
       "      <td>-0.030244</td>\n",
       "      <td>1.000000</td>\n",
       "      <td>0.080902</td>\n",
       "    </tr>\n",
       "    <tr>\n",
       "      <th>upc</th>\n",
       "      <td>1.000000</td>\n",
       "      <td>0.020176</td>\n",
       "      <td>0.080902</td>\n",
       "      <td>1.000000</td>\n",
       "    </tr>\n",
       "  </tbody>\n",
       "</table>\n",
       "</div>"
      ],
      "text/plain": [
       "                         ean  reviews.numHelpful  reviews.rating       upc\n",
       "ean                 1.000000           -0.040685        0.154502  1.000000\n",
       "reviews.numHelpful -0.040685            1.000000       -0.030244  0.020176\n",
       "reviews.rating      0.154502           -0.030244        1.000000  0.080902\n",
       "upc                 1.000000            0.020176        0.080902  1.000000"
      ]
     },
     "execution_count": 68,
     "metadata": {},
     "output_type": "execute_result"
    }
   ],
   "source": [
    "#Correlation\n",
    "review_df.corr()"
   ]
  },
  {
   "cell_type": "code",
   "execution_count": 69,
   "id": "76c6346d",
   "metadata": {},
   "outputs": [
    {
     "data": {
      "image/png": "[encoded data removed]",
      "text/plain": [
       "<Figure size 576x288 with 2 Axes>"
      ]
     },
     "metadata": {},
     "output_type": "display_data"
    }
   ],
   "source": [
    "import matplotlib.pyplot as plt\n",
    "import seaborn as sns\n",
    "plt.figure(figsize=(8,4))\n",
    "sns.heatmap(review_df.corr(),annot=True,cmap='Spectral')\n",
    "plt.show()"
   ]
  },
  {
   "cell_type": "code",
   "execution_count": 70,
   "id": "586a02d7",
   "metadata": {},
   "outputs": [],
   "source": [
    "data_new = review_df[['dateAdded','brand','manufacturer','name','primaryCategories']]"
   ]
  },
  {
   "cell_type": "code",
   "execution_count": 71,
   "id": "dfaee681",
   "metadata": {},
   "outputs": [
    {
     "data": {
      "text/plain": [
       "5.0    4492\n",
       "4.0    1663\n",
       "3.0     440\n",
       "1.0     318\n",
       "2.0     222\n",
       "Name: reviews.rating, dtype: int64"
      ]
     },
     "execution_count": 71,
     "metadata": {},
     "output_type": "execute_result"
    }
   ],
   "source": [
    "data = review_df['reviews.rating'].value_counts()\n",
    "data"
   ]
  },
  {
   "cell_type": "code",
   "execution_count": 72,
   "id": "eb9fe625",
   "metadata": {},
   "outputs": [
    {
     "data": {
      "text/plain": [
       "<AxesSubplot:>"
      ]
     },
     "execution_count": 72,
     "metadata": {},
     "output_type": "execute_result"
    },
    {
     "data": {
      "image/png": "[encoded data removed]",
      "text/plain": [
       "<Figure size 432x288 with 1 Axes>"
      ]
     },
     "metadata": {},
     "output_type": "display_data"
    }
   ],
   "source": [
    "# plot for ratings\n",
    "sns.barplot(x=data.index, y=data.values)"
   ]
  },
  {
   "cell_type": "code",
   "execution_count": 73,
   "id": "199c63df",
   "metadata": {},
   "outputs": [],
   "source": [
    "# dropping the columns which have null values\n",
    "review_df = review_df.dropna()"
   ]
  },
  {
   "cell_type": "markdown",
   "id": "d6afbdf4",
   "metadata": {},
   "source": [
    "Reading Electronics product data from MongoDB\n",
    "\n",
    "Database: Amazon_2018\n",
    "\n",
    "collection: reviews"
   ]
  },
  {
   "cell_type": "code",
   "execution_count": 74,
   "id": "51fbeb73",
   "metadata": {},
   "outputs": [
    {
     "name": "stdout",
     "output_type": "stream",
     "text": [
      "+--------------------+----------+---------+--------------------+------+--------------------+--------------------+--------------------+--------+--------------------+--------------------+--------------------+------------+------------------+--------------------+-----------------+--------------------+--------------------+--------+----------+\n",
      "|                 _id|     asins|    brand|          categories|colors|           dateAdded|         dateUpdated|           dimension|     ean|                  id|           imageURLs|                keys|manufacturer|manufacturerNumber|                name|primaryCategories|             reviews|          sourceURLs|     upc|    weight|\n",
      "+--------------------+----------+---------+--------------------+------+--------------------+--------------------+--------------------+--------+--------------------+--------------------+--------------------+------------+------------------+--------------------+-----------------+--------------------+--------------------+--------+----------+\n",
      "|[627da4ab66d833ad...|B0168YIWSI|Microsoft|Electronics,Compu...| Black|2015-11-13T12:28:09Z|2018-01-29T02:15:13Z|11.6 in x 8.5 in ...|8.90E+11|AVpf3txeLJeJML43FN82|https://i5.walmar...|microsoftsurfacep...|   Microsoft|         RH7-00001|Microsoft Surface...|      Electronics|[2015-12-04T00:00...|https://www.walma...|8.90E+11|1.1 pounds|\n",
      "|[627da4ab66d833ad...|B0168YIWSI|Microsoft|Electronics,Compu...| Black|2015-11-13T12:28:09Z|2018-01-29T02:15:13Z|11.6 in x 8.5 in ...|8.90E+11|AVpf3txeLJeJML43FN82|https://i5.walmar...|microsoftsurfacep...|   Microsoft|         RH7-00001|Microsoft Surface...|      Electronics|[2015-12-04T00:00...|https://www.walma...|8.90E+11|1.1 pounds|\n",
      "|[627da4ab66d833ad...|B0168YIWSI|Microsoft|Electronics,Compu...| Black|2015-11-13T12:28:09Z|2018-01-29T02:15:13Z|11.6 in x 8.5 in ...|8.90E+11|AVpf3txeLJeJML43FN82|https://i5.walmar...|microsoftsurfacep...|   Microsoft|         RH7-00001|Microsoft Surface...|      Electronics|[2015-12-04T00:00...|https://www.walma...|8.90E+11|1.1 pounds|\n",
      "|[627da4ab66d833ad...|B0168YIWSI|Microsoft|Electronics,Compu...| Black|2015-11-13T12:28:09Z|2018-01-29T02:15:13Z|11.6 in x 8.5 in ...|8.90E+11|AVpf3txeLJeJML43FN82|https://i5.walmar...|microsoftsurfacep...|   Microsoft|         RH7-00001|Microsoft Surface...|      Electronics|[2015-12-01T00:00...|https://www.walma...|8.90E+11|1.1 pounds|\n",
      "|[627da4ab66d833ad...|B0168YIWSI|Microsoft|Electronics,Compu...| Black|2015-11-13T12:28:09Z|2018-01-29T02:15:13Z|11.6 in x 8.5 in ...|8.90E+11|AVpf3txeLJeJML43FN82|https://i5.walmar...|microsoftsurfacep...|   Microsoft|         RH7-00001|Microsoft Surface...|      Electronics|[2015-11-28T00:00...|https://www.walma...|8.90E+11|1.1 pounds|\n",
      "|[627da4ab66d833ad...|B0168YIWSI|Microsoft|Electronics,Compu...| Black|2015-11-13T12:28:09Z|2018-01-29T02:15:13Z|11.6 in x 8.5 in ...|8.90E+11|AVpf3txeLJeJML43FN82|https://i5.walmar...|microsoftsurfacep...|   Microsoft|         RH7-00001|Microsoft Surface...|      Electronics|[2015-11-28T00:00...|https://www.walma...|8.90E+11|1.1 pounds|\n",
      "|[627da4ab66d833ad...|B0168YIWSI|Microsoft|Electronics,Compu...| Black|2015-11-13T12:28:09Z|2018-01-29T02:15:13Z|11.6 in x 8.5 in ...|8.90E+11|AVpf3txeLJeJML43FN82|https://i5.walmar...|microsoftsurfacep...|   Microsoft|         RH7-00001|Microsoft Surface...|      Electronics|[2015-11-27T00:00...|https://www.walma...|8.90E+11|1.1 pounds|\n",
      "|[627da4ab66d833ad...|B0168YIWSI|Microsoft|Electronics,Compu...| Black|2015-11-13T12:28:09Z|2018-01-29T02:15:13Z|11.6 in x 8.5 in ...|8.90E+11|AVpf3txeLJeJML43FN82|https://i5.walmar...|microsoftsurfacep...|   Microsoft|         RH7-00001|Microsoft Surface...|      Electronics|[2015-11-27T00:00...|https://www.walma...|8.90E+11|1.1 pounds|\n",
      "|[627da4ab66d833ad...|B0168YIWSI|Microsoft|Electronics,Compu...| Black|2015-11-13T12:28:09Z|2018-01-29T02:15:13Z|11.6 in x 8.5 in ...|8.90E+11|AVpf3txeLJeJML43FN82|https://i5.walmar...|microsoftsurfacep...|   Microsoft|         RH7-00001|Microsoft Surface...|      Electronics|[2016-02-05T00:00...|https://www.walma...|8.90E+11|1.1 pounds|\n",
      "|[627da4ab66d833ad...|B0168YIWSI|Microsoft|Electronics,Compu...| Black|2015-11-13T12:28:09Z|2018-01-29T02:15:13Z|11.6 in x 8.5 in ...|8.90E+11|AVpf3txeLJeJML43FN82|https://i5.walmar...|microsoftsurfacep...|   Microsoft|         RH7-00001|Microsoft Surface...|      Electronics|[2016-02-05T00:00...|https://www.walma...|8.90E+11|1.1 pounds|\n",
      "|[627da4ab66d833ad...|B0168YIWSI|Microsoft|Electronics,Compu...| Black|2015-11-13T12:28:09Z|2018-01-29T02:15:13Z|11.6 in x 8.5 in ...|8.90E+11|AVpf3txeLJeJML43FN82|https://i5.walmar...|microsoftsurfacep...|   Microsoft|         RH7-00001|Microsoft Surface...|      Electronics|[2016-02-05T00:00...|https://www.walma...|8.90E+11|1.1 pounds|\n",
      "|[627da4ab66d833ad...|B0168YIWSI|Microsoft|Electronics,Compu...| Black|2015-11-13T12:28:09Z|2018-01-29T02:15:13Z|11.6 in x 8.5 in ...|8.90E+11|AVpf3txeLJeJML43FN82|https://i5.walmar...|microsoftsurfacep...|   Microsoft|         RH7-00001|Microsoft Surface...|      Electronics|[2016-02-05T00:00...|https://www.walma...|8.90E+11|1.1 pounds|\n",
      "|[627da4ab66d833ad...|B0168YIWSI|Microsoft|Electronics,Compu...| Black|2015-11-13T12:28:09Z|2018-01-29T02:15:13Z|11.6 in x 8.5 in ...|8.90E+11|AVpf3txeLJeJML43FN82|https://i5.walmar...|microsoftsurfacep...|   Microsoft|         RH7-00001|Microsoft Surface...|      Electronics|[2016-02-05T00:00...|https://www.walma...|8.90E+11|1.1 pounds|\n",
      "|[627da4ab66d833ad...|B0168YIWSI|Microsoft|Electronics,Compu...| Black|2015-11-13T12:28:09Z|2018-01-29T02:15:13Z|11.6 in x 8.5 in ...|8.90E+11|AVpf3txeLJeJML43FN82|https://i5.walmar...|microsoftsurfacep...|   Microsoft|         RH7-00001|Microsoft Surface...|      Electronics|[2016-02-02T00:00...|https://www.walma...|8.90E+11|1.1 pounds|\n",
      "|[627da4ab66d833ad...|B0168YIWSI|Microsoft|Electronics,Compu...| Black|2015-11-13T12:28:09Z|2018-01-29T02:15:13Z|11.6 in x 8.5 in ...|8.90E+11|AVpf3txeLJeJML43FN82|https://i5.walmar...|microsoftsurfacep...|   Microsoft|         RH7-00001|Microsoft Surface...|      Electronics|[2016-01-31T00:00...|https://www.walma...|8.90E+11|1.1 pounds|\n",
      "|[627da4ab66d833ad...|B0168YIWSI|Microsoft|Electronics,Compu...| Black|2015-11-13T12:28:09Z|2018-01-29T02:15:13Z|11.6 in x 8.5 in ...|8.90E+11|AVpf3txeLJeJML43FN82|https://i5.walmar...|microsoftsurfacep...|   Microsoft|         RH7-00001|Microsoft Surface...|      Electronics|[2016-01-31T00:00...|https://www.walma...|8.90E+11|1.1 pounds|\n",
      "|[627da4ab66d833ad...|B0168YIWSI|Microsoft|Electronics,Compu...| Black|2015-11-13T12:28:09Z|2018-01-29T02:15:13Z|11.6 in x 8.5 in ...|8.90E+11|AVpf3txeLJeJML43FN82|https://i5.walmar...|microsoftsurfacep...|   Microsoft|         RH7-00001|Microsoft Surface...|      Electronics|[2015-11-20T00:00...|https://www.walma...|8.90E+11|1.1 pounds|\n",
      "|[627da4ab66d833ad...|B0168YIWSI|Microsoft|Electronics,Compu...| Black|2015-11-13T12:28:09Z|2018-01-29T02:15:13Z|11.6 in x 8.5 in ...|8.90E+11|AVpf3txeLJeJML43FN82|https://i5.walmar...|microsoftsurfacep...|   Microsoft|         RH7-00001|Microsoft Surface...|      Electronics|[2015-11-16T00:00...|https://www.walma...|8.90E+11|1.1 pounds|\n",
      "|[627da4ab66d833ad...|B0168YIWSI|Microsoft|Electronics,Compu...| Black|2015-11-13T12:28:09Z|2018-01-29T02:15:13Z|11.6 in x 8.5 in ...|8.90E+11|AVpf3txeLJeJML43FN82|https://i5.walmar...|microsoftsurfacep...|   Microsoft|         RH7-00001|Microsoft Surface...|      Electronics|[2015-11-10T00:00...|https://www.walma...|8.90E+11|1.1 pounds|\n",
      "|[627da4ab66d833ad...|B0168YIWSI|Microsoft|Electronics,Compu...| Black|2015-11-13T12:28:09Z|2018-01-29T02:15:13Z|11.6 in x 8.5 in ...|8.90E+11|AVpf3txeLJeJML43FN82|https://i5.walmar...|microsoftsurfacep...|   Microsoft|         RH7-00001|Microsoft Surface...|      Electronics|[2015-11-06T00:00...|https://www.walma...|8.90E+11|1.1 pounds|\n",
      "+--------------------+----------+---------+--------------------+------+--------------------+--------------------+--------------------+--------+--------------------+--------------------+--------------------+------------+------------------+--------------------+-----------------+--------------------+--------------------+--------+----------+\n",
      "only showing top 20 rows\n",
      "\n"
     ]
    }
   ],
   "source": [
    "my_spark = SparkSession \\\n",
    "    .builder \\\n",
    "    .appName(\"myApp\") \\\n",
    "    .config(\"spark.mongodb.input.uri=mongodb://127.0.0.1/Amazon_2018.reviews\") \\\n",
    "    .config(\"spark.mongodb.output.uri=mongodb://127.0.0.1/Amazon_2018.reviews\") \\\n",
    "    .config('spark.driver.extraClassPath', working_directory) \\\n",
    "    .getOrCreate()\n",
    "dfa = my_spark.read.format(\"com.mongodb.spark.sql.DefaultSource\").option(\"Database\", \"Amazon_2018\").option(\"Collection\", \"reviews\").load()\n",
    "dfa.show()"
   ]
  },
  {
   "cell_type": "code",
   "execution_count": 75,
   "id": "1a56e50b",
   "metadata": {},
   "outputs": [
    {
     "data": {
      "text/plain": [
       "7299"
      ]
     },
     "execution_count": 75,
     "metadata": {},
     "output_type": "execute_result"
    }
   ],
   "source": [
    "# count \n",
    "dfa.count()"
   ]
  },
  {
   "cell_type": "code",
   "execution_count": 76,
   "id": "49234bcb",
   "metadata": {},
   "outputs": [
    {
     "name": "stdout",
     "output_type": "stream",
     "text": [
      "root\n",
      " |-- _id: struct (nullable = true)\n",
      " |    |-- oid: string (nullable = true)\n",
      " |-- asins: string (nullable = true)\n",
      " |-- brand: string (nullable = true)\n",
      " |-- categories: string (nullable = true)\n",
      " |-- colors: string (nullable = true)\n",
      " |-- dateAdded: string (nullable = true)\n",
      " |-- dateUpdated: string (nullable = true)\n",
      " |-- dimension: string (nullable = true)\n",
      " |-- ean: string (nullable = true)\n",
      " |-- id: string (nullable = true)\n",
      " |-- imageURLs: string (nullable = true)\n",
      " |-- keys: string (nullable = true)\n",
      " |-- manufacturer: string (nullable = true)\n",
      " |-- manufacturerNumber: string (nullable = true)\n",
      " |-- name: string (nullable = true)\n",
      " |-- primaryCategories: string (nullable = true)\n",
      " |-- reviews: struct (nullable = true)\n",
      " |    |-- date: string (nullable = true)\n",
      " |    |-- dateSeen: string (nullable = true)\n",
      " |    |-- doRecommend: string (nullable = true)\n",
      " |    |-- numHelpful: string (nullable = true)\n",
      " |    |-- rating: string (nullable = true)\n",
      " |    |-- sourceURLs: string (nullable = true)\n",
      " |    |-- text: string (nullable = true)\n",
      " |    |-- title: string (nullable = true)\n",
      " |    |-- username: string (nullable = true)\n",
      " |-- sourceURLs: string (nullable = true)\n",
      " |-- upc: string (nullable = true)\n",
      " |-- weight: string (nullable = true)\n",
      "\n"
     ]
    }
   ],
   "source": [
    "# Schema of dfa\n",
    "dfa.printSchema()"
   ]
  },
  {
   "cell_type": "code",
   "execution_count": 77,
   "id": "841fc3c9",
   "metadata": {},
   "outputs": [
    {
     "name": "stdout",
     "output_type": "stream",
     "text": [
      "+--------------------+----------+---------+--------------------+------+--------------------+--------------------+--------------------+--------+--------------------+--------------------+--------------------+------------+------------------+--------------------+-----------------+--------------------+--------------------+--------+----------+\n",
      "|                 _id|     asins|    brand|          categories|colors|           dateAdded|         dateUpdated|           dimension|     ean|                  id|           imageURLs|                keys|manufacturer|manufacturerNumber|                name|primaryCategories|             reviews|          sourceURLs|     upc|    weight|\n",
      "+--------------------+----------+---------+--------------------+------+--------------------+--------------------+--------------------+--------+--------------------+--------------------+--------------------+------------+------------------+--------------------+-----------------+--------------------+--------------------+--------+----------+\n",
      "|[627da4ab66d833ad...|B0168YIWSI|Microsoft|Electronics,Compu...| Black|2015-11-13T12:28:09Z|2018-01-29T02:15:13Z|11.6 in x 8.5 in ...|8.90E+11|AVpf3txeLJeJML43FN82|https://i5.walmar...|microsoftsurfacep...|   Microsoft|         RH7-00001|Microsoft Surface...|      Electronics|[2015-12-04T00:00...|https://www.walma...|8.90E+11|1.1 pounds|\n",
      "|[627da4ab66d833ad...|B0168YIWSI|Microsoft|Electronics,Compu...| Black|2015-11-13T12:28:09Z|2018-01-29T02:15:13Z|11.6 in x 8.5 in ...|8.90E+11|AVpf3txeLJeJML43FN82|https://i5.walmar...|microsoftsurfacep...|   Microsoft|         RH7-00001|Microsoft Surface...|      Electronics|[2015-12-04T00:00...|https://www.walma...|8.90E+11|1.1 pounds|\n",
      "|[627da4ab66d833ad...|B0168YIWSI|Microsoft|Electronics,Compu...| Black|2015-11-13T12:28:09Z|2018-01-29T02:15:13Z|11.6 in x 8.5 in ...|8.90E+11|AVpf3txeLJeJML43FN82|https://i5.walmar...|microsoftsurfacep...|   Microsoft|         RH7-00001|Microsoft Surface...|      Electronics|[2015-12-04T00:00...|https://www.walma...|8.90E+11|1.1 pounds|\n",
      "|[627da4ab66d833ad...|B0168YIWSI|Microsoft|Electronics,Compu...| Black|2015-11-13T12:28:09Z|2018-01-29T02:15:13Z|11.6 in x 8.5 in ...|8.90E+11|AVpf3txeLJeJML43FN82|https://i5.walmar...|microsoftsurfacep...|   Microsoft|         RH7-00001|Microsoft Surface...|      Electronics|[2015-12-01T00:00...|https://www.walma...|8.90E+11|1.1 pounds|\n",
      "|[627da4ab66d833ad...|B0168YIWSI|Microsoft|Electronics,Compu...| Black|2015-11-13T12:28:09Z|2018-01-29T02:15:13Z|11.6 in x 8.5 in ...|8.90E+11|AVpf3txeLJeJML43FN82|https://i5.walmar...|microsoftsurfacep...|   Microsoft|         RH7-00001|Microsoft Surface...|      Electronics|[2015-11-28T00:00...|https://www.walma...|8.90E+11|1.1 pounds|\n",
      "|[627da4ab66d833ad...|B0168YIWSI|Microsoft|Electronics,Compu...| Black|2015-11-13T12:28:09Z|2018-01-29T02:15:13Z|11.6 in x 8.5 in ...|8.90E+11|AVpf3txeLJeJML43FN82|https://i5.walmar...|microsoftsurfacep...|   Microsoft|         RH7-00001|Microsoft Surface...|      Electronics|[2015-11-28T00:00...|https://www.walma...|8.90E+11|1.1 pounds|\n",
      "|[627da4ab66d833ad...|B0168YIWSI|Microsoft|Electronics,Compu...| Black|2015-11-13T12:28:09Z|2018-01-29T02:15:13Z|11.6 in x 8.5 in ...|8.90E+11|AVpf3txeLJeJML43FN82|https://i5.walmar...|microsoftsurfacep...|   Microsoft|         RH7-00001|Microsoft Surface...|      Electronics|[2015-11-27T00:00...|https://www.walma...|8.90E+11|1.1 pounds|\n",
      "|[627da4ab66d833ad...|B0168YIWSI|Microsoft|Electronics,Compu...| Black|2015-11-13T12:28:09Z|2018-01-29T02:15:13Z|11.6 in x 8.5 in ...|8.90E+11|AVpf3txeLJeJML43FN82|https://i5.walmar...|microsoftsurfacep...|   Microsoft|         RH7-00001|Microsoft Surface...|      Electronics|[2015-11-27T00:00...|https://www.walma...|8.90E+11|1.1 pounds|\n",
      "|[627da4ab66d833ad...|B0168YIWSI|Microsoft|Electronics,Compu...| Black|2015-11-13T12:28:09Z|2018-01-29T02:15:13Z|11.6 in x 8.5 in ...|8.90E+11|AVpf3txeLJeJML43FN82|https://i5.walmar...|microsoftsurfacep...|   Microsoft|         RH7-00001|Microsoft Surface...|      Electronics|[2016-02-05T00:00...|https://www.walma...|8.90E+11|1.1 pounds|\n",
      "|[627da4ab66d833ad...|B0168YIWSI|Microsoft|Electronics,Compu...| Black|2015-11-13T12:28:09Z|2018-01-29T02:15:13Z|11.6 in x 8.5 in ...|8.90E+11|AVpf3txeLJeJML43FN82|https://i5.walmar...|microsoftsurfacep...|   Microsoft|         RH7-00001|Microsoft Surface...|      Electronics|[2016-02-05T00:00...|https://www.walma...|8.90E+11|1.1 pounds|\n",
      "|[627da4ab66d833ad...|B0168YIWSI|Microsoft|Electronics,Compu...| Black|2015-11-13T12:28:09Z|2018-01-29T02:15:13Z|11.6 in x 8.5 in ...|8.90E+11|AVpf3txeLJeJML43FN82|https://i5.walmar...|microsoftsurfacep...|   Microsoft|         RH7-00001|Microsoft Surface...|      Electronics|[2016-02-05T00:00...|https://www.walma...|8.90E+11|1.1 pounds|\n",
      "|[627da4ab66d833ad...|B0168YIWSI|Microsoft|Electronics,Compu...| Black|2015-11-13T12:28:09Z|2018-01-29T02:15:13Z|11.6 in x 8.5 in ...|8.90E+11|AVpf3txeLJeJML43FN82|https://i5.walmar...|microsoftsurfacep...|   Microsoft|         RH7-00001|Microsoft Surface...|      Electronics|[2016-02-05T00:00...|https://www.walma...|8.90E+11|1.1 pounds|\n",
      "|[627da4ab66d833ad...|B0168YIWSI|Microsoft|Electronics,Compu...| Black|2015-11-13T12:28:09Z|2018-01-29T02:15:13Z|11.6 in x 8.5 in ...|8.90E+11|AVpf3txeLJeJML43FN82|https://i5.walmar...|microsoftsurfacep...|   Microsoft|         RH7-00001|Microsoft Surface...|      Electronics|[2016-02-05T00:00...|https://www.walma...|8.90E+11|1.1 pounds|\n",
      "|[627da4ab66d833ad...|B0168YIWSI|Microsoft|Electronics,Compu...| Black|2015-11-13T12:28:09Z|2018-01-29T02:15:13Z|11.6 in x 8.5 in ...|8.90E+11|AVpf3txeLJeJML43FN82|https://i5.walmar...|microsoftsurfacep...|   Microsoft|         RH7-00001|Microsoft Surface...|      Electronics|[2016-02-02T00:00...|https://www.walma...|8.90E+11|1.1 pounds|\n",
      "|[627da4ab66d833ad...|B0168YIWSI|Microsoft|Electronics,Compu...| Black|2015-11-13T12:28:09Z|2018-01-29T02:15:13Z|11.6 in x 8.5 in ...|8.90E+11|AVpf3txeLJeJML43FN82|https://i5.walmar...|microsoftsurfacep...|   Microsoft|         RH7-00001|Microsoft Surface...|      Electronics|[2016-01-31T00:00...|https://www.walma...|8.90E+11|1.1 pounds|\n",
      "|[627da4ab66d833ad...|B0168YIWSI|Microsoft|Electronics,Compu...| Black|2015-11-13T12:28:09Z|2018-01-29T02:15:13Z|11.6 in x 8.5 in ...|8.90E+11|AVpf3txeLJeJML43FN82|https://i5.walmar...|microsoftsurfacep...|   Microsoft|         RH7-00001|Microsoft Surface...|      Electronics|[2016-01-31T00:00...|https://www.walma...|8.90E+11|1.1 pounds|\n",
      "|[627da4ab66d833ad...|B0168YIWSI|Microsoft|Electronics,Compu...| Black|2015-11-13T12:28:09Z|2018-01-29T02:15:13Z|11.6 in x 8.5 in ...|8.90E+11|AVpf3txeLJeJML43FN82|https://i5.walmar...|microsoftsurfacep...|   Microsoft|         RH7-00001|Microsoft Surface...|      Electronics|[2015-11-20T00:00...|https://www.walma...|8.90E+11|1.1 pounds|\n",
      "|[627da4ab66d833ad...|B0168YIWSI|Microsoft|Electronics,Compu...| Black|2015-11-13T12:28:09Z|2018-01-29T02:15:13Z|11.6 in x 8.5 in ...|8.90E+11|AVpf3txeLJeJML43FN82|https://i5.walmar...|microsoftsurfacep...|   Microsoft|         RH7-00001|Microsoft Surface...|      Electronics|[2015-11-16T00:00...|https://www.walma...|8.90E+11|1.1 pounds|\n",
      "|[627da4ab66d833ad...|B0168YIWSI|Microsoft|Electronics,Compu...| Black|2015-11-13T12:28:09Z|2018-01-29T02:15:13Z|11.6 in x 8.5 in ...|8.90E+11|AVpf3txeLJeJML43FN82|https://i5.walmar...|microsoftsurfacep...|   Microsoft|         RH7-00001|Microsoft Surface...|      Electronics|[2015-11-10T00:00...|https://www.walma...|8.90E+11|1.1 pounds|\n",
      "|[627da4ab66d833ad...|B0168YIWSI|Microsoft|Electronics,Compu...| Black|2015-11-13T12:28:09Z|2018-01-29T02:15:13Z|11.6 in x 8.5 in ...|8.90E+11|AVpf3txeLJeJML43FN82|https://i5.walmar...|microsoftsurfacep...|   Microsoft|         RH7-00001|Microsoft Surface...|      Electronics|[2015-11-06T00:00...|https://www.walma...|8.90E+11|1.1 pounds|\n",
      "+--------------------+----------+---------+--------------------+------+--------------------+--------------------+--------------------+--------+--------------------+--------------------+--------------------+------------+------------------+--------------------+-----------------+--------------------+--------------------+--------+----------+\n",
      "only showing top 20 rows\n",
      "\n"
     ]
    }
   ],
   "source": [
    "dfb = dfa\n",
    "dfb.show()"
   ]
  },
  {
   "cell_type": "markdown",
   "id": "5b06b375",
   "metadata": {},
   "source": [
    "## Modeling:\n",
    " Analysing the data based on rating and assigning positive, negitive and neutral categories"
   ]
  },
  {
   "cell_type": "code",
   "execution_count": 78,
   "id": "649b7170",
   "metadata": {},
   "outputs": [
    {
     "data": {
      "text/plain": [
       "DataFrame[_id: struct<oid:string>, asins: string, brand: string, categories: string, colors: string, dateAdded: string, dateUpdated: string, dimension: string, ean: string, id: string, imageURLs: string, keys: string, manufacturer: string, manufacturerNumber: string, name: string, primaryCategories: string, reviews: struct<date:string,dateSeen:string,doRecommend:string,numHelpful:string,rating:string,sourceURLs:string,text:string,title:string,username:string>, sourceURLs: string, upc: string, weight: string, reviews.text: string]"
      ]
     },
     "execution_count": 78,
     "metadata": {},
     "output_type": "execute_result"
    }
   ],
   "source": [
    "# categorizing the ratings based on the rating into positive, negative or neutral\n",
    "def condition(r):\n",
    "    if (r <3):\n",
    "        label=\"negative\"\n",
    "    elif(r>3):\n",
    "        label=\"positive\"\n",
    "    else:\n",
    "        label=\"neutral\"\n",
    "    return label\n",
    "sentiment_udf = udf(lambda x: condition(x), StringType())\n",
    "\n",
    "dfc = dfb.withColumn('reviews.text',sentiment_udf(dfb['reviews.rating']))\n",
    "dfc"
   ]
  },
  {
   "cell_type": "code",
   "execution_count": 79,
   "id": "c3032fa1",
   "metadata": {},
   "outputs": [
    {
     "data": {
      "text/plain": [
       "DataFrame[_id: struct<oid:string>, asins: string, brand: string, categories: string, colors: string, dateAdded: string, dateUpdated: string, dimension: string, ean: string, id: string, imageURLs: string, keys: string, manufacturer: string, manufacturerNumber: string, name: string, primaryCategories: string, reviews: struct<date:string,dateSeen:string,doRecommend:string,numHelpful:string,rating:string,sourceURLs:string,text:string,title:string,username:string>, sourceURLs: string, upc: string, weight: string, reviews.text: string, Target: string]"
      ]
     },
     "execution_count": 79,
     "metadata": {},
     "output_type": "execute_result"
    }
   ],
   "source": [
    "def toBinary(score):\n",
    "    if score >= 3: return 1\n",
    "    else: return 0\n",
    "udfScoretoBinary=udf(toBinary, StringType())\n",
    "\n",
    "dfc = dfc.withColumn(\"Target\", udfScoretoBinary(\"reviews.rating\"))\n",
    "dfc"
   ]
  },
  {
   "cell_type": "code",
   "execution_count": 80,
   "id": "8b6a8555",
   "metadata": {},
   "outputs": [
    {
     "name": "stderr",
     "output_type": "stream",
     "text": [
      "[nltk_data] Downloading package stopwords to\n",
      "[nltk_data]     C:\\Users\\SribhanuVeda\\AppData\\Roaming\\nltk_data...\n",
      "[nltk_data]   Package stopwords is already up-to-date!\n"
     ]
    },
    {
     "data": {
      "text/plain": [
       "True"
      ]
     },
     "execution_count": 80,
     "metadata": {},
     "output_type": "execute_result"
    }
   ],
   "source": [
    "import nltk\n",
    "nltk.download('stopwords')"
   ]
  },
  {
   "cell_type": "code",
   "execution_count": 81,
   "id": "63f24576",
   "metadata": {},
   "outputs": [],
   "source": [
    "pddf = dfa.toPandas()"
   ]
  },
  {
   "cell_type": "code",
   "execution_count": 82,
   "id": "28b89c22",
   "metadata": {},
   "outputs": [],
   "source": [
    "# Selecting only rating and text columns\n",
    "sdf = dfa.select('reviews.rating','reviews.text')"
   ]
  },
  {
   "cell_type": "code",
   "execution_count": 83,
   "id": "7e77f9c3",
   "metadata": {},
   "outputs": [
    {
     "name": "stdout",
     "output_type": "stream",
     "text": [
      "+------+--------------------+\n",
      "|rating|                text|\n",
      "+------+--------------------+\n",
      "|     5|This keyboard is ...|\n",
      "|     4|It's thin and lig...|\n",
      "|     4|I love the new de...|\n",
      "|     5|Attached easily a...|\n",
      "|     5|Our original keyb...|\n",
      "|     5|purchased to repl...|\n",
      "|     4|I find it very co...|\n",
      "|     3|Good Keyboard and...|\n",
      "|     4|tough getting it ...|\n",
      "|     5|I can now quickly...|\n",
      "|     5|A must have acces...|\n",
      "|     4|Fingerprint scann...|\n",
      "|     4|The keyboard feel...|\n",
      "|     4|I really like the...|\n",
      "|     4|Good product but ...|\n",
      "|     5|Best keyboard. A ...|\n",
      "|     5|Keyboard works pe...|\n",
      "|     5|Coming from mecha...|\n",
      "|     4|Keyboard is solid...|\n",
      "|     5|I did not get the...|\n",
      "+------+--------------------+\n",
      "only showing top 20 rows\n",
      "\n"
     ]
    }
   ],
   "source": [
    "sdf.show()"
   ]
  },
  {
   "cell_type": "code",
   "execution_count": 84,
   "id": "798a1488",
   "metadata": {},
   "outputs": [],
   "source": [
    "# Dropping the null value columns\n",
    "ssdf = sdf.toPandas()\n",
    "dfr = ssdf.dropna()\n"
   ]
  },
  {
   "cell_type": "code",
   "execution_count": 85,
   "id": "b4d4f49a",
   "metadata": {},
   "outputs": [
    {
     "data": {
      "text/html": [
       "<div>\n",
       "<style scoped>\n",
       "    .dataframe tbody tr th:only-of-type {\n",
       "        vertical-align: middle;\n",
       "    }\n",
       "\n",
       "    .dataframe tbody tr th {\n",
       "        vertical-align: top;\n",
       "    }\n",
       "\n",
       "    .dataframe thead th {\n",
       "        text-align: right;\n",
       "    }\n",
       "</style>\n",
       "<table border=\"1\" class=\"dataframe\">\n",
       "  <thead>\n",
       "    <tr style=\"text-align: right;\">\n",
       "      <th></th>\n",
       "      <th>rating</th>\n",
       "      <th>text</th>\n",
       "    </tr>\n",
       "  </thead>\n",
       "  <tbody>\n",
       "    <tr>\n",
       "      <th>0</th>\n",
       "      <td>5</td>\n",
       "      <td>This keyboard is very easy to type on, but the...</td>\n",
       "    </tr>\n",
       "    <tr>\n",
       "      <th>1</th>\n",
       "      <td>4</td>\n",
       "      <td>It's thin and light. I can type pretty easily ...</td>\n",
       "    </tr>\n",
       "    <tr>\n",
       "      <th>2</th>\n",
       "      <td>4</td>\n",
       "      <td>I love the new design the keys are spaced well...</td>\n",
       "    </tr>\n",
       "    <tr>\n",
       "      <th>3</th>\n",
       "      <td>5</td>\n",
       "      <td>Attached easily and firmly. Has a nice feel. A...</td>\n",
       "    </tr>\n",
       "    <tr>\n",
       "      <th>4</th>\n",
       "      <td>5</td>\n",
       "      <td>Our original keyboard was okay, but did not ha...</td>\n",
       "    </tr>\n",
       "  </tbody>\n",
       "</table>\n",
       "</div>"
      ],
      "text/plain": [
       "  rating                                               text\n",
       "0      5  This keyboard is very easy to type on, but the...\n",
       "1      4  It's thin and light. I can type pretty easily ...\n",
       "2      4  I love the new design the keys are spaced well...\n",
       "3      5  Attached easily and firmly. Has a nice feel. A...\n",
       "4      5  Our original keyboard was okay, but did not ha..."
      ]
     },
     "execution_count": 85,
     "metadata": {},
     "output_type": "execute_result"
    }
   ],
   "source": [
    "ssdf.head()"
   ]
  },
  {
   "cell_type": "code",
   "execution_count": 86,
   "id": "a5b3d215",
   "metadata": {},
   "outputs": [
    {
     "data": {
      "text/html": [
       "<div>\n",
       "<style scoped>\n",
       "    .dataframe tbody tr th:only-of-type {\n",
       "        vertical-align: middle;\n",
       "    }\n",
       "\n",
       "    .dataframe tbody tr th {\n",
       "        vertical-align: top;\n",
       "    }\n",
       "\n",
       "    .dataframe thead th {\n",
       "        text-align: right;\n",
       "    }\n",
       "</style>\n",
       "<table border=\"1\" class=\"dataframe\">\n",
       "  <thead>\n",
       "    <tr style=\"text-align: right;\">\n",
       "      <th></th>\n",
       "      <th>rating</th>\n",
       "      <th>text</th>\n",
       "    </tr>\n",
       "  </thead>\n",
       "  <tbody>\n",
       "    <tr>\n",
       "      <th>0</th>\n",
       "      <td>5</td>\n",
       "      <td>This keyboard is very easy to type on, but the...</td>\n",
       "    </tr>\n",
       "    <tr>\n",
       "      <th>1</th>\n",
       "      <td>4</td>\n",
       "      <td>It's thin and light. I can type pretty easily ...</td>\n",
       "    </tr>\n",
       "    <tr>\n",
       "      <th>2</th>\n",
       "      <td>4</td>\n",
       "      <td>I love the new design the keys are spaced well...</td>\n",
       "    </tr>\n",
       "    <tr>\n",
       "      <th>3</th>\n",
       "      <td>5</td>\n",
       "      <td>Attached easily and firmly. Has a nice feel. A...</td>\n",
       "    </tr>\n",
       "    <tr>\n",
       "      <th>4</th>\n",
       "      <td>5</td>\n",
       "      <td>Our original keyboard was okay, but did not ha...</td>\n",
       "    </tr>\n",
       "  </tbody>\n",
       "</table>\n",
       "</div>"
      ],
      "text/plain": [
       "  rating                                               text\n",
       "0      5  This keyboard is very easy to type on, but the...\n",
       "1      4  It's thin and light. I can type pretty easily ...\n",
       "2      4  I love the new design the keys are spaced well...\n",
       "3      5  Attached easily and firmly. Has a nice feel. A...\n",
       "4      5  Our original keyboard was okay, but did not ha..."
      ]
     },
     "execution_count": 86,
     "metadata": {},
     "output_type": "execute_result"
    }
   ],
   "source": [
    "dfr.head()"
   ]
  },
  {
   "cell_type": "code",
   "execution_count": 87,
   "id": "63e64c4a",
   "metadata": {},
   "outputs": [],
   "source": [
    "# dropping null values\n",
    "sdf = sdf.dropna()"
   ]
  },
  {
   "cell_type": "code",
   "execution_count": 88,
   "id": "cc2ac6a0",
   "metadata": {},
   "outputs": [
    {
     "name": "stdout",
     "output_type": "stream",
     "text": [
      "+------+--------------------+\n",
      "|rating|                text|\n",
      "+------+--------------------+\n",
      "|     5|This keyboard is ...|\n",
      "|     4|It's thin and lig...|\n",
      "|     4|I love the new de...|\n",
      "|     5|Attached easily a...|\n",
      "|     5|Our original keyb...|\n",
      "|     5|purchased to repl...|\n",
      "|     4|I find it very co...|\n",
      "|     3|Good Keyboard and...|\n",
      "|     4|tough getting it ...|\n",
      "|     5|I can now quickly...|\n",
      "|     5|A must have acces...|\n",
      "|     4|Fingerprint scann...|\n",
      "|     4|The keyboard feel...|\n",
      "|     4|I really like the...|\n",
      "|     4|Good product but ...|\n",
      "|     5|Best keyboard. A ...|\n",
      "|     5|Keyboard works pe...|\n",
      "|     5|Coming from mecha...|\n",
      "|     4|Keyboard is solid...|\n",
      "|     5|I did not get the...|\n",
      "+------+--------------------+\n",
      "only showing top 20 rows\n",
      "\n"
     ]
    }
   ],
   "source": [
    "sdf.show()"
   ]
  },
  {
   "cell_type": "code",
   "execution_count": 89,
   "id": "db405caa",
   "metadata": {},
   "outputs": [
    {
     "data": {
      "text/plain": [
       "[('rating', 'string'), ('text', 'string')]"
      ]
     },
     "execution_count": 89,
     "metadata": {},
     "output_type": "execute_result"
    }
   ],
   "source": [
    "#datatypes\n",
    "sdf.dtypes"
   ]
  },
  {
   "cell_type": "markdown",
   "id": "14bcecf9",
   "metadata": {},
   "source": [
    "Analysing with vader sentiment analysis and assignig polarity to the data"
   ]
  },
  {
   "cell_type": "code",
   "execution_count": 90,
   "id": "7920b419",
   "metadata": {},
   "outputs": [],
   "source": [
    "# Sentiment classification\n",
    "rdf = sdf.toPandas()\n",
    "sentiments = pd.DataFrame(list(rdf.text.apply(lambda x: vaderSentiment.SentimentIntensityAnalyzer().polarity_scores(x))))"
   ]
  },
  {
   "cell_type": "code",
   "execution_count": 91,
   "id": "7b92021f",
   "metadata": {},
   "outputs": [
    {
     "data": {
      "text/html": [
       "<div>\n",
       "<style scoped>\n",
       "    .dataframe tbody tr th:only-of-type {\n",
       "        vertical-align: middle;\n",
       "    }\n",
       "\n",
       "    .dataframe tbody tr th {\n",
       "        vertical-align: top;\n",
       "    }\n",
       "\n",
       "    .dataframe thead th {\n",
       "        text-align: right;\n",
       "    }\n",
       "</style>\n",
       "<table border=\"1\" class=\"dataframe\">\n",
       "  <thead>\n",
       "    <tr style=\"text-align: right;\">\n",
       "      <th></th>\n",
       "      <th>neg</th>\n",
       "      <th>neu</th>\n",
       "      <th>pos</th>\n",
       "      <th>compound</th>\n",
       "    </tr>\n",
       "  </thead>\n",
       "  <tbody>\n",
       "    <tr>\n",
       "      <th>0</th>\n",
       "      <td>0.000</td>\n",
       "      <td>0.727</td>\n",
       "      <td>0.273</td>\n",
       "      <td>0.8358</td>\n",
       "    </tr>\n",
       "    <tr>\n",
       "      <th>1</th>\n",
       "      <td>0.000</td>\n",
       "      <td>0.616</td>\n",
       "      <td>0.384</td>\n",
       "      <td>0.6808</td>\n",
       "    </tr>\n",
       "    <tr>\n",
       "      <th>2</th>\n",
       "      <td>0.060</td>\n",
       "      <td>0.686</td>\n",
       "      <td>0.253</td>\n",
       "      <td>0.7925</td>\n",
       "    </tr>\n",
       "    <tr>\n",
       "      <th>3</th>\n",
       "      <td>0.000</td>\n",
       "      <td>0.698</td>\n",
       "      <td>0.302</td>\n",
       "      <td>0.6369</td>\n",
       "    </tr>\n",
       "    <tr>\n",
       "      <th>4</th>\n",
       "      <td>0.000</td>\n",
       "      <td>0.853</td>\n",
       "      <td>0.147</td>\n",
       "      <td>0.4588</td>\n",
       "    </tr>\n",
       "    <tr>\n",
       "      <th>...</th>\n",
       "      <td>...</td>\n",
       "      <td>...</td>\n",
       "      <td>...</td>\n",
       "      <td>...</td>\n",
       "    </tr>\n",
       "    <tr>\n",
       "      <th>7125</th>\n",
       "      <td>0.034</td>\n",
       "      <td>0.741</td>\n",
       "      <td>0.225</td>\n",
       "      <td>0.9836</td>\n",
       "    </tr>\n",
       "    <tr>\n",
       "      <th>7126</th>\n",
       "      <td>0.000</td>\n",
       "      <td>0.654</td>\n",
       "      <td>0.346</td>\n",
       "      <td>0.6478</td>\n",
       "    </tr>\n",
       "    <tr>\n",
       "      <th>7127</th>\n",
       "      <td>0.000</td>\n",
       "      <td>0.490</td>\n",
       "      <td>0.510</td>\n",
       "      <td>0.8070</td>\n",
       "    </tr>\n",
       "    <tr>\n",
       "      <th>7128</th>\n",
       "      <td>0.000</td>\n",
       "      <td>0.833</td>\n",
       "      <td>0.167</td>\n",
       "      <td>0.7778</td>\n",
       "    </tr>\n",
       "    <tr>\n",
       "      <th>7129</th>\n",
       "      <td>0.000</td>\n",
       "      <td>0.642</td>\n",
       "      <td>0.358</td>\n",
       "      <td>0.6908</td>\n",
       "    </tr>\n",
       "  </tbody>\n",
       "</table>\n",
       "<p>7130 rows × 4 columns</p>\n",
       "</div>"
      ],
      "text/plain": [
       "        neg    neu    pos  compound\n",
       "0     0.000  0.727  0.273    0.8358\n",
       "1     0.000  0.616  0.384    0.6808\n",
       "2     0.060  0.686  0.253    0.7925\n",
       "3     0.000  0.698  0.302    0.6369\n",
       "4     0.000  0.853  0.147    0.4588\n",
       "...     ...    ...    ...       ...\n",
       "7125  0.034  0.741  0.225    0.9836\n",
       "7126  0.000  0.654  0.346    0.6478\n",
       "7127  0.000  0.490  0.510    0.8070\n",
       "7128  0.000  0.833  0.167    0.7778\n",
       "7129  0.000  0.642  0.358    0.6908\n",
       "\n",
       "[7130 rows x 4 columns]"
      ]
     },
     "execution_count": 91,
     "metadata": {},
     "output_type": "execute_result"
    }
   ],
   "source": [
    "sentiments"
   ]
  },
  {
   "cell_type": "markdown",
   "id": "c40313dd",
   "metadata": {},
   "source": [
    "Analysing and visualizing based on positive and negative sentiments average values"
   ]
  },
  {
   "cell_type": "code",
   "execution_count": 92,
   "id": "172a70b9",
   "metadata": {},
   "outputs": [
    {
     "data": {
      "image/png": "[encoded data removed]",
      "text/plain": [
       "<Figure size 720x360 with 1 Axes>"
      ]
     },
     "metadata": {},
     "output_type": "display_data"
    }
   ],
   "source": [
    "#Ratings processing\n",
    "sentiments['Target'] = list(rdf['rating'])\n",
    "sentiments = sentiments.loc[sentiments.Target != 3,]\n",
    "sentiments['Target'] = sentiments['Target'].astype('int')\n",
    "sentiments.Target = sentiments.Target.apply(lambda x: 1 if x>3 else 0)\n",
    "\n",
    "# Plotting the postive and negative sentiments average values from Vader Sentiment library\n",
    "plt.rcParams['figure.figsize'] = (10.0, 5.0)\n",
    "sentiments.groupby('Target').mean().plot(kind='bar',alpha=0.75, rot=0,color = ['b','r','y','g']);\n",
    "plt.suptitle('Vader Sentiment Analysis', fontsize=20)\n",
    "plt.axvline(0.5, color='black');"
   ]
  },
  {
   "cell_type": "markdown",
   "id": "6859c1c2",
   "metadata": {},
   "source": [
    "Data after assigning of polarity"
   ]
  },
  {
   "cell_type": "code",
   "execution_count": 93,
   "id": "af11e2c1",
   "metadata": {},
   "outputs": [
    {
     "data": {
      "text/html": [
       "<div>\n",
       "<style scoped>\n",
       "    .dataframe tbody tr th:only-of-type {\n",
       "        vertical-align: middle;\n",
       "    }\n",
       "\n",
       "    .dataframe tbody tr th {\n",
       "        vertical-align: top;\n",
       "    }\n",
       "\n",
       "    .dataframe thead th {\n",
       "        text-align: right;\n",
       "    }\n",
       "</style>\n",
       "<table border=\"1\" class=\"dataframe\">\n",
       "  <thead>\n",
       "    <tr style=\"text-align: right;\">\n",
       "      <th></th>\n",
       "      <th>neg</th>\n",
       "      <th>neu</th>\n",
       "      <th>pos</th>\n",
       "      <th>compound</th>\n",
       "      <th>Target</th>\n",
       "    </tr>\n",
       "  </thead>\n",
       "  <tbody>\n",
       "    <tr>\n",
       "      <th>0</th>\n",
       "      <td>0.000</td>\n",
       "      <td>0.727</td>\n",
       "      <td>0.273</td>\n",
       "      <td>0.8358</td>\n",
       "      <td>1</td>\n",
       "    </tr>\n",
       "    <tr>\n",
       "      <th>1</th>\n",
       "      <td>0.000</td>\n",
       "      <td>0.616</td>\n",
       "      <td>0.384</td>\n",
       "      <td>0.6808</td>\n",
       "      <td>1</td>\n",
       "    </tr>\n",
       "    <tr>\n",
       "      <th>2</th>\n",
       "      <td>0.060</td>\n",
       "      <td>0.686</td>\n",
       "      <td>0.253</td>\n",
       "      <td>0.7925</td>\n",
       "      <td>1</td>\n",
       "    </tr>\n",
       "    <tr>\n",
       "      <th>3</th>\n",
       "      <td>0.000</td>\n",
       "      <td>0.698</td>\n",
       "      <td>0.302</td>\n",
       "      <td>0.6369</td>\n",
       "      <td>1</td>\n",
       "    </tr>\n",
       "    <tr>\n",
       "      <th>4</th>\n",
       "      <td>0.000</td>\n",
       "      <td>0.853</td>\n",
       "      <td>0.147</td>\n",
       "      <td>0.4588</td>\n",
       "      <td>1</td>\n",
       "    </tr>\n",
       "    <tr>\n",
       "      <th>...</th>\n",
       "      <td>...</td>\n",
       "      <td>...</td>\n",
       "      <td>...</td>\n",
       "      <td>...</td>\n",
       "      <td>...</td>\n",
       "    </tr>\n",
       "    <tr>\n",
       "      <th>7125</th>\n",
       "      <td>0.034</td>\n",
       "      <td>0.741</td>\n",
       "      <td>0.225</td>\n",
       "      <td>0.9836</td>\n",
       "      <td>1</td>\n",
       "    </tr>\n",
       "    <tr>\n",
       "      <th>7126</th>\n",
       "      <td>0.000</td>\n",
       "      <td>0.654</td>\n",
       "      <td>0.346</td>\n",
       "      <td>0.6478</td>\n",
       "      <td>1</td>\n",
       "    </tr>\n",
       "    <tr>\n",
       "      <th>7127</th>\n",
       "      <td>0.000</td>\n",
       "      <td>0.490</td>\n",
       "      <td>0.510</td>\n",
       "      <td>0.8070</td>\n",
       "      <td>1</td>\n",
       "    </tr>\n",
       "    <tr>\n",
       "      <th>7128</th>\n",
       "      <td>0.000</td>\n",
       "      <td>0.833</td>\n",
       "      <td>0.167</td>\n",
       "      <td>0.7778</td>\n",
       "      <td>1</td>\n",
       "    </tr>\n",
       "    <tr>\n",
       "      <th>7129</th>\n",
       "      <td>0.000</td>\n",
       "      <td>0.642</td>\n",
       "      <td>0.358</td>\n",
       "      <td>0.6908</td>\n",
       "      <td>1</td>\n",
       "    </tr>\n",
       "  </tbody>\n",
       "</table>\n",
       "<p>7130 rows × 5 columns</p>\n",
       "</div>"
      ],
      "text/plain": [
       "        neg    neu    pos  compound  Target\n",
       "0     0.000  0.727  0.273    0.8358       1\n",
       "1     0.000  0.616  0.384    0.6808       1\n",
       "2     0.060  0.686  0.253    0.7925       1\n",
       "3     0.000  0.698  0.302    0.6369       1\n",
       "4     0.000  0.853  0.147    0.4588       1\n",
       "...     ...    ...    ...       ...     ...\n",
       "7125  0.034  0.741  0.225    0.9836       1\n",
       "7126  0.000  0.654  0.346    0.6478       1\n",
       "7127  0.000  0.490  0.510    0.8070       1\n",
       "7128  0.000  0.833  0.167    0.7778       1\n",
       "7129  0.000  0.642  0.358    0.6908       1\n",
       "\n",
       "[7130 rows x 5 columns]"
      ]
     },
     "execution_count": 93,
     "metadata": {},
     "output_type": "execute_result"
    }
   ],
   "source": [
    "sentiments"
   ]
  },
  {
   "cell_type": "markdown",
   "id": "1e84b161",
   "metadata": {},
   "source": [
    "Filtering the data based on reviews and ratings"
   ]
  },
  {
   "cell_type": "code",
   "execution_count": 94,
   "id": "ea766fcf",
   "metadata": {},
   "outputs": [],
   "source": [
    "stemmer = PorterStemmer()"
   ]
  },
  {
   "cell_type": "code",
   "execution_count": 95,
   "id": "04ae516d",
   "metadata": {},
   "outputs": [
    {
     "name": "stdout",
     "output_type": "stream",
     "text": [
      "+--------------------+------+\n",
      "|                text|Target|\n",
      "+--------------------+------+\n",
      "|This keyboard is ...|     1|\n",
      "|It's thin and lig...|     1|\n",
      "+--------------------+------+\n",
      "only showing top 2 rows\n",
      "\n"
     ]
    }
   ],
   "source": [
    "textmsg = sdf.filter(sdf.rating != \"3\").select('rating','text')\n",
    "textmsg = textmsg.withColumn(\"rating\", textmsg[\"rating\"].cast(DoubleType()))\n",
    "\n",
    "#Converting score to a binary positive - 1 and negative - 0 feature\n",
    "def toBinary(score):\n",
    "    if score >= 3: return 1\n",
    "    else: return 0\n",
    "udfScoretoBinary=udf(toBinary, StringType())\n",
    "\n",
    "textmsg = textmsg.withColumn(\"Target\", udfScoretoBinary(\"rating\")).select('text','Target')\n",
    "textmsg.show(2)"
   ]
  },
  {
   "cell_type": "code",
   "execution_count": 96,
   "id": "b0e6b5c8",
   "metadata": {},
   "outputs": [
    {
     "data": {
      "text/plain": [
       "[('text', 'string'), ('Target', 'string')]"
      ]
     },
     "execution_count": 96,
     "metadata": {},
     "output_type": "execute_result"
    }
   ],
   "source": [
    "textmsg.dtypes"
   ]
  },
  {
   "cell_type": "markdown",
   "id": "96bd0e3b",
   "metadata": {},
   "source": [
    "Converting into lower case letters"
   ]
  },
  {
   "cell_type": "code",
   "execution_count": 97,
   "id": "b94c9d8a",
   "metadata": {},
   "outputs": [],
   "source": [
    "def lower_text(line):\n",
    "    return line.lower()\n",
    "udflower_text=udf(lower_text, StringType())\n",
    "text_lowercase = textmsg.withColumn(\"lower_text\", udflower_text(\"text\")).select('lower_text','Target')"
   ]
  },
  {
   "cell_type": "markdown",
   "id": "6b4efc8f",
   "metadata": {},
   "source": [
    "Tokenizing the lower case text into words"
   ]
  },
  {
   "cell_type": "code",
   "execution_count": 98,
   "id": "01a84b86",
   "metadata": {},
   "outputs": [
    {
     "name": "stdout",
     "output_type": "stream",
     "text": [
      "+--------------------+------+--------------------+\n",
      "|          lower_text|Target|               words|\n",
      "+--------------------+------+--------------------+\n",
      "|this keyboard is ...|     1|[this, keyboard, ...|\n",
      "|it's thin and lig...|     1|[it's, thin, and,...|\n",
      "|i love the new de...|     1|[i, love, the, ne...|\n",
      "|attached easily a...|     1|[attached, easily...|\n",
      "|our original keyb...|     1|[our, original, k...|\n",
      "|purchased to repl...|     1|[purchased, to, r...|\n",
      "|i find it very co...|     1|[i, find, it, ver...|\n",
      "|tough getting it ...|     1|[tough, getting, ...|\n",
      "|i can now quickly...|     1|[i, can, now, qui...|\n",
      "|a must have acces...|     1|[a, must, have, a...|\n",
      "|fingerprint scann...|     1|[fingerprint, sca...|\n",
      "|the keyboard feel...|     1|[the, keyboard, f...|\n",
      "|i really like the...|     1|[i, really, like,...|\n",
      "|good product but ...|     1|[good, product, b...|\n",
      "|best keyboard. a ...|     1|[best, keyboard.,...|\n",
      "|keyboard works pe...|     1|[keyboard, works,...|\n",
      "|coming from mecha...|     1|[coming, from, me...|\n",
      "|keyboard is solid...|     1|[keyboard, is, so...|\n",
      "|i did not get the...|     1|[i, did, not, get...|\n",
      "|it's a good keybo...|     1|[it's, a, good, k...|\n",
      "+--------------------+------+--------------------+\n",
      "only showing top 20 rows\n",
      "\n"
     ]
    }
   ],
   "source": [
    "# Tokenizing\n",
    "tokenizer = Tokenizer(inputCol=\"lower_text\", outputCol=\"words\")\n",
    "wordsDataFrame = tokenizer.transform(text_lowercase)\n",
    "wordsDataFrame.show()"
   ]
  },
  {
   "cell_type": "markdown",
   "id": "307be99e",
   "metadata": {},
   "source": [
    "Removing the stop words and filtering the words from uncessary words"
   ]
  },
  {
   "cell_type": "code",
   "execution_count": 99,
   "id": "8ea377c2",
   "metadata": {},
   "outputs": [
    {
     "name": "stdout",
     "output_type": "stream",
     "text": [
      "+------+--------------------+\n",
      "|Target|      words_filtered|\n",
      "+------+--------------------+\n",
      "|     1|[keyboard, easy, ...|\n",
      "|     1|[thin, light., ty...|\n",
      "|     1|[love, new, desig...|\n",
      "|     1|[attached, easily...|\n",
      "|     1|[original, keyboa...|\n",
      "|     1|[purchased, repla...|\n",
      "|     1|[find, comfortabl...|\n",
      "|     1|[tough, getting, ...|\n",
      "|     1|[quickly, hassle,...|\n",
      "|     1|[must, accessory,...|\n",
      "|     1|[fingerprint, sca...|\n",
      "|     1|[keyboard, feels,...|\n",
      "|     1|[really, like, fi...|\n",
      "|     1|[good, product, e...|\n",
      "|     1|[best, keyboard.,...|\n",
      "|     1|[keyboard, works,...|\n",
      "|     1|[coming, mechanic...|\n",
      "|     1|[keyboard, solid,...|\n",
      "|     1|[get, surface, pr...|\n",
      "|     1|[good, keyboard.,...|\n",
      "+------+--------------------+\n",
      "only showing top 20 rows\n",
      "\n"
     ]
    }
   ],
   "source": [
    "# Removing stop words\n",
    "remover = StopWordsRemover(inputCol=\"words\", outputCol=\"words_filtered\")\n",
    "wordsDataFrame1 = remover.transform(wordsDataFrame).select(\"Target\",\"words_filtered\")\n",
    "wordsDataFrame1.show()"
   ]
  },
  {
   "cell_type": "markdown",
   "id": "fefc3d91",
   "metadata": {},
   "source": [
    "Joining the tokens for final prediction"
   ]
  },
  {
   "cell_type": "code",
   "execution_count": 100,
   "id": "c67fdebc",
   "metadata": {},
   "outputs": [
    {
     "name": "stdout",
     "output_type": "stream",
     "text": [
      "+--------------------+------+\n",
      "|          final_text|Target|\n",
      "+--------------------+------+\n",
      "|keyboard easi typ...|     1|\n",
      "|thin light. type ...|     1|\n",
      "|love new design k...|     1|\n",
      "|attach easili fir...|     1|\n",
      "|origin keyboard o...|     1|\n",
      "|purchas replac or...|     1|\n",
      "|find comfort type...|     1|\n",
      "|tough get work su...|     1|\n",
      "|quickli hassl fre...|     1|\n",
      "|must accessori su...|     1|\n",
      "|fingerprint scann...|     1|\n",
      "|keyboard feel sur...|     1|\n",
      "|realli like finge...|     1|\n",
      "|good product expe...|     1|\n",
      "|best keyboard. mu...|     1|\n",
      "|keyboard work per...|     1|\n",
      "|come mechan switc...|     1|\n",
      "|keyboard solid wo...|     1|\n",
      "|get surfac pro 4 ...|     1|\n",
      "|good keyboard. li...|     1|\n",
      "+--------------------+------+\n",
      "only showing top 20 rows\n",
      "\n"
     ]
    }
   ],
   "source": [
    "def stem_tokens(tokens):\n",
    "    return [stemmer.stem(item) for item in tokens]\n",
    "def stem_text(tokens):\n",
    "    stems = stem_tokens(tokens)\n",
    "    return ' '.join(stems)\n",
    "\n",
    "udfstem_text=udf(stem_text, StringType())\n",
    "wordsDataFrame2 = wordsDataFrame1.withColumn(\"final_text\", udfstem_text(\"words_filtered\")).select('final_text','Target')\n",
    "wordsDataFrame2.show()"
   ]
  },
  {
   "cell_type": "markdown",
   "id": "2e3df925",
   "metadata": {},
   "source": [
    "## Modeling"
   ]
  },
  {
   "cell_type": "markdown",
   "id": "3df0d85c",
   "metadata": {},
   "source": [
    "From training data, initially tokenizing, hashing, performing idf and logistic regression model "
   ]
  },
  {
   "cell_type": "code",
   "execution_count": 101,
   "id": "82052f66",
   "metadata": {},
   "outputs": [],
   "source": [
    "wordsDataFrame2.cache()\n",
    "#Renaming features for logreg_modeling\n",
    "sdf_train = wordsDataFrame2.selectExpr(\"final_text as text\", \"Target as label\")\n",
    "sdf_train = sdf_train.withColumn(\"label\", sdf_train[\"label\"].cast(DoubleType()))\n",
    "tokenizer = Tokenizer(inputCol=\"text\", outputCol=\"words\")\n",
    "hashingTF = HashingTF(inputCol=tokenizer.getOutputCol(), outputCol=\"hashing\")\n",
    "idf = IDF(inputCol=hashingTF.getOutputCol(), outputCol=\"features\")\n",
    "lr = LogisticRegression(maxIter=10, regParam=0.01)\n",
    "pipeline = Pipeline(stages=[tokenizer, hashingTF, idf, lr])\n",
    "# sdf_train the logreg_model\n",
    "logred_model = pipeline.fit(sdf_train)"
   ]
  },
  {
   "cell_type": "markdown",
   "id": "6b8c5196",
   "metadata": {},
   "source": [
    "Predicting the model and cross validating the model with final results"
   ]
  },
  {
   "cell_type": "code",
   "execution_count": 102,
   "id": "88773409",
   "metadata": {},
   "outputs": [
    {
     "data": {
      "text/plain": [
       "[0.8750559819610355,\n",
       " 0.8535765898145584,\n",
       " 0.8508940767256269,\n",
       " 0.8921169691242505,\n",
       " 0.8448428853346371,\n",
       " 0.843305381567491]"
      ]
     },
     "execution_count": 102,
     "metadata": {},
     "output_type": "execute_result"
    }
   ],
   "source": [
    "prediction = logred_model.transform(sdf_train)\n",
    "tokenizer = Tokenizer(inputCol=\"text\", outputCol=\"words\")\n",
    "hashingTF = HashingTF(inputCol=tokenizer.getOutputCol(), outputCol=\"hashing\")\n",
    "idf = IDF(inputCol=hashingTF.getOutputCol(), outputCol=\"features\")\n",
    "lr = LogisticRegression(maxIter=10, regParam=0.01)\n",
    "pipeline = Pipeline(stages=[tokenizer, hashingTF, idf, lr])\n",
    "# sdf_train the logreg_model\n",
    "paramGrid = ParamGridBuilder()\\\n",
    "    .addGrid(lr.regParam, [0.1, 0.01,.001,1,100,200]) \\\n",
    "    .build()\n",
    "crossval = CrossValidator(estimator=pipeline,\n",
    "                          estimatorParamMaps=paramGrid,\n",
    "                          evaluator=BinaryClassificationEvaluator()  ,\n",
    "                          numFolds=5)\n",
    "logred_model = crossval.fit(sdf_train)\n",
    "logred_model.avgMetrics"
   ]
  },
  {
   "cell_type": "markdown",
   "id": "5a0a8e0c",
   "metadata": {},
   "source": [
    "Overall, the maximum accuracy metric for the model so far found to be 89% for electronics products wiith logistic regression."
   ]
  },
  {
   "cell_type": "markdown",
   "id": "47d57649",
   "metadata": {},
   "source": [
    "## References: "
   ]
  },
  {
   "cell_type": "markdown",
   "id": "f8c65c4c",
   "metadata": {},
   "source": [
    "https://github.com/aayushmnit/big-data-project/blob/master/PySpark-Text%20Analytics%20on%20Amazon%20Reviews%20-%20Draft1.ipynb\n",
    "\n",
    "https://data.world/datafiniti/amazon-and-best-buy-electronics\n",
    "\n",
    "https://www.kaggle.com/datasets/nguyenngocphung/10000-amazon-products-dataset\n",
    "\n",
    "https://sparkbyexamples.com/\n",
    "\n",
    "https://stackoverflow.com/questions/50963444/failed-to-find-data-source-com-mongodb-spark-sql-defaultsource"
   ]
  },
  {
   "cell_type": "code",
   "execution_count": null,
   "id": "c954d481",
   "metadata": {},
   "outputs": [],
   "source": []
  }
 ],
 "metadata": {
  "kernelspec": {
   "display_name": "Python 3",
   "language": "python",
   "name": "python3"
  },
  "language_info": {
   "codemirror_mode": {
    "name": "ipython",
    "version": 3
   },
   "file_extension": ".py",
   "mimetype": "text/x-python",
   "name": "python",
   "nbconvert_exporter": "python",
   "pygments_lexer": "ipython3",
   "version": "3.8.8"
  }
 },
 "nbformat": 4,
 "nbformat_minor": 5
}
